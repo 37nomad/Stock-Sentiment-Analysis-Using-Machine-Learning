{
 "cells": [
  {
   "cell_type": "code",
   "execution_count": 1,
   "id": "ac4c250b-706b-407b-9367-9f33cc6baf90",
   "metadata": {},
   "outputs": [],
   "source": [
    "import pandas as pd"
   ]
  },
  {
   "cell_type": "code",
   "execution_count": null,
   "id": "f666d602-6cac-4be3-804a-23aa7267f02b",
   "metadata": {},
   "outputs": [],
   "source": []
  },
  {
   "cell_type": "code",
   "execution_count": null,
   "id": "29a8b924-e778-42a4-9a89-4eb991897c17",
   "metadata": {},
   "outputs": [],
   "source": []
  },
  {
   "cell_type": "code",
   "execution_count": null,
   "id": "87f4e4e3-6835-411c-ac4d-7b78cf931666",
   "metadata": {},
   "outputs": [],
   "source": []
  },
  {
   "cell_type": "code",
   "execution_count": null,
   "id": "bfce109b-8302-425e-93bf-b413276e5b40",
   "metadata": {},
   "outputs": [],
   "source": []
  },
  {
   "cell_type": "code",
   "execution_count": null,
   "id": "b421d7f7-b4c3-4224-bec1-b4c0da3600f7",
   "metadata": {},
   "outputs": [],
   "source": []
  },
  {
   "cell_type": "code",
   "execution_count": 2,
   "id": "2e88286d-2550-4d0e-ae82-ea073569c787",
   "metadata": {},
   "outputs": [],
   "source": [
    "df1=pd.read_csv(r\"C:\\Users\\Jaya Teja\\Finance_Project\\Final datasets\\AAPL_final.csv\")\n",
    "df2=pd.read_csv(r\"C:\\Users\\Jaya Teja\\Finance_Project\\Final datasets\\AMZN_final.csv\")\n",
    "df3=pd.read_csv(r\"C:\\Users\\Jaya Teja\\Finance_Project\\Final datasets\\TSLA_final.csv\")"
   ]
  },
  {
   "cell_type": "markdown",
   "id": "ee29a730-4f84-4ae9-aab7-858000478027",
   "metadata": {},
   "source": [
    "1- Apple  \n",
    "2- Amazon  \n",
    "3- Tesla  "
   ]
  },
  {
   "cell_type": "code",
   "execution_count": 3,
   "id": "6c6f0b58-e8e1-4d8f-96e0-95ea54e9ae94",
   "metadata": {},
   "outputs": [],
   "source": [
    "# The reason for mentioning comapnies with name is for final judging process of the entire portfolio as the dataset will be divided for test "
   ]
  },
  {
   "cell_type": "code",
   "execution_count": 4,
   "id": "a724d349-70ee-4984-b73a-85e53301c68b",
   "metadata": {},
   "outputs": [],
   "source": [
    "df1['Company']=1"
   ]
  },
  {
   "cell_type": "code",
   "execution_count": 5,
   "id": "8dc5d0d7-2ae9-420e-844d-02e15ce1d601",
   "metadata": {},
   "outputs": [
    {
     "data": {
      "text/html": [
       "<div>\n",
       "<style scoped>\n",
       "    .dataframe tbody tr th:only-of-type {\n",
       "        vertical-align: middle;\n",
       "    }\n",
       "\n",
       "    .dataframe tbody tr th {\n",
       "        vertical-align: top;\n",
       "    }\n",
       "\n",
       "    .dataframe thead th {\n",
       "        text-align: right;\n",
       "    }\n",
       "</style>\n",
       "<table border=\"1\" class=\"dataframe\">\n",
       "  <thead>\n",
       "    <tr style=\"text-align: right;\">\n",
       "      <th></th>\n",
       "      <th>Unnamed: 0</th>\n",
       "      <th>Date</th>\n",
       "      <th>Open</th>\n",
       "      <th>High</th>\n",
       "      <th>Low</th>\n",
       "      <th>Close</th>\n",
       "      <th>Adj Close</th>\n",
       "      <th>Volume</th>\n",
       "      <th>title</th>\n",
       "      <th>Label</th>\n",
       "      <th>Company</th>\n",
       "    </tr>\n",
       "  </thead>\n",
       "  <tbody>\n",
       "    <tr>\n",
       "      <th>0</th>\n",
       "      <td>0</td>\n",
       "      <td>2022-01-03</td>\n",
       "      <td>177.830002</td>\n",
       "      <td>182.880005</td>\n",
       "      <td>177.710007</td>\n",
       "      <td>182.009995</td>\n",
       "      <td>179.481140</td>\n",
       "      <td>104487900</td>\n",
       "      <td>What A 'Strong' Apple 2022 Product Line Up Cou...</td>\n",
       "      <td>1</td>\n",
       "      <td>1</td>\n",
       "    </tr>\n",
       "    <tr>\n",
       "      <th>1</th>\n",
       "      <td>1</td>\n",
       "      <td>2022-01-04</td>\n",
       "      <td>182.630005</td>\n",
       "      <td>182.940002</td>\n",
       "      <td>179.119995</td>\n",
       "      <td>179.699997</td>\n",
       "      <td>177.203217</td>\n",
       "      <td>99310400</td>\n",
       "      <td>Is $3 Trillion Just the Beginning for Apple? A...</td>\n",
       "      <td>0</td>\n",
       "      <td>1</td>\n",
       "    </tr>\n",
       "    <tr>\n",
       "      <th>2</th>\n",
       "      <td>2</td>\n",
       "      <td>2022-01-05</td>\n",
       "      <td>179.610001</td>\n",
       "      <td>180.169998</td>\n",
       "      <td>174.639999</td>\n",
       "      <td>174.919998</td>\n",
       "      <td>172.489639</td>\n",
       "      <td>94537600</td>\n",
       "      <td>Dow industrials knocking on door of milestone ...</td>\n",
       "      <td>0</td>\n",
       "      <td>1</td>\n",
       "    </tr>\n",
       "    <tr>\n",
       "      <th>3</th>\n",
       "      <td>3</td>\n",
       "      <td>2022-01-06</td>\n",
       "      <td>172.699997</td>\n",
       "      <td>175.300003</td>\n",
       "      <td>171.639999</td>\n",
       "      <td>172.000000</td>\n",
       "      <td>169.610214</td>\n",
       "      <td>96904000</td>\n",
       "      <td>Here's what's worth streaming in January 2022 ...</td>\n",
       "      <td>0</td>\n",
       "      <td>1</td>\n",
       "    </tr>\n",
       "    <tr>\n",
       "      <th>4</th>\n",
       "      <td>4</td>\n",
       "      <td>2022-01-07</td>\n",
       "      <td>172.889999</td>\n",
       "      <td>174.139999</td>\n",
       "      <td>171.029999</td>\n",
       "      <td>172.169998</td>\n",
       "      <td>169.777847</td>\n",
       "      <td>86709100</td>\n",
       "      <td>Samsung Electronics expects 52% jump in Q4 ope...</td>\n",
       "      <td>1</td>\n",
       "      <td>1</td>\n",
       "    </tr>\n",
       "    <tr>\n",
       "      <th>...</th>\n",
       "      <td>...</td>\n",
       "      <td>...</td>\n",
       "      <td>...</td>\n",
       "      <td>...</td>\n",
       "      <td>...</td>\n",
       "      <td>...</td>\n",
       "      <td>...</td>\n",
       "      <td>...</td>\n",
       "      <td>...</td>\n",
       "      <td>...</td>\n",
       "      <td>...</td>\n",
       "    </tr>\n",
       "    <tr>\n",
       "      <th>577</th>\n",
       "      <td>577</td>\n",
       "      <td>2024-04-22</td>\n",
       "      <td>165.520004</td>\n",
       "      <td>167.259995</td>\n",
       "      <td>164.770004</td>\n",
       "      <td>165.839996</td>\n",
       "      <td>165.615356</td>\n",
       "      <td>48116400</td>\n",
       "      <td>SCHD: If You've Won The Game, Take A Little Of...</td>\n",
       "      <td>1</td>\n",
       "      <td>1</td>\n",
       "    </tr>\n",
       "    <tr>\n",
       "      <th>578</th>\n",
       "      <td>578</td>\n",
       "      <td>2024-04-23</td>\n",
       "      <td>165.350006</td>\n",
       "      <td>167.050003</td>\n",
       "      <td>164.919998</td>\n",
       "      <td>166.899994</td>\n",
       "      <td>166.673920</td>\n",
       "      <td>49537800</td>\n",
       "      <td>Unfortunate News for Meta Stock and Apple Stoc...</td>\n",
       "      <td>1</td>\n",
       "      <td>1</td>\n",
       "    </tr>\n",
       "    <tr>\n",
       "      <th>579</th>\n",
       "      <td>579</td>\n",
       "      <td>2024-04-24</td>\n",
       "      <td>166.539993</td>\n",
       "      <td>169.300003</td>\n",
       "      <td>166.210007</td>\n",
       "      <td>169.020004</td>\n",
       "      <td>168.791061</td>\n",
       "      <td>48251800</td>\n",
       "      <td>Could AMD Stock Help You Become a Millionaire?...</td>\n",
       "      <td>1</td>\n",
       "      <td>1</td>\n",
       "    </tr>\n",
       "    <tr>\n",
       "      <th>580</th>\n",
       "      <td>580</td>\n",
       "      <td>2024-04-25</td>\n",
       "      <td>169.529999</td>\n",
       "      <td>170.610001</td>\n",
       "      <td>168.149994</td>\n",
       "      <td>169.889999</td>\n",
       "      <td>169.659882</td>\n",
       "      <td>50558300</td>\n",
       "      <td>This Spectacular Vanguard ETF Could Turn $250 ...</td>\n",
       "      <td>1</td>\n",
       "      <td>1</td>\n",
       "    </tr>\n",
       "    <tr>\n",
       "      <th>581</th>\n",
       "      <td>581</td>\n",
       "      <td>2024-04-26</td>\n",
       "      <td>169.880005</td>\n",
       "      <td>171.339996</td>\n",
       "      <td>169.179993</td>\n",
       "      <td>169.300003</td>\n",
       "      <td>169.070679</td>\n",
       "      <td>44838400</td>\n",
       "      <td>1 Unstoppable Stock That Could Join Microsoft,...</td>\n",
       "      <td>0</td>\n",
       "      <td>1</td>\n",
       "    </tr>\n",
       "  </tbody>\n",
       "</table>\n",
       "<p>582 rows × 11 columns</p>\n",
       "</div>"
      ],
      "text/plain": [
       "     Unnamed: 0        Date        Open        High         Low       Close  \\\n",
       "0             0  2022-01-03  177.830002  182.880005  177.710007  182.009995   \n",
       "1             1  2022-01-04  182.630005  182.940002  179.119995  179.699997   \n",
       "2             2  2022-01-05  179.610001  180.169998  174.639999  174.919998   \n",
       "3             3  2022-01-06  172.699997  175.300003  171.639999  172.000000   \n",
       "4             4  2022-01-07  172.889999  174.139999  171.029999  172.169998   \n",
       "..          ...         ...         ...         ...         ...         ...   \n",
       "577         577  2024-04-22  165.520004  167.259995  164.770004  165.839996   \n",
       "578         578  2024-04-23  165.350006  167.050003  164.919998  166.899994   \n",
       "579         579  2024-04-24  166.539993  169.300003  166.210007  169.020004   \n",
       "580         580  2024-04-25  169.529999  170.610001  168.149994  169.889999   \n",
       "581         581  2024-04-26  169.880005  171.339996  169.179993  169.300003   \n",
       "\n",
       "      Adj Close     Volume                                              title  \\\n",
       "0    179.481140  104487900  What A 'Strong' Apple 2022 Product Line Up Cou...   \n",
       "1    177.203217   99310400  Is $3 Trillion Just the Beginning for Apple? A...   \n",
       "2    172.489639   94537600  Dow industrials knocking on door of milestone ...   \n",
       "3    169.610214   96904000  Here's what's worth streaming in January 2022 ...   \n",
       "4    169.777847   86709100  Samsung Electronics expects 52% jump in Q4 ope...   \n",
       "..          ...        ...                                                ...   \n",
       "577  165.615356   48116400  SCHD: If You've Won The Game, Take A Little Of...   \n",
       "578  166.673920   49537800  Unfortunate News for Meta Stock and Apple Stoc...   \n",
       "579  168.791061   48251800  Could AMD Stock Help You Become a Millionaire?...   \n",
       "580  169.659882   50558300  This Spectacular Vanguard ETF Could Turn $250 ...   \n",
       "581  169.070679   44838400  1 Unstoppable Stock That Could Join Microsoft,...   \n",
       "\n",
       "     Label  Company  \n",
       "0        1        1  \n",
       "1        0        1  \n",
       "2        0        1  \n",
       "3        0        1  \n",
       "4        1        1  \n",
       "..     ...      ...  \n",
       "577      1        1  \n",
       "578      1        1  \n",
       "579      1        1  \n",
       "580      1        1  \n",
       "581      0        1  \n",
       "\n",
       "[582 rows x 11 columns]"
      ]
     },
     "execution_count": 5,
     "metadata": {},
     "output_type": "execute_result"
    }
   ],
   "source": [
    "df1"
   ]
  },
  {
   "cell_type": "code",
   "execution_count": 6,
   "id": "5fc1eae5-08a4-449b-b73f-a054aedde4fa",
   "metadata": {},
   "outputs": [],
   "source": [
    "df2['Company']=2"
   ]
  },
  {
   "cell_type": "code",
   "execution_count": 7,
   "id": "3b022443-e021-4b4e-8d8c-31a2fad679f9",
   "metadata": {},
   "outputs": [
    {
     "data": {
      "text/html": [
       "<div>\n",
       "<style scoped>\n",
       "    .dataframe tbody tr th:only-of-type {\n",
       "        vertical-align: middle;\n",
       "    }\n",
       "\n",
       "    .dataframe tbody tr th {\n",
       "        vertical-align: top;\n",
       "    }\n",
       "\n",
       "    .dataframe thead th {\n",
       "        text-align: right;\n",
       "    }\n",
       "</style>\n",
       "<table border=\"1\" class=\"dataframe\">\n",
       "  <thead>\n",
       "    <tr style=\"text-align: right;\">\n",
       "      <th></th>\n",
       "      <th>Unnamed: 0</th>\n",
       "      <th>Date</th>\n",
       "      <th>Open</th>\n",
       "      <th>High</th>\n",
       "      <th>Low</th>\n",
       "      <th>Close</th>\n",
       "      <th>Adj Close</th>\n",
       "      <th>Volume</th>\n",
       "      <th>title</th>\n",
       "      <th>Label</th>\n",
       "      <th>Company</th>\n",
       "    </tr>\n",
       "  </thead>\n",
       "  <tbody>\n",
       "    <tr>\n",
       "      <th>0</th>\n",
       "      <td>0</td>\n",
       "      <td>2022-01-03</td>\n",
       "      <td>167.550003</td>\n",
       "      <td>170.703506</td>\n",
       "      <td>166.160507</td>\n",
       "      <td>170.404495</td>\n",
       "      <td>170.404495</td>\n",
       "      <td>63520000</td>\n",
       "      <td>Updating 2021 Calls While Suggesting Strategic...</td>\n",
       "      <td>1</td>\n",
       "      <td>2</td>\n",
       "    </tr>\n",
       "    <tr>\n",
       "      <th>1</th>\n",
       "      <td>1</td>\n",
       "      <td>2022-01-04</td>\n",
       "      <td>170.438004</td>\n",
       "      <td>171.399994</td>\n",
       "      <td>166.349503</td>\n",
       "      <td>167.522003</td>\n",
       "      <td>167.522003</td>\n",
       "      <td>70726000</td>\n",
       "      <td>The Best Stocks to Invest $1,000 in Right Now ...</td>\n",
       "      <td>0</td>\n",
       "      <td>2</td>\n",
       "    </tr>\n",
       "    <tr>\n",
       "      <th>2</th>\n",
       "      <td>2</td>\n",
       "      <td>2022-01-05</td>\n",
       "      <td>166.882996</td>\n",
       "      <td>167.126495</td>\n",
       "      <td>164.356995</td>\n",
       "      <td>164.356995</td>\n",
       "      <td>164.356995</td>\n",
       "      <td>64302000</td>\n",
       "      <td>The Zacks Analyst Blog Highlights: Apple, Alph...</td>\n",
       "      <td>0</td>\n",
       "      <td>2</td>\n",
       "    </tr>\n",
       "    <tr>\n",
       "      <th>3</th>\n",
       "      <td>3</td>\n",
       "      <td>2022-01-06</td>\n",
       "      <td>163.450500</td>\n",
       "      <td>164.800003</td>\n",
       "      <td>161.936996</td>\n",
       "      <td>163.253998</td>\n",
       "      <td>163.253998</td>\n",
       "      <td>51958000</td>\n",
       "      <td>Here's what's worth streaming in January 2022 ...</td>\n",
       "      <td>0</td>\n",
       "      <td>2</td>\n",
       "    </tr>\n",
       "    <tr>\n",
       "      <th>4</th>\n",
       "      <td>4</td>\n",
       "      <td>2022-01-07</td>\n",
       "      <td>163.839005</td>\n",
       "      <td>165.243500</td>\n",
       "      <td>162.031006</td>\n",
       "      <td>162.554001</td>\n",
       "      <td>162.554001</td>\n",
       "      <td>46606000</td>\n",
       "      <td>ViacomCBS: A Deal Waiting To Happen The Divide...</td>\n",
       "      <td>0</td>\n",
       "      <td>2</td>\n",
       "    </tr>\n",
       "    <tr>\n",
       "      <th>...</th>\n",
       "      <td>...</td>\n",
       "      <td>...</td>\n",
       "      <td>...</td>\n",
       "      <td>...</td>\n",
       "      <td>...</td>\n",
       "      <td>...</td>\n",
       "      <td>...</td>\n",
       "      <td>...</td>\n",
       "      <td>...</td>\n",
       "      <td>...</td>\n",
       "      <td>...</td>\n",
       "    </tr>\n",
       "    <tr>\n",
       "      <th>577</th>\n",
       "      <td>577</td>\n",
       "      <td>2024-04-22</td>\n",
       "      <td>176.940002</td>\n",
       "      <td>178.869995</td>\n",
       "      <td>174.559998</td>\n",
       "      <td>177.229996</td>\n",
       "      <td>177.229996</td>\n",
       "      <td>37924900</td>\n",
       "      <td>SCHD: If You've Won The Game, Take A Little Of...</td>\n",
       "      <td>1</td>\n",
       "      <td>2</td>\n",
       "    </tr>\n",
       "    <tr>\n",
       "      <th>578</th>\n",
       "      <td>578</td>\n",
       "      <td>2024-04-23</td>\n",
       "      <td>178.080002</td>\n",
       "      <td>179.929993</td>\n",
       "      <td>175.979996</td>\n",
       "      <td>179.539993</td>\n",
       "      <td>179.539993</td>\n",
       "      <td>37046500</td>\n",
       "      <td>This Is Hands Down My Pick for the Best \"Magni...</td>\n",
       "      <td>1</td>\n",
       "      <td>2</td>\n",
       "    </tr>\n",
       "    <tr>\n",
       "      <th>579</th>\n",
       "      <td>579</td>\n",
       "      <td>2024-04-24</td>\n",
       "      <td>179.940002</td>\n",
       "      <td>180.320007</td>\n",
       "      <td>176.179993</td>\n",
       "      <td>176.589996</td>\n",
       "      <td>176.589996</td>\n",
       "      <td>34185100</td>\n",
       "      <td>History Says the Nasdaq Could Soar: 2 Top Grow...</td>\n",
       "      <td>0</td>\n",
       "      <td>2</td>\n",
       "    </tr>\n",
       "    <tr>\n",
       "      <th>580</th>\n",
       "      <td>580</td>\n",
       "      <td>2024-04-25</td>\n",
       "      <td>169.679993</td>\n",
       "      <td>173.919998</td>\n",
       "      <td>166.320007</td>\n",
       "      <td>173.669998</td>\n",
       "      <td>173.669998</td>\n",
       "      <td>49249400</td>\n",
       "      <td>If You Invested $10,000 in Amazon 10 Years Ago...</td>\n",
       "      <td>0</td>\n",
       "      <td>2</td>\n",
       "    </tr>\n",
       "    <tr>\n",
       "      <th>581</th>\n",
       "      <td>581</td>\n",
       "      <td>2024-04-26</td>\n",
       "      <td>177.800003</td>\n",
       "      <td>180.820007</td>\n",
       "      <td>176.130005</td>\n",
       "      <td>179.619995</td>\n",
       "      <td>179.619995</td>\n",
       "      <td>43919800</td>\n",
       "      <td>1 Unstoppable Stock That Could Join Microsoft,...</td>\n",
       "      <td>1</td>\n",
       "      <td>2</td>\n",
       "    </tr>\n",
       "  </tbody>\n",
       "</table>\n",
       "<p>582 rows × 11 columns</p>\n",
       "</div>"
      ],
      "text/plain": [
       "     Unnamed: 0        Date        Open        High         Low       Close  \\\n",
       "0             0  2022-01-03  167.550003  170.703506  166.160507  170.404495   \n",
       "1             1  2022-01-04  170.438004  171.399994  166.349503  167.522003   \n",
       "2             2  2022-01-05  166.882996  167.126495  164.356995  164.356995   \n",
       "3             3  2022-01-06  163.450500  164.800003  161.936996  163.253998   \n",
       "4             4  2022-01-07  163.839005  165.243500  162.031006  162.554001   \n",
       "..          ...         ...         ...         ...         ...         ...   \n",
       "577         577  2024-04-22  176.940002  178.869995  174.559998  177.229996   \n",
       "578         578  2024-04-23  178.080002  179.929993  175.979996  179.539993   \n",
       "579         579  2024-04-24  179.940002  180.320007  176.179993  176.589996   \n",
       "580         580  2024-04-25  169.679993  173.919998  166.320007  173.669998   \n",
       "581         581  2024-04-26  177.800003  180.820007  176.130005  179.619995   \n",
       "\n",
       "      Adj Close    Volume                                              title  \\\n",
       "0    170.404495  63520000  Updating 2021 Calls While Suggesting Strategic...   \n",
       "1    167.522003  70726000  The Best Stocks to Invest $1,000 in Right Now ...   \n",
       "2    164.356995  64302000  The Zacks Analyst Blog Highlights: Apple, Alph...   \n",
       "3    163.253998  51958000  Here's what's worth streaming in January 2022 ...   \n",
       "4    162.554001  46606000  ViacomCBS: A Deal Waiting To Happen The Divide...   \n",
       "..          ...       ...                                                ...   \n",
       "577  177.229996  37924900  SCHD: If You've Won The Game, Take A Little Of...   \n",
       "578  179.539993  37046500  This Is Hands Down My Pick for the Best \"Magni...   \n",
       "579  176.589996  34185100  History Says the Nasdaq Could Soar: 2 Top Grow...   \n",
       "580  173.669998  49249400  If You Invested $10,000 in Amazon 10 Years Ago...   \n",
       "581  179.619995  43919800  1 Unstoppable Stock That Could Join Microsoft,...   \n",
       "\n",
       "     Label  Company  \n",
       "0        1        2  \n",
       "1        0        2  \n",
       "2        0        2  \n",
       "3        0        2  \n",
       "4        0        2  \n",
       "..     ...      ...  \n",
       "577      1        2  \n",
       "578      1        2  \n",
       "579      0        2  \n",
       "580      0        2  \n",
       "581      1        2  \n",
       "\n",
       "[582 rows x 11 columns]"
      ]
     },
     "execution_count": 7,
     "metadata": {},
     "output_type": "execute_result"
    }
   ],
   "source": [
    "df2"
   ]
  },
  {
   "cell_type": "code",
   "execution_count": 8,
   "id": "c187046b-a4e1-444a-82b6-431c3b8821af",
   "metadata": {},
   "outputs": [],
   "source": [
    "df3['Company']=3"
   ]
  },
  {
   "cell_type": "code",
   "execution_count": 9,
   "id": "d6b1f41c-fb2a-4de1-97bf-cc4fe208407c",
   "metadata": {},
   "outputs": [
    {
     "data": {
      "text/html": [
       "<div>\n",
       "<style scoped>\n",
       "    .dataframe tbody tr th:only-of-type {\n",
       "        vertical-align: middle;\n",
       "    }\n",
       "\n",
       "    .dataframe tbody tr th {\n",
       "        vertical-align: top;\n",
       "    }\n",
       "\n",
       "    .dataframe thead th {\n",
       "        text-align: right;\n",
       "    }\n",
       "</style>\n",
       "<table border=\"1\" class=\"dataframe\">\n",
       "  <thead>\n",
       "    <tr style=\"text-align: right;\">\n",
       "      <th></th>\n",
       "      <th>Unnamed: 0</th>\n",
       "      <th>Date</th>\n",
       "      <th>Open</th>\n",
       "      <th>High</th>\n",
       "      <th>Low</th>\n",
       "      <th>Close</th>\n",
       "      <th>Adj Close</th>\n",
       "      <th>Volume</th>\n",
       "      <th>title</th>\n",
       "      <th>Label</th>\n",
       "      <th>Company</th>\n",
       "    </tr>\n",
       "  </thead>\n",
       "  <tbody>\n",
       "    <tr>\n",
       "      <th>0</th>\n",
       "      <td>0</td>\n",
       "      <td>2022-01-03</td>\n",
       "      <td>382.583344</td>\n",
       "      <td>400.356659</td>\n",
       "      <td>378.679993</td>\n",
       "      <td>399.926666</td>\n",
       "      <td>399.926666</td>\n",
       "      <td>103931400</td>\n",
       "      <td>LG Energy Solution starts taking orders for wh...</td>\n",
       "      <td>1</td>\n",
       "      <td>3</td>\n",
       "    </tr>\n",
       "    <tr>\n",
       "      <th>1</th>\n",
       "      <td>1</td>\n",
       "      <td>2022-01-04</td>\n",
       "      <td>396.516663</td>\n",
       "      <td>402.666656</td>\n",
       "      <td>374.350006</td>\n",
       "      <td>383.196655</td>\n",
       "      <td>383.196655</td>\n",
       "      <td>100248300</td>\n",
       "      <td>Tesla opens showroom in Xinjiang, the Chinese ...</td>\n",
       "      <td>0</td>\n",
       "      <td>3</td>\n",
       "    </tr>\n",
       "    <tr>\n",
       "      <th>2</th>\n",
       "      <td>2</td>\n",
       "      <td>2022-01-05</td>\n",
       "      <td>382.216675</td>\n",
       "      <td>390.113342</td>\n",
       "      <td>360.336670</td>\n",
       "      <td>362.706665</td>\n",
       "      <td>362.706665</td>\n",
       "      <td>80119800</td>\n",
       "      <td>Tesla And These 2 Chipmakers Are Seeing The Hi...</td>\n",
       "      <td>0</td>\n",
       "      <td>3</td>\n",
       "    </tr>\n",
       "    <tr>\n",
       "      <th>3</th>\n",
       "      <td>3</td>\n",
       "      <td>2022-01-06</td>\n",
       "      <td>359.000000</td>\n",
       "      <td>362.666656</td>\n",
       "      <td>340.166656</td>\n",
       "      <td>354.899994</td>\n",
       "      <td>354.899994</td>\n",
       "      <td>90336600</td>\n",
       "      <td>This Coin Named After Elon Musk's Pet Floki is...</td>\n",
       "      <td>0</td>\n",
       "      <td>3</td>\n",
       "    </tr>\n",
       "    <tr>\n",
       "      <th>4</th>\n",
       "      <td>4</td>\n",
       "      <td>2022-01-07</td>\n",
       "      <td>360.123322</td>\n",
       "      <td>360.309998</td>\n",
       "      <td>336.666656</td>\n",
       "      <td>342.320007</td>\n",
       "      <td>342.320007</td>\n",
       "      <td>84164700</td>\n",
       "      <td>Cathie Wood Sells Another $4.9M In Tesla Stock...</td>\n",
       "      <td>0</td>\n",
       "      <td>3</td>\n",
       "    </tr>\n",
       "    <tr>\n",
       "      <th>...</th>\n",
       "      <td>...</td>\n",
       "      <td>...</td>\n",
       "      <td>...</td>\n",
       "      <td>...</td>\n",
       "      <td>...</td>\n",
       "      <td>...</td>\n",
       "      <td>...</td>\n",
       "      <td>...</td>\n",
       "      <td>...</td>\n",
       "      <td>...</td>\n",
       "      <td>...</td>\n",
       "    </tr>\n",
       "    <tr>\n",
       "      <th>577</th>\n",
       "      <td>577</td>\n",
       "      <td>2024-04-22</td>\n",
       "      <td>140.559998</td>\n",
       "      <td>144.440002</td>\n",
       "      <td>138.800003</td>\n",
       "      <td>142.050003</td>\n",
       "      <td>142.050003</td>\n",
       "      <td>107097600</td>\n",
       "      <td>It's Time to Ditch These 2 \"Magnificent Seven\"...</td>\n",
       "      <td>0</td>\n",
       "      <td>3</td>\n",
       "    </tr>\n",
       "    <tr>\n",
       "      <th>578</th>\n",
       "      <td>578</td>\n",
       "      <td>2024-04-23</td>\n",
       "      <td>143.330002</td>\n",
       "      <td>147.259995</td>\n",
       "      <td>141.110001</td>\n",
       "      <td>144.679993</td>\n",
       "      <td>144.679993</td>\n",
       "      <td>124545100</td>\n",
       "      <td>Cathie Wood's Ark Invest Seizes Tesla Dip, Acq...</td>\n",
       "      <td>1</td>\n",
       "      <td>3</td>\n",
       "    </tr>\n",
       "    <tr>\n",
       "      <th>579</th>\n",
       "      <td>579</td>\n",
       "      <td>2024-04-24</td>\n",
       "      <td>162.839996</td>\n",
       "      <td>167.970001</td>\n",
       "      <td>157.509995</td>\n",
       "      <td>162.130005</td>\n",
       "      <td>162.130005</td>\n",
       "      <td>181178000</td>\n",
       "      <td>Tesla (TSLA) Q1 2024 Earnings Call Transcript ...</td>\n",
       "      <td>1</td>\n",
       "      <td>3</td>\n",
       "    </tr>\n",
       "    <tr>\n",
       "      <th>580</th>\n",
       "      <td>580</td>\n",
       "      <td>2024-04-25</td>\n",
       "      <td>158.960007</td>\n",
       "      <td>170.880005</td>\n",
       "      <td>158.360001</td>\n",
       "      <td>170.179993</td>\n",
       "      <td>170.179993</td>\n",
       "      <td>126427500</td>\n",
       "      <td>To Lower Or Not? EV Pricing Dilemma Hampers Fo...</td>\n",
       "      <td>1</td>\n",
       "      <td>3</td>\n",
       "    </tr>\n",
       "    <tr>\n",
       "      <th>581</th>\n",
       "      <td>581</td>\n",
       "      <td>2024-04-26</td>\n",
       "      <td>168.850006</td>\n",
       "      <td>172.119995</td>\n",
       "      <td>166.369995</td>\n",
       "      <td>168.289993</td>\n",
       "      <td>168.289993</td>\n",
       "      <td>109815700</td>\n",
       "      <td>Tesla Investor Touts EV Giant's Billions-Mile ...</td>\n",
       "      <td>0</td>\n",
       "      <td>3</td>\n",
       "    </tr>\n",
       "  </tbody>\n",
       "</table>\n",
       "<p>582 rows × 11 columns</p>\n",
       "</div>"
      ],
      "text/plain": [
       "     Unnamed: 0        Date        Open        High         Low       Close  \\\n",
       "0             0  2022-01-03  382.583344  400.356659  378.679993  399.926666   \n",
       "1             1  2022-01-04  396.516663  402.666656  374.350006  383.196655   \n",
       "2             2  2022-01-05  382.216675  390.113342  360.336670  362.706665   \n",
       "3             3  2022-01-06  359.000000  362.666656  340.166656  354.899994   \n",
       "4             4  2022-01-07  360.123322  360.309998  336.666656  342.320007   \n",
       "..          ...         ...         ...         ...         ...         ...   \n",
       "577         577  2024-04-22  140.559998  144.440002  138.800003  142.050003   \n",
       "578         578  2024-04-23  143.330002  147.259995  141.110001  144.679993   \n",
       "579         579  2024-04-24  162.839996  167.970001  157.509995  162.130005   \n",
       "580         580  2024-04-25  158.960007  170.880005  158.360001  170.179993   \n",
       "581         581  2024-04-26  168.850006  172.119995  166.369995  168.289993   \n",
       "\n",
       "      Adj Close     Volume                                              title  \\\n",
       "0    399.926666  103931400  LG Energy Solution starts taking orders for wh...   \n",
       "1    383.196655  100248300  Tesla opens showroom in Xinjiang, the Chinese ...   \n",
       "2    362.706665   80119800  Tesla And These 2 Chipmakers Are Seeing The Hi...   \n",
       "3    354.899994   90336600  This Coin Named After Elon Musk's Pet Floki is...   \n",
       "4    342.320007   84164700  Cathie Wood Sells Another $4.9M In Tesla Stock...   \n",
       "..          ...        ...                                                ...   \n",
       "577  142.050003  107097600  It's Time to Ditch These 2 \"Magnificent Seven\"...   \n",
       "578  144.679993  124545100  Cathie Wood's Ark Invest Seizes Tesla Dip, Acq...   \n",
       "579  162.130005  181178000  Tesla (TSLA) Q1 2024 Earnings Call Transcript ...   \n",
       "580  170.179993  126427500  To Lower Or Not? EV Pricing Dilemma Hampers Fo...   \n",
       "581  168.289993  109815700  Tesla Investor Touts EV Giant's Billions-Mile ...   \n",
       "\n",
       "     Label  Company  \n",
       "0        1        3  \n",
       "1        0        3  \n",
       "2        0        3  \n",
       "3        0        3  \n",
       "4        0        3  \n",
       "..     ...      ...  \n",
       "577      0        3  \n",
       "578      1        3  \n",
       "579      1        3  \n",
       "580      1        3  \n",
       "581      0        3  \n",
       "\n",
       "[582 rows x 11 columns]"
      ]
     },
     "execution_count": 9,
     "metadata": {},
     "output_type": "execute_result"
    }
   ],
   "source": [
    "df3"
   ]
  },
  {
   "cell_type": "code",
   "execution_count": 10,
   "id": "8773ad5c-c275-4200-9bdf-97e5f9677fb6",
   "metadata": {},
   "outputs": [
    {
     "name": "stdout",
     "output_type": "stream",
     "text": [
      "<class 'pandas.core.frame.DataFrame'>\n",
      "RangeIndex: 582 entries, 0 to 581\n",
      "Data columns (total 11 columns):\n",
      " #   Column      Non-Null Count  Dtype  \n",
      "---  ------      --------------  -----  \n",
      " 0   Unnamed: 0  582 non-null    int64  \n",
      " 1   Date        582 non-null    object \n",
      " 2   Open        582 non-null    float64\n",
      " 3   High        582 non-null    float64\n",
      " 4   Low         582 non-null    float64\n",
      " 5   Close       582 non-null    float64\n",
      " 6   Adj Close   582 non-null    float64\n",
      " 7   Volume      582 non-null    int64  \n",
      " 8   title       582 non-null    object \n",
      " 9   Label       582 non-null    int64  \n",
      " 10  Company     582 non-null    int64  \n",
      "dtypes: float64(5), int64(4), object(2)\n",
      "memory usage: 50.1+ KB\n"
     ]
    }
   ],
   "source": [
    "df3.info()"
   ]
  },
  {
   "cell_type": "code",
   "execution_count": 11,
   "id": "9af37ad8-e740-43a0-af4e-1cd3f2ad535d",
   "metadata": {},
   "outputs": [
    {
     "data": {
      "text/html": [
       "<div>\n",
       "<style scoped>\n",
       "    .dataframe tbody tr th:only-of-type {\n",
       "        vertical-align: middle;\n",
       "    }\n",
       "\n",
       "    .dataframe tbody tr th {\n",
       "        vertical-align: top;\n",
       "    }\n",
       "\n",
       "    .dataframe thead th {\n",
       "        text-align: right;\n",
       "    }\n",
       "</style>\n",
       "<table border=\"1\" class=\"dataframe\">\n",
       "  <thead>\n",
       "    <tr style=\"text-align: right;\">\n",
       "      <th></th>\n",
       "      <th>Unnamed: 0</th>\n",
       "      <th>Date</th>\n",
       "      <th>Open</th>\n",
       "      <th>High</th>\n",
       "      <th>Low</th>\n",
       "      <th>Close</th>\n",
       "      <th>Adj Close</th>\n",
       "      <th>Volume</th>\n",
       "      <th>title</th>\n",
       "      <th>Label</th>\n",
       "      <th>Company</th>\n",
       "    </tr>\n",
       "  </thead>\n",
       "  <tbody>\n",
       "    <tr>\n",
       "      <th>0</th>\n",
       "      <td>0</td>\n",
       "      <td>2022-01-03</td>\n",
       "      <td>177.830002</td>\n",
       "      <td>182.880005</td>\n",
       "      <td>177.710007</td>\n",
       "      <td>182.009995</td>\n",
       "      <td>179.481140</td>\n",
       "      <td>104487900</td>\n",
       "      <td>What A 'Strong' Apple 2022 Product Line Up Cou...</td>\n",
       "      <td>1</td>\n",
       "      <td>1</td>\n",
       "    </tr>\n",
       "    <tr>\n",
       "      <th>1</th>\n",
       "      <td>1</td>\n",
       "      <td>2022-01-04</td>\n",
       "      <td>182.630005</td>\n",
       "      <td>182.940002</td>\n",
       "      <td>179.119995</td>\n",
       "      <td>179.699997</td>\n",
       "      <td>177.203217</td>\n",
       "      <td>99310400</td>\n",
       "      <td>Is $3 Trillion Just the Beginning for Apple? A...</td>\n",
       "      <td>0</td>\n",
       "      <td>1</td>\n",
       "    </tr>\n",
       "    <tr>\n",
       "      <th>2</th>\n",
       "      <td>2</td>\n",
       "      <td>2022-01-05</td>\n",
       "      <td>179.610001</td>\n",
       "      <td>180.169998</td>\n",
       "      <td>174.639999</td>\n",
       "      <td>174.919998</td>\n",
       "      <td>172.489639</td>\n",
       "      <td>94537600</td>\n",
       "      <td>Dow industrials knocking on door of milestone ...</td>\n",
       "      <td>0</td>\n",
       "      <td>1</td>\n",
       "    </tr>\n",
       "    <tr>\n",
       "      <th>3</th>\n",
       "      <td>3</td>\n",
       "      <td>2022-01-06</td>\n",
       "      <td>172.699997</td>\n",
       "      <td>175.300003</td>\n",
       "      <td>171.639999</td>\n",
       "      <td>172.000000</td>\n",
       "      <td>169.610214</td>\n",
       "      <td>96904000</td>\n",
       "      <td>Here's what's worth streaming in January 2022 ...</td>\n",
       "      <td>0</td>\n",
       "      <td>1</td>\n",
       "    </tr>\n",
       "    <tr>\n",
       "      <th>4</th>\n",
       "      <td>4</td>\n",
       "      <td>2022-01-07</td>\n",
       "      <td>172.889999</td>\n",
       "      <td>174.139999</td>\n",
       "      <td>171.029999</td>\n",
       "      <td>172.169998</td>\n",
       "      <td>169.777847</td>\n",
       "      <td>86709100</td>\n",
       "      <td>Samsung Electronics expects 52% jump in Q4 ope...</td>\n",
       "      <td>1</td>\n",
       "      <td>1</td>\n",
       "    </tr>\n",
       "    <tr>\n",
       "      <th>...</th>\n",
       "      <td>...</td>\n",
       "      <td>...</td>\n",
       "      <td>...</td>\n",
       "      <td>...</td>\n",
       "      <td>...</td>\n",
       "      <td>...</td>\n",
       "      <td>...</td>\n",
       "      <td>...</td>\n",
       "      <td>...</td>\n",
       "      <td>...</td>\n",
       "      <td>...</td>\n",
       "    </tr>\n",
       "    <tr>\n",
       "      <th>577</th>\n",
       "      <td>577</td>\n",
       "      <td>2024-04-22</td>\n",
       "      <td>165.520004</td>\n",
       "      <td>167.259995</td>\n",
       "      <td>164.770004</td>\n",
       "      <td>165.839996</td>\n",
       "      <td>165.615356</td>\n",
       "      <td>48116400</td>\n",
       "      <td>SCHD: If You've Won The Game, Take A Little Of...</td>\n",
       "      <td>1</td>\n",
       "      <td>1</td>\n",
       "    </tr>\n",
       "    <tr>\n",
       "      <th>578</th>\n",
       "      <td>578</td>\n",
       "      <td>2024-04-23</td>\n",
       "      <td>165.350006</td>\n",
       "      <td>167.050003</td>\n",
       "      <td>164.919998</td>\n",
       "      <td>166.899994</td>\n",
       "      <td>166.673920</td>\n",
       "      <td>49537800</td>\n",
       "      <td>Unfortunate News for Meta Stock and Apple Stoc...</td>\n",
       "      <td>1</td>\n",
       "      <td>1</td>\n",
       "    </tr>\n",
       "    <tr>\n",
       "      <th>579</th>\n",
       "      <td>579</td>\n",
       "      <td>2024-04-24</td>\n",
       "      <td>166.539993</td>\n",
       "      <td>169.300003</td>\n",
       "      <td>166.210007</td>\n",
       "      <td>169.020004</td>\n",
       "      <td>168.791061</td>\n",
       "      <td>48251800</td>\n",
       "      <td>Could AMD Stock Help You Become a Millionaire?...</td>\n",
       "      <td>1</td>\n",
       "      <td>1</td>\n",
       "    </tr>\n",
       "    <tr>\n",
       "      <th>580</th>\n",
       "      <td>580</td>\n",
       "      <td>2024-04-25</td>\n",
       "      <td>169.529999</td>\n",
       "      <td>170.610001</td>\n",
       "      <td>168.149994</td>\n",
       "      <td>169.889999</td>\n",
       "      <td>169.659882</td>\n",
       "      <td>50558300</td>\n",
       "      <td>This Spectacular Vanguard ETF Could Turn $250 ...</td>\n",
       "      <td>1</td>\n",
       "      <td>1</td>\n",
       "    </tr>\n",
       "    <tr>\n",
       "      <th>581</th>\n",
       "      <td>581</td>\n",
       "      <td>2024-04-26</td>\n",
       "      <td>169.880005</td>\n",
       "      <td>171.339996</td>\n",
       "      <td>169.179993</td>\n",
       "      <td>169.300003</td>\n",
       "      <td>169.070679</td>\n",
       "      <td>44838400</td>\n",
       "      <td>1 Unstoppable Stock That Could Join Microsoft,...</td>\n",
       "      <td>0</td>\n",
       "      <td>1</td>\n",
       "    </tr>\n",
       "  </tbody>\n",
       "</table>\n",
       "<p>582 rows × 11 columns</p>\n",
       "</div>"
      ],
      "text/plain": [
       "     Unnamed: 0        Date        Open        High         Low       Close  \\\n",
       "0             0  2022-01-03  177.830002  182.880005  177.710007  182.009995   \n",
       "1             1  2022-01-04  182.630005  182.940002  179.119995  179.699997   \n",
       "2             2  2022-01-05  179.610001  180.169998  174.639999  174.919998   \n",
       "3             3  2022-01-06  172.699997  175.300003  171.639999  172.000000   \n",
       "4             4  2022-01-07  172.889999  174.139999  171.029999  172.169998   \n",
       "..          ...         ...         ...         ...         ...         ...   \n",
       "577         577  2024-04-22  165.520004  167.259995  164.770004  165.839996   \n",
       "578         578  2024-04-23  165.350006  167.050003  164.919998  166.899994   \n",
       "579         579  2024-04-24  166.539993  169.300003  166.210007  169.020004   \n",
       "580         580  2024-04-25  169.529999  170.610001  168.149994  169.889999   \n",
       "581         581  2024-04-26  169.880005  171.339996  169.179993  169.300003   \n",
       "\n",
       "      Adj Close     Volume                                              title  \\\n",
       "0    179.481140  104487900  What A 'Strong' Apple 2022 Product Line Up Cou...   \n",
       "1    177.203217   99310400  Is $3 Trillion Just the Beginning for Apple? A...   \n",
       "2    172.489639   94537600  Dow industrials knocking on door of milestone ...   \n",
       "3    169.610214   96904000  Here's what's worth streaming in January 2022 ...   \n",
       "4    169.777847   86709100  Samsung Electronics expects 52% jump in Q4 ope...   \n",
       "..          ...        ...                                                ...   \n",
       "577  165.615356   48116400  SCHD: If You've Won The Game, Take A Little Of...   \n",
       "578  166.673920   49537800  Unfortunate News for Meta Stock and Apple Stoc...   \n",
       "579  168.791061   48251800  Could AMD Stock Help You Become a Millionaire?...   \n",
       "580  169.659882   50558300  This Spectacular Vanguard ETF Could Turn $250 ...   \n",
       "581  169.070679   44838400  1 Unstoppable Stock That Could Join Microsoft,...   \n",
       "\n",
       "     Label  Company  \n",
       "0        1        1  \n",
       "1        0        1  \n",
       "2        0        1  \n",
       "3        0        1  \n",
       "4        1        1  \n",
       "..     ...      ...  \n",
       "577      1        1  \n",
       "578      1        1  \n",
       "579      1        1  \n",
       "580      1        1  \n",
       "581      0        1  \n",
       "\n",
       "[582 rows x 11 columns]"
      ]
     },
     "execution_count": 11,
     "metadata": {},
     "output_type": "execute_result"
    }
   ],
   "source": [
    "df1"
   ]
  },
  {
   "cell_type": "code",
   "execution_count": 12,
   "id": "d41070d4-be43-4bf7-a0e3-e96efd65c265",
   "metadata": {},
   "outputs": [],
   "source": [
    "df=pd.concat([df1,df2,df3],ignore_index=True)"
   ]
  },
  {
   "cell_type": "code",
   "execution_count": 13,
   "id": "7ce7c855-9953-45b2-9dce-2addb0d6c471",
   "metadata": {},
   "outputs": [
    {
     "data": {
      "text/plain": [
       "19206"
      ]
     },
     "execution_count": 13,
     "metadata": {},
     "output_type": "execute_result"
    }
   ],
   "source": [
    "df.size"
   ]
  },
  {
   "cell_type": "code",
   "execution_count": 14,
   "id": "2ed60b1d-8ccd-4d35-8d76-be1f4cadba43",
   "metadata": {},
   "outputs": [],
   "source": [
    "#  df.drop('Unnamed: 0',axis=1)"
   ]
  },
  {
   "cell_type": "code",
   "execution_count": 15,
   "id": "7bb08368-046b-4709-a2f9-6ed101e736ac",
   "metadata": {},
   "outputs": [
    {
     "name": "stdout",
     "output_type": "stream",
     "text": [
      "<class 'pandas.core.frame.DataFrame'>\n",
      "RangeIndex: 1746 entries, 0 to 1745\n",
      "Data columns (total 11 columns):\n",
      " #   Column      Non-Null Count  Dtype  \n",
      "---  ------      --------------  -----  \n",
      " 0   Unnamed: 0  1746 non-null   int64  \n",
      " 1   Date        1746 non-null   object \n",
      " 2   Open        1746 non-null   float64\n",
      " 3   High        1746 non-null   float64\n",
      " 4   Low         1746 non-null   float64\n",
      " 5   Close       1746 non-null   float64\n",
      " 6   Adj Close   1746 non-null   float64\n",
      " 7   Volume      1746 non-null   int64  \n",
      " 8   title       1746 non-null   object \n",
      " 9   Label       1746 non-null   int64  \n",
      " 10  Company     1746 non-null   int64  \n",
      "dtypes: float64(5), int64(4), object(2)\n",
      "memory usage: 150.2+ KB\n"
     ]
    }
   ],
   "source": [
    "df.info()"
   ]
  },
  {
   "cell_type": "code",
   "execution_count": 16,
   "id": "b8f51f17-f5ca-4520-b8be-eeb194ce80ec",
   "metadata": {},
   "outputs": [],
   "source": [
    "df=df.drop('Unnamed: 0',axis=1)"
   ]
  },
  {
   "cell_type": "code",
   "execution_count": 17,
   "id": "f0514476-3442-4e1e-911e-e59f9a890ca6",
   "metadata": {},
   "outputs": [
    {
     "name": "stdout",
     "output_type": "stream",
     "text": [
      "<class 'pandas.core.frame.DataFrame'>\n",
      "RangeIndex: 1746 entries, 0 to 1745\n",
      "Data columns (total 10 columns):\n",
      " #   Column     Non-Null Count  Dtype  \n",
      "---  ------     --------------  -----  \n",
      " 0   Date       1746 non-null   object \n",
      " 1   Open       1746 non-null   float64\n",
      " 2   High       1746 non-null   float64\n",
      " 3   Low        1746 non-null   float64\n",
      " 4   Close      1746 non-null   float64\n",
      " 5   Adj Close  1746 non-null   float64\n",
      " 6   Volume     1746 non-null   int64  \n",
      " 7   title      1746 non-null   object \n",
      " 8   Label      1746 non-null   int64  \n",
      " 9   Company    1746 non-null   int64  \n",
      "dtypes: float64(5), int64(3), object(2)\n",
      "memory usage: 136.5+ KB\n"
     ]
    }
   ],
   "source": [
    "df.info()"
   ]
  },
  {
   "cell_type": "code",
   "execution_count": 18,
   "id": "7e0475b0-9342-49f2-b5a5-0eca650438f3",
   "metadata": {},
   "outputs": [
    {
     "data": {
      "text/plain": [
       "1    582\n",
       "2    582\n",
       "3    582\n",
       "Name: Company, dtype: int64"
      ]
     },
     "execution_count": 18,
     "metadata": {},
     "output_type": "execute_result"
    }
   ],
   "source": [
    "df['Company'].value_counts()"
   ]
  },
  {
   "cell_type": "code",
   "execution_count": 19,
   "id": "0fd80567-6541-4adb-ba59-09840b484949",
   "metadata": {},
   "outputs": [],
   "source": [
    "df_sorted=df.sort_values(by='Date')"
   ]
  },
  {
   "cell_type": "code",
   "execution_count": 20,
   "id": "4a6a81a1-a10d-482b-8a3e-89a44403bb45",
   "metadata": {},
   "outputs": [],
   "source": [
    "df_sorted.reset_index(drop=True,inplace=True)"
   ]
  },
  {
   "cell_type": "code",
   "execution_count": 21,
   "id": "3d18fb0e-e679-4c4c-b0c3-8f6926bbb37c",
   "metadata": {},
   "outputs": [
    {
     "data": {
      "text/plain": [
       "1    582\n",
       "3    582\n",
       "2    582\n",
       "Name: Company, dtype: int64"
      ]
     },
     "execution_count": 21,
     "metadata": {},
     "output_type": "execute_result"
    }
   ],
   "source": [
    "df_sorted['Company'].value_counts()"
   ]
  },
  {
   "cell_type": "code",
   "execution_count": 22,
   "id": "039af8c8-5a74-4054-8f63-d3b80bff0e5c",
   "metadata": {},
   "outputs": [
    {
     "data": {
      "text/html": [
       "<div>\n",
       "<style scoped>\n",
       "    .dataframe tbody tr th:only-of-type {\n",
       "        vertical-align: middle;\n",
       "    }\n",
       "\n",
       "    .dataframe tbody tr th {\n",
       "        vertical-align: top;\n",
       "    }\n",
       "\n",
       "    .dataframe thead th {\n",
       "        text-align: right;\n",
       "    }\n",
       "</style>\n",
       "<table border=\"1\" class=\"dataframe\">\n",
       "  <thead>\n",
       "    <tr style=\"text-align: right;\">\n",
       "      <th></th>\n",
       "      <th>Date</th>\n",
       "      <th>Open</th>\n",
       "      <th>High</th>\n",
       "      <th>Low</th>\n",
       "      <th>Close</th>\n",
       "      <th>Adj Close</th>\n",
       "      <th>Volume</th>\n",
       "      <th>title</th>\n",
       "      <th>Label</th>\n",
       "      <th>Company</th>\n",
       "    </tr>\n",
       "  </thead>\n",
       "  <tbody>\n",
       "    <tr>\n",
       "      <th>0</th>\n",
       "      <td>2022-01-03</td>\n",
       "      <td>177.830002</td>\n",
       "      <td>182.880005</td>\n",
       "      <td>177.710007</td>\n",
       "      <td>182.009995</td>\n",
       "      <td>179.481140</td>\n",
       "      <td>104487900</td>\n",
       "      <td>What A 'Strong' Apple 2022 Product Line Up Cou...</td>\n",
       "      <td>1</td>\n",
       "      <td>1</td>\n",
       "    </tr>\n",
       "    <tr>\n",
       "      <th>1</th>\n",
       "      <td>2022-01-03</td>\n",
       "      <td>382.583344</td>\n",
       "      <td>400.356659</td>\n",
       "      <td>378.679993</td>\n",
       "      <td>399.926666</td>\n",
       "      <td>399.926666</td>\n",
       "      <td>103931400</td>\n",
       "      <td>LG Energy Solution starts taking orders for wh...</td>\n",
       "      <td>1</td>\n",
       "      <td>3</td>\n",
       "    </tr>\n",
       "    <tr>\n",
       "      <th>2</th>\n",
       "      <td>2022-01-03</td>\n",
       "      <td>167.550003</td>\n",
       "      <td>170.703506</td>\n",
       "      <td>166.160507</td>\n",
       "      <td>170.404495</td>\n",
       "      <td>170.404495</td>\n",
       "      <td>63520000</td>\n",
       "      <td>Updating 2021 Calls While Suggesting Strategic...</td>\n",
       "      <td>1</td>\n",
       "      <td>2</td>\n",
       "    </tr>\n",
       "    <tr>\n",
       "      <th>3</th>\n",
       "      <td>2022-01-04</td>\n",
       "      <td>182.630005</td>\n",
       "      <td>182.940002</td>\n",
       "      <td>179.119995</td>\n",
       "      <td>179.699997</td>\n",
       "      <td>177.203217</td>\n",
       "      <td>99310400</td>\n",
       "      <td>Is $3 Trillion Just the Beginning for Apple? A...</td>\n",
       "      <td>0</td>\n",
       "      <td>1</td>\n",
       "    </tr>\n",
       "    <tr>\n",
       "      <th>4</th>\n",
       "      <td>2022-01-04</td>\n",
       "      <td>396.516663</td>\n",
       "      <td>402.666656</td>\n",
       "      <td>374.350006</td>\n",
       "      <td>383.196655</td>\n",
       "      <td>383.196655</td>\n",
       "      <td>100248300</td>\n",
       "      <td>Tesla opens showroom in Xinjiang, the Chinese ...</td>\n",
       "      <td>0</td>\n",
       "      <td>3</td>\n",
       "    </tr>\n",
       "    <tr>\n",
       "      <th>...</th>\n",
       "      <td>...</td>\n",
       "      <td>...</td>\n",
       "      <td>...</td>\n",
       "      <td>...</td>\n",
       "      <td>...</td>\n",
       "      <td>...</td>\n",
       "      <td>...</td>\n",
       "      <td>...</td>\n",
       "      <td>...</td>\n",
       "      <td>...</td>\n",
       "    </tr>\n",
       "    <tr>\n",
       "      <th>1741</th>\n",
       "      <td>2024-04-25</td>\n",
       "      <td>169.529999</td>\n",
       "      <td>170.610001</td>\n",
       "      <td>168.149994</td>\n",
       "      <td>169.889999</td>\n",
       "      <td>169.659882</td>\n",
       "      <td>50558300</td>\n",
       "      <td>This Spectacular Vanguard ETF Could Turn $250 ...</td>\n",
       "      <td>1</td>\n",
       "      <td>1</td>\n",
       "    </tr>\n",
       "    <tr>\n",
       "      <th>1742</th>\n",
       "      <td>2024-04-25</td>\n",
       "      <td>169.679993</td>\n",
       "      <td>173.919998</td>\n",
       "      <td>166.320007</td>\n",
       "      <td>173.669998</td>\n",
       "      <td>173.669998</td>\n",
       "      <td>49249400</td>\n",
       "      <td>If You Invested $10,000 in Amazon 10 Years Ago...</td>\n",
       "      <td>0</td>\n",
       "      <td>2</td>\n",
       "    </tr>\n",
       "    <tr>\n",
       "      <th>1743</th>\n",
       "      <td>2024-04-26</td>\n",
       "      <td>177.800003</td>\n",
       "      <td>180.820007</td>\n",
       "      <td>176.130005</td>\n",
       "      <td>179.619995</td>\n",
       "      <td>179.619995</td>\n",
       "      <td>43919800</td>\n",
       "      <td>1 Unstoppable Stock That Could Join Microsoft,...</td>\n",
       "      <td>1</td>\n",
       "      <td>2</td>\n",
       "    </tr>\n",
       "    <tr>\n",
       "      <th>1744</th>\n",
       "      <td>2024-04-26</td>\n",
       "      <td>169.880005</td>\n",
       "      <td>171.339996</td>\n",
       "      <td>169.179993</td>\n",
       "      <td>169.300003</td>\n",
       "      <td>169.070679</td>\n",
       "      <td>44838400</td>\n",
       "      <td>1 Unstoppable Stock That Could Join Microsoft,...</td>\n",
       "      <td>0</td>\n",
       "      <td>1</td>\n",
       "    </tr>\n",
       "    <tr>\n",
       "      <th>1745</th>\n",
       "      <td>2024-04-26</td>\n",
       "      <td>168.850006</td>\n",
       "      <td>172.119995</td>\n",
       "      <td>166.369995</td>\n",
       "      <td>168.289993</td>\n",
       "      <td>168.289993</td>\n",
       "      <td>109815700</td>\n",
       "      <td>Tesla Investor Touts EV Giant's Billions-Mile ...</td>\n",
       "      <td>0</td>\n",
       "      <td>3</td>\n",
       "    </tr>\n",
       "  </tbody>\n",
       "</table>\n",
       "<p>1746 rows × 10 columns</p>\n",
       "</div>"
      ],
      "text/plain": [
       "            Date        Open        High         Low       Close   Adj Close  \\\n",
       "0     2022-01-03  177.830002  182.880005  177.710007  182.009995  179.481140   \n",
       "1     2022-01-03  382.583344  400.356659  378.679993  399.926666  399.926666   \n",
       "2     2022-01-03  167.550003  170.703506  166.160507  170.404495  170.404495   \n",
       "3     2022-01-04  182.630005  182.940002  179.119995  179.699997  177.203217   \n",
       "4     2022-01-04  396.516663  402.666656  374.350006  383.196655  383.196655   \n",
       "...          ...         ...         ...         ...         ...         ...   \n",
       "1741  2024-04-25  169.529999  170.610001  168.149994  169.889999  169.659882   \n",
       "1742  2024-04-25  169.679993  173.919998  166.320007  173.669998  173.669998   \n",
       "1743  2024-04-26  177.800003  180.820007  176.130005  179.619995  179.619995   \n",
       "1744  2024-04-26  169.880005  171.339996  169.179993  169.300003  169.070679   \n",
       "1745  2024-04-26  168.850006  172.119995  166.369995  168.289993  168.289993   \n",
       "\n",
       "         Volume                                              title  Label  \\\n",
       "0     104487900  What A 'Strong' Apple 2022 Product Line Up Cou...      1   \n",
       "1     103931400  LG Energy Solution starts taking orders for wh...      1   \n",
       "2      63520000  Updating 2021 Calls While Suggesting Strategic...      1   \n",
       "3      99310400  Is $3 Trillion Just the Beginning for Apple? A...      0   \n",
       "4     100248300  Tesla opens showroom in Xinjiang, the Chinese ...      0   \n",
       "...         ...                                                ...    ...   \n",
       "1741   50558300  This Spectacular Vanguard ETF Could Turn $250 ...      1   \n",
       "1742   49249400  If You Invested $10,000 in Amazon 10 Years Ago...      0   \n",
       "1743   43919800  1 Unstoppable Stock That Could Join Microsoft,...      1   \n",
       "1744   44838400  1 Unstoppable Stock That Could Join Microsoft,...      0   \n",
       "1745  109815700  Tesla Investor Touts EV Giant's Billions-Mile ...      0   \n",
       "\n",
       "      Company  \n",
       "0           1  \n",
       "1           3  \n",
       "2           2  \n",
       "3           1  \n",
       "4           3  \n",
       "...       ...  \n",
       "1741        1  \n",
       "1742        2  \n",
       "1743        2  \n",
       "1744        1  \n",
       "1745        3  \n",
       "\n",
       "[1746 rows x 10 columns]"
      ]
     },
     "execution_count": 22,
     "metadata": {},
     "output_type": "execute_result"
    }
   ],
   "source": [
    "df_sorted"
   ]
  },
  {
   "cell_type": "code",
   "execution_count": 23,
   "id": "1b5afb76-8643-46ac-b5a0-f41dcf408ec5",
   "metadata": {},
   "outputs": [
    {
     "data": {
      "text/html": [
       "<div>\n",
       "<style scoped>\n",
       "    .dataframe tbody tr th:only-of-type {\n",
       "        vertical-align: middle;\n",
       "    }\n",
       "\n",
       "    .dataframe tbody tr th {\n",
       "        vertical-align: top;\n",
       "    }\n",
       "\n",
       "    .dataframe thead th {\n",
       "        text-align: right;\n",
       "    }\n",
       "</style>\n",
       "<table border=\"1\" class=\"dataframe\">\n",
       "  <thead>\n",
       "    <tr style=\"text-align: right;\">\n",
       "      <th></th>\n",
       "      <th>Open</th>\n",
       "      <th>High</th>\n",
       "      <th>Low</th>\n",
       "      <th>Close</th>\n",
       "      <th>Adj Close</th>\n",
       "      <th>Volume</th>\n",
       "      <th>Label</th>\n",
       "      <th>Company</th>\n",
       "    </tr>\n",
       "  </thead>\n",
       "  <tbody>\n",
       "    <tr>\n",
       "      <th>count</th>\n",
       "      <td>1746.000000</td>\n",
       "      <td>1746.000000</td>\n",
       "      <td>1746.000000</td>\n",
       "      <td>1746.000000</td>\n",
       "      <td>1746.000000</td>\n",
       "      <td>1.746000e+03</td>\n",
       "      <td>1746.000000</td>\n",
       "      <td>1746.000000</td>\n",
       "    </tr>\n",
       "    <tr>\n",
       "      <th>mean</th>\n",
       "      <td>176.388535</td>\n",
       "      <td>179.325647</td>\n",
       "      <td>173.307461</td>\n",
       "      <td>176.335141</td>\n",
       "      <td>175.947713</td>\n",
       "      <td>8.222086e+07</td>\n",
       "      <td>0.508018</td>\n",
       "      <td>2.000000</td>\n",
       "    </tr>\n",
       "    <tr>\n",
       "      <th>std</th>\n",
       "      <td>56.488275</td>\n",
       "      <td>57.970267</td>\n",
       "      <td>54.693305</td>\n",
       "      <td>56.227667</td>\n",
       "      <td>56.327727</td>\n",
       "      <td>3.774146e+07</td>\n",
       "      <td>0.500079</td>\n",
       "      <td>0.816731</td>\n",
       "    </tr>\n",
       "    <tr>\n",
       "      <th>min</th>\n",
       "      <td>82.800003</td>\n",
       "      <td>83.480003</td>\n",
       "      <td>81.430000</td>\n",
       "      <td>81.820000</td>\n",
       "      <td>81.820000</td>\n",
       "      <td>2.237840e+07</td>\n",
       "      <td>0.000000</td>\n",
       "      <td>1.000000</td>\n",
       "    </tr>\n",
       "    <tr>\n",
       "      <th>25%</th>\n",
       "      <td>140.062504</td>\n",
       "      <td>142.084999</td>\n",
       "      <td>137.667503</td>\n",
       "      <td>139.432503</td>\n",
       "      <td>138.891369</td>\n",
       "      <td>5.428198e+07</td>\n",
       "      <td>0.000000</td>\n",
       "      <td>1.000000</td>\n",
       "    </tr>\n",
       "    <tr>\n",
       "      <th>50%</th>\n",
       "      <td>168.699997</td>\n",
       "      <td>170.544998</td>\n",
       "      <td>166.310005</td>\n",
       "      <td>168.430001</td>\n",
       "      <td>167.568230</td>\n",
       "      <td>7.266135e+07</td>\n",
       "      <td>1.000000</td>\n",
       "      <td>2.000000</td>\n",
       "    </tr>\n",
       "    <tr>\n",
       "      <th>75%</th>\n",
       "      <td>194.015003</td>\n",
       "      <td>196.375004</td>\n",
       "      <td>191.752495</td>\n",
       "      <td>193.862503</td>\n",
       "      <td>193.449539</td>\n",
       "      <td>1.007433e+08</td>\n",
       "      <td>1.000000</td>\n",
       "      <td>3.000000</td>\n",
       "    </tr>\n",
       "    <tr>\n",
       "      <th>max</th>\n",
       "      <td>396.516663</td>\n",
       "      <td>402.666656</td>\n",
       "      <td>378.679993</td>\n",
       "      <td>399.926666</td>\n",
       "      <td>399.926666</td>\n",
       "      <td>3.065906e+08</td>\n",
       "      <td>1.000000</td>\n",
       "      <td>3.000000</td>\n",
       "    </tr>\n",
       "  </tbody>\n",
       "</table>\n",
       "</div>"
      ],
      "text/plain": [
       "              Open         High          Low        Close    Adj Close  \\\n",
       "count  1746.000000  1746.000000  1746.000000  1746.000000  1746.000000   \n",
       "mean    176.388535   179.325647   173.307461   176.335141   175.947713   \n",
       "std      56.488275    57.970267    54.693305    56.227667    56.327727   \n",
       "min      82.800003    83.480003    81.430000    81.820000    81.820000   \n",
       "25%     140.062504   142.084999   137.667503   139.432503   138.891369   \n",
       "50%     168.699997   170.544998   166.310005   168.430001   167.568230   \n",
       "75%     194.015003   196.375004   191.752495   193.862503   193.449539   \n",
       "max     396.516663   402.666656   378.679993   399.926666   399.926666   \n",
       "\n",
       "             Volume        Label      Company  \n",
       "count  1.746000e+03  1746.000000  1746.000000  \n",
       "mean   8.222086e+07     0.508018     2.000000  \n",
       "std    3.774146e+07     0.500079     0.816731  \n",
       "min    2.237840e+07     0.000000     1.000000  \n",
       "25%    5.428198e+07     0.000000     1.000000  \n",
       "50%    7.266135e+07     1.000000     2.000000  \n",
       "75%    1.007433e+08     1.000000     3.000000  \n",
       "max    3.065906e+08     1.000000     3.000000  "
      ]
     },
     "execution_count": 23,
     "metadata": {},
     "output_type": "execute_result"
    }
   ],
   "source": [
    "df_sorted.describe()"
   ]
  },
  {
   "cell_type": "code",
   "execution_count": 24,
   "id": "1f409a5c-7647-4c88-bce4-102b71dd6ee6",
   "metadata": {},
   "outputs": [
    {
     "name": "stdout",
     "output_type": "stream",
     "text": [
      "<class 'pandas.core.frame.DataFrame'>\n",
      "RangeIndex: 1746 entries, 0 to 1745\n",
      "Data columns (total 10 columns):\n",
      " #   Column     Non-Null Count  Dtype  \n",
      "---  ------     --------------  -----  \n",
      " 0   Date       1746 non-null   object \n",
      " 1   Open       1746 non-null   float64\n",
      " 2   High       1746 non-null   float64\n",
      " 3   Low        1746 non-null   float64\n",
      " 4   Close      1746 non-null   float64\n",
      " 5   Adj Close  1746 non-null   float64\n",
      " 6   Volume     1746 non-null   int64  \n",
      " 7   title      1746 non-null   object \n",
      " 8   Label      1746 non-null   int64  \n",
      " 9   Company    1746 non-null   int64  \n",
      "dtypes: float64(5), int64(3), object(2)\n",
      "memory usage: 136.5+ KB\n"
     ]
    }
   ],
   "source": [
    "df_sorted.info()"
   ]
  },
  {
   "cell_type": "code",
   "execution_count": 25,
   "id": "a52f202a-348d-4b4d-946c-95acacbe9a2c",
   "metadata": {},
   "outputs": [],
   "source": [
    "import numpy as np "
   ]
  },
  {
   "cell_type": "code",
   "execution_count": 26,
   "id": "1e52e949-0b51-4b1b-9889-42533e323bee",
   "metadata": {},
   "outputs": [],
   "source": [
    "df_sorted['Volume']=df_sorted['Volume'].astype(np.float64)\n",
    "df_sorted['Label']=df_sorted['Label'].astype(np.float64)\n",
    "df_sorted['Company']=df_sorted['Company'].astype(np.float64)\n"
   ]
  },
  {
   "cell_type": "code",
   "execution_count": 27,
   "id": "2ee7afc2-fb82-460e-a0ac-77b759bd4f5d",
   "metadata": {},
   "outputs": [
    {
     "data": {
      "text/plain": [
       "\"What A 'Strong' Apple 2022 Product Line Up Could Look Like, Featuring A Possible 'Holy Grail' Release Apple: Quality Name To Own; AR/VR To Drive Growth Robust iPhone Demand, Services Will Chart Apple's Course In 2022: Wedbush 'Son, get a lawyer. That woman is going to take away your inheritance!â\\x80\\x99 The most popular Moneyist columns of 2021 Tesla Q4 Deliveries, Santa Rally Eludes Bitcoin, Apple In 2022, Spider-Man At Box Office, Singapore GDP Rebound: 5 Headlines You May Have Missed From The Weekend Have $2,000? These 2 Stocks Could Be Bargain Buys for 2022 and Beyond Should WisdomTree U.S. LargeCap Dividend ETF (DLN) Be on Your Investing Radar? Should Vanguard Russell 1000 Growth ETF (VONG) Be on Your Investing Radar? 3 Surefire Metaverse Stocks That Could Make You Richer in 2022 Stock picking in 2022? Goldman Sachs says these are the companies that should be on your radar. 3 Dividend Kings That Should Help You Pull Through Inflation in 2022 Implied Volatility Surging for Apple (AAPL) Stock Options This Day In Market History: Jobs And Wozniak Incorporate Apple Computer Corp Want a 90% to 236% Return? Try These Growth Stocks, Says Wall Street These stocks are down at least 20% from 2021 highs, but Wall Street sees them gaining as much as 87% in 2022 These are tech's 10 megatrends for 2022 -- and the stocks to buy Here's the best way to spot stock-market winners, according to this 25-year tech analyst Is Microsoft Stock Set Up For Another Year Of Explosive Growth? This surprising investing strategy crushes the stock market without examining a single financial metric Is Apple (AAPL) Stock Outpacing Its Computer and Technology Peers This Year? My 3 Favorite ETFs to Own in 2022 Apple's (AAPL) In-App Purchase Policy to be Probed by CCI Here's Why Momentum Investors Will Love Apple (AAPL) Apple being investigated by India antitrust regulators over app-store practices Selling money-making stocks in a bull market is a tough call, but you'll thank yourself when the bears take charge Apple Becomes First Company To Top $3 Trillion Market Cap; Analyst Says Rally Has Further Legs Apple comes up short of $3 trillion market cap Dow, S&P 500 sweep to record closes in 2022's first session, while Nasdaq has biggest gain in a week Apple hits $3.0 trillion market cap: â\\x80\\x98it could be a $250 stockâ\\x80\\x99 Why Apple Stock Climbed to a New All-Time High Today\""
      ]
     },
     "execution_count": 27,
     "metadata": {},
     "output_type": "execute_result"
    }
   ],
   "source": [
    "df_sorted['title'][0]"
   ]
  },
  {
   "cell_type": "code",
   "execution_count": 28,
   "id": "8bf8573d-f2d1-48d2-b4fd-c26e70a60222",
   "metadata": {},
   "outputs": [
    {
     "data": {
      "text/plain": [
       "\"2 Companies That Could Be the Next Stock-Split Stocks After Amazon, Shopify, and Tesla 4 Stocks I Wouldn't Buy With Free Money Tesla Sales Of China-Made EVs Plunge 64% Sequentially In July â\\x80\\x94 Domestic Sales Trail Local Players Proceed With Caution When Considering This Ultra Popular EV Stock Indian Billionaire Outperforming Elon Musk, Jeff Bezos This Year Takes Zero Salary Home Bed Bath & Beyond leads rally in 'meme' stocks as Reddit group appears to be jumping back on board Elon Musk On Why First Moon Landing Was An 'Anomaly' Baillie Gifford Nearly Cuts Alibaba Position, Sells Tesla Shares â\\x80\\x94 But Buys More Of This Chinese EV Maker These 18 tech stocks are this earnings season's standouts based on three criteria The red flag that preceded a halving of global equities in 2000 and 2007 is back, warns Citi American Axle (AXL) Q2 Earnings & Revenues Beat Estimates Westport (WPRT) Q2 Loss Narrower Than Expected, Revenues Up Tesla Stock Jumped 80% During The 2020 Share Split. What May Happen This Time, According To One Analyst Why Verona Pharma Is Trading Higher By Around 84%, Here Are 85 Stocks Moving In Tuesday's Mid-Day Session 'Clean energy' hiring in solar, wind and EVs expands in red and blue states. Enter your ZIP code to see where the jobs are. Move Over Tesla? This Electric Vehicle Company Thinks It Can Do Robotaxis Better Why Tesla, Nio, and Lucid All Sank Today\""
      ]
     },
     "execution_count": 28,
     "metadata": {},
     "output_type": "execute_result"
    }
   ],
   "source": [
    "df_sorted['title'][452]"
   ]
  },
  {
   "cell_type": "code",
   "execution_count": 29,
   "id": "f03523e9-a798-47cc-9bd8-5c6a4eeed296",
   "metadata": {},
   "outputs": [
    {
     "data": {
      "text/plain": [
       "1.0    887\n",
       "0.0    859\n",
       "Name: Label, dtype: int64"
      ]
     },
     "execution_count": 29,
     "metadata": {},
     "output_type": "execute_result"
    }
   ],
   "source": [
    "df_sorted['Label'].value_counts()"
   ]
  },
  {
   "cell_type": "code",
   "execution_count": 30,
   "id": "ad7aeac9-77bd-4f08-b36b-f85d54c6510f",
   "metadata": {},
   "outputs": [],
   "source": [
    "import re \n",
    "import string"
   ]
  },
  {
   "cell_type": "code",
   "execution_count": 31,
   "id": "e6fa3138-03d6-444c-ae6a-5ad522bb3db3",
   "metadata": {},
   "outputs": [],
   "source": [
    "def cleaning_text(text):\n",
    "    text=text.lower() # converts text to lower case \n",
    "    text=re.sub('\\[.*?\\]', '', text) # deletes text which is present in between square brackets\n",
    "    text = re.sub(r'[^\\x00-\\x7F]+', ' ', text) # only keeps the text between the ascii values \n",
    "    text = re.sub(r'\\([^)]*\\)', '', text) # deletes the text containing () these brackets\n",
    "    text = re.sub(r'[^A-Za-z0-9\\s]', '', text) # removes text which is not alphanumeric or whitespace\n",
    "    text = text.strip()\n",
    "    text = re.sub(r'\\s+', ' ', text) # removes whitespace in the text\n",
    "    return text\n",
    "\n",
    "\n"
   ]
  },
  {
   "cell_type": "code",
   "execution_count": 32,
   "id": "2ebbf55b-69cc-40c9-b548-71bb3daaa1ca",
   "metadata": {},
   "outputs": [
    {
     "data": {
      "text/plain": [
       "\"Bill Gates says Elon Musk's approach to misinformation could make Twitter worse 'Massive Misallocation' Of Capital: Cathie Wood Joins Elon Musk To Find Fault With Passive Investment Bill Gates Says Shorting Tesla Not A Statement About Climate Change Why Nio, Other EV Peers Are Shooting Up In Hong Kong Today Bill Gates Takes Swipe At Elon Musk Over Twitter Acquisition: 'He Actually Could Make It Worse' Tesla Battery Supplier CATL's Stock Tumbles As Profit Falls 24% On High Raw Material Costs Can Apple Be The New Tesla - Smartphone On Wheels By 2025? Yuga Labs Refunds Failed Transactions After $150M Ethereum 'Wasted Fees' From NFT Sale How to Buy Tesla for the Cost of a Penny Stock Elon Musk's Starlink Now Lets You Take Your Internet Connection Anywhere Within US â\\x80\\x94 But It Comes At A Cost Russian Rocket Body Shatters Into 16 Pieces In Space Ford Mach-E EV Sales Nearly Double In April, Gas-Powered Mustang Struggles Twitter Faces Advertiser Skepticism At New York Event Ahead Of Elon Musk Takeover Twitter Offshoot Bluesky Releases Early Code For Decentralized Social Network Is It Time to Buy the Nasdaq's 3 Worst Performing April Stocks? Elon Musk suggested getting into the lithium business, and these surging stocks show why Elon Musk Bags Over $7B In Twitter Deal Financing Elon Musk says Larry Ellison, Binance, Sequoia will now help fund Twitter bid 'This Is What's Going To Happen Next': Ross Gerber Reveals Tesla's Next Big Move Should Tesla Shareholders Be Worried About Elon Musk's Twitter Purchase? Rivian Stock Is Starting to Look Attractive This trader predicted the bond meltdown, tech selloff and oil's surge. Here's what she says is coming next. CNH Industrial (CNHI) Q1 Earnings Top Estimates, Down Y/Y Why Tesla Stock Crashed Today The Timing of Tesla's Stock Split Could Be in Jeopardy Why Twitter Shares Rose 27% (but not 40%) Last Month Money Talks? The Link Between Congressional Stock Trading And Corporate Lobbying Rate hikes and stock sell-off? Here's what it means for your retirement portfolio, and whether you should add crypto into it Dow ends nearly 1,100 points lower and Nasdaq sheds 5%, marking its worst day in two years Another Elon Musk Biography Coming: Here's Which Company Is Behind It\""
      ]
     },
     "execution_count": 32,
     "metadata": {},
     "output_type": "execute_result"
    }
   ],
   "source": [
    "# Checking the difference in text\n",
    "df_sorted['title'][256]"
   ]
  },
  {
   "cell_type": "code",
   "execution_count": 33,
   "id": "a8bbc38f-851c-4f77-9767-21131d520d0c",
   "metadata": {},
   "outputs": [
    {
     "data": {
      "text/plain": [
       "'bill gates says elon musks approach to misinformation could make twitter worse massive misallocation of capital cathie wood joins elon musk to find fault with passive investment bill gates says shorting tesla not a statement about climate change why nio other ev peers are shooting up in hong kong today bill gates takes swipe at elon musk over twitter acquisition he actually could make it worse tesla battery supplier catls stock tumbles as profit falls 24 on high raw material costs can apple be the new tesla smartphone on wheels by 2025 yuga labs refunds failed transactions after 150m ethereum wasted fees from nft sale how to buy tesla for the cost of a penny stock elon musks starlink now lets you take your internet connection anywhere within us but it comes at a cost russian rocket body shatters into 16 pieces in space ford mache ev sales nearly double in april gaspowered mustang struggles twitter faces advertiser skepticism at new york event ahead of elon musk takeover twitter offshoot bluesky releases early code for decentralized social network is it time to buy the nasdaqs 3 worst performing april stocks elon musk suggested getting into the lithium business and these surging stocks show why elon musk bags over 7b in twitter deal financing elon musk says larry ellison binance sequoia will now help fund twitter bid this is whats going to happen next ross gerber reveals teslas next big move should tesla shareholders be worried about elon musks twitter purchase rivian stock is starting to look attractive this trader predicted the bond meltdown tech selloff and oils surge heres what she says is coming next cnh industrial q1 earnings top estimates down yy why tesla stock crashed today the timing of teslas stock split could be in jeopardy why twitter shares rose 27 last month money talks the link between congressional stock trading and corporate lobbying rate hikes and stock selloff heres what it means for your retirement portfolio and whether you should add crypto into it dow ends nearly 1100 points lower and nasdaq sheds 5 marking its worst day in two years another elon musk biography coming heres which company is behind it'"
      ]
     },
     "execution_count": 33,
     "metadata": {},
     "output_type": "execute_result"
    }
   ],
   "source": [
    "check=cleaning_text(df_sorted['title'][256])\n",
    "check"
   ]
  },
  {
   "cell_type": "code",
   "execution_count": 34,
   "id": "380fdb3f-b408-4a31-99d1-5e0e2aef19a7",
   "metadata": {},
   "outputs": [],
   "source": [
    "# apply the cleaning_text function to the title column of the df_sorted dataframe"
   ]
  },
  {
   "cell_type": "code",
   "execution_count": 35,
   "id": "90f7203b-e6ab-45bb-bef8-301b47c9eae6",
   "metadata": {},
   "outputs": [],
   "source": [
    "df_sorted['clean_title']=df_sorted['title'].apply(lambda x : cleaning_text(x))"
   ]
  },
  {
   "cell_type": "code",
   "execution_count": 36,
   "id": "d5256978-5c65-4735-a759-8fe849f7ffb9",
   "metadata": {},
   "outputs": [
    {
     "name": "stdout",
     "output_type": "stream",
     "text": [
      "<class 'pandas.core.frame.DataFrame'>\n",
      "RangeIndex: 1746 entries, 0 to 1745\n",
      "Data columns (total 11 columns):\n",
      " #   Column       Non-Null Count  Dtype  \n",
      "---  ------       --------------  -----  \n",
      " 0   Date         1746 non-null   object \n",
      " 1   Open         1746 non-null   float64\n",
      " 2   High         1746 non-null   float64\n",
      " 3   Low          1746 non-null   float64\n",
      " 4   Close        1746 non-null   float64\n",
      " 5   Adj Close    1746 non-null   float64\n",
      " 6   Volume       1746 non-null   float64\n",
      " 7   title        1746 non-null   object \n",
      " 8   Label        1746 non-null   float64\n",
      " 9   Company      1746 non-null   float64\n",
      " 10  clean_title  1746 non-null   object \n",
      "dtypes: float64(8), object(3)\n",
      "memory usage: 150.2+ KB\n"
     ]
    }
   ],
   "source": [
    "df_sorted.info()"
   ]
  },
  {
   "cell_type": "code",
   "execution_count": 37,
   "id": "ebc8c2be-98ed-439b-acf4-b34645ebb776",
   "metadata": {},
   "outputs": [
    {
     "data": {
      "text/plain": [
       "title          What A 'Strong' Apple 2022 Product Line Up Cou...\n",
       "clean_title    what a strong apple 2022 product line up could...\n",
       "Name: 0, dtype: object"
      ]
     },
     "execution_count": 37,
     "metadata": {},
     "output_type": "execute_result"
    }
   ],
   "source": [
    "df_sorted[['title','clean_title']].iloc[0,:]"
   ]
  },
  {
   "cell_type": "code",
   "execution_count": 38,
   "id": "d99c217a-8349-410c-9461-eed9bd50bd48",
   "metadata": {},
   "outputs": [],
   "source": [
    "df4=df_sorted.drop('title',axis=1)"
   ]
  },
  {
   "cell_type": "code",
   "execution_count": 39,
   "id": "a451a73f-e4b0-49ff-9f34-a075ebec0f5a",
   "metadata": {},
   "outputs": [
    {
     "name": "stdout",
     "output_type": "stream",
     "text": [
      "<class 'pandas.core.frame.DataFrame'>\n",
      "RangeIndex: 1746 entries, 0 to 1745\n",
      "Data columns (total 10 columns):\n",
      " #   Column       Non-Null Count  Dtype  \n",
      "---  ------       --------------  -----  \n",
      " 0   Date         1746 non-null   object \n",
      " 1   Open         1746 non-null   float64\n",
      " 2   High         1746 non-null   float64\n",
      " 3   Low          1746 non-null   float64\n",
      " 4   Close        1746 non-null   float64\n",
      " 5   Adj Close    1746 non-null   float64\n",
      " 6   Volume       1746 non-null   float64\n",
      " 7   Label        1746 non-null   float64\n",
      " 8   Company      1746 non-null   float64\n",
      " 9   clean_title  1746 non-null   object \n",
      "dtypes: float64(8), object(2)\n",
      "memory usage: 136.5+ KB\n"
     ]
    }
   ],
   "source": [
    "df4.info()"
   ]
  },
  {
   "cell_type": "code",
   "execution_count": 40,
   "id": "fac5c674-1215-41a7-afef-53d32e472523",
   "metadata": {},
   "outputs": [
    {
     "data": {
      "text/plain": [
       "0       what a strong apple 2022 product line up could...\n",
       "1       lg energy solution starts taking orders for wh...\n",
       "2       updating 2021 calls while suggesting strategic...\n",
       "3       is 3 trillion just the beginning for apple app...\n",
       "4       tesla opens showroom in xinjiang the chinese r...\n",
       "                              ...                        \n",
       "1741    this spectacular vanguard etf could turn 250 p...\n",
       "1742    if you invested 10000 in amazon 10 years ago t...\n",
       "1743    1 unstoppable stock that could join microsoft ...\n",
       "1744    1 unstoppable stock that could join microsoft ...\n",
       "1745    tesla investor touts ev giants billionsmile le...\n",
       "Name: clean_title, Length: 1746, dtype: object"
      ]
     },
     "execution_count": 40,
     "metadata": {},
     "output_type": "execute_result"
    }
   ],
   "source": [
    "df4['clean_title']"
   ]
  },
  {
   "cell_type": "code",
   "execution_count": 41,
   "id": "c6fa544f-8c8e-417f-aeca-32b246ecf318",
   "metadata": {},
   "outputs": [
    {
     "data": {
      "text/html": [
       "<div>\n",
       "<style scoped>\n",
       "    .dataframe tbody tr th:only-of-type {\n",
       "        vertical-align: middle;\n",
       "    }\n",
       "\n",
       "    .dataframe tbody tr th {\n",
       "        vertical-align: top;\n",
       "    }\n",
       "\n",
       "    .dataframe thead th {\n",
       "        text-align: right;\n",
       "    }\n",
       "</style>\n",
       "<table border=\"1\" class=\"dataframe\">\n",
       "  <thead>\n",
       "    <tr style=\"text-align: right;\">\n",
       "      <th></th>\n",
       "      <th>index</th>\n",
       "      <th>Date</th>\n",
       "      <th>Open</th>\n",
       "      <th>High</th>\n",
       "      <th>Low</th>\n",
       "      <th>Close</th>\n",
       "      <th>Adj Close</th>\n",
       "      <th>Volume</th>\n",
       "      <th>Label</th>\n",
       "      <th>Company</th>\n",
       "      <th>clean_title</th>\n",
       "    </tr>\n",
       "  </thead>\n",
       "  <tbody>\n",
       "    <tr>\n",
       "      <th>0</th>\n",
       "      <td>0</td>\n",
       "      <td>2022-01-03</td>\n",
       "      <td>177.830002</td>\n",
       "      <td>182.880005</td>\n",
       "      <td>177.710007</td>\n",
       "      <td>182.009995</td>\n",
       "      <td>179.481140</td>\n",
       "      <td>104487900.0</td>\n",
       "      <td>1.0</td>\n",
       "      <td>1.0</td>\n",
       "      <td>what a strong apple 2022 product line up could...</td>\n",
       "    </tr>\n",
       "    <tr>\n",
       "      <th>1</th>\n",
       "      <td>1</td>\n",
       "      <td>2022-01-03</td>\n",
       "      <td>382.583344</td>\n",
       "      <td>400.356659</td>\n",
       "      <td>378.679993</td>\n",
       "      <td>399.926666</td>\n",
       "      <td>399.926666</td>\n",
       "      <td>103931400.0</td>\n",
       "      <td>1.0</td>\n",
       "      <td>3.0</td>\n",
       "      <td>lg energy solution starts taking orders for wh...</td>\n",
       "    </tr>\n",
       "    <tr>\n",
       "      <th>2</th>\n",
       "      <td>2</td>\n",
       "      <td>2022-01-03</td>\n",
       "      <td>167.550003</td>\n",
       "      <td>170.703506</td>\n",
       "      <td>166.160507</td>\n",
       "      <td>170.404495</td>\n",
       "      <td>170.404495</td>\n",
       "      <td>63520000.0</td>\n",
       "      <td>1.0</td>\n",
       "      <td>2.0</td>\n",
       "      <td>updating 2021 calls while suggesting strategic...</td>\n",
       "    </tr>\n",
       "    <tr>\n",
       "      <th>3</th>\n",
       "      <td>3</td>\n",
       "      <td>2022-01-04</td>\n",
       "      <td>182.630005</td>\n",
       "      <td>182.940002</td>\n",
       "      <td>179.119995</td>\n",
       "      <td>179.699997</td>\n",
       "      <td>177.203217</td>\n",
       "      <td>99310400.0</td>\n",
       "      <td>0.0</td>\n",
       "      <td>1.0</td>\n",
       "      <td>is 3 trillion just the beginning for apple app...</td>\n",
       "    </tr>\n",
       "    <tr>\n",
       "      <th>4</th>\n",
       "      <td>4</td>\n",
       "      <td>2022-01-04</td>\n",
       "      <td>396.516663</td>\n",
       "      <td>402.666656</td>\n",
       "      <td>374.350006</td>\n",
       "      <td>383.196655</td>\n",
       "      <td>383.196655</td>\n",
       "      <td>100248300.0</td>\n",
       "      <td>0.0</td>\n",
       "      <td>3.0</td>\n",
       "      <td>tesla opens showroom in xinjiang the chinese r...</td>\n",
       "    </tr>\n",
       "    <tr>\n",
       "      <th>...</th>\n",
       "      <td>...</td>\n",
       "      <td>...</td>\n",
       "      <td>...</td>\n",
       "      <td>...</td>\n",
       "      <td>...</td>\n",
       "      <td>...</td>\n",
       "      <td>...</td>\n",
       "      <td>...</td>\n",
       "      <td>...</td>\n",
       "      <td>...</td>\n",
       "      <td>...</td>\n",
       "    </tr>\n",
       "    <tr>\n",
       "      <th>1741</th>\n",
       "      <td>1741</td>\n",
       "      <td>2024-04-25</td>\n",
       "      <td>169.529999</td>\n",
       "      <td>170.610001</td>\n",
       "      <td>168.149994</td>\n",
       "      <td>169.889999</td>\n",
       "      <td>169.659882</td>\n",
       "      <td>50558300.0</td>\n",
       "      <td>1.0</td>\n",
       "      <td>1.0</td>\n",
       "      <td>this spectacular vanguard etf could turn 250 p...</td>\n",
       "    </tr>\n",
       "    <tr>\n",
       "      <th>1742</th>\n",
       "      <td>1742</td>\n",
       "      <td>2024-04-25</td>\n",
       "      <td>169.679993</td>\n",
       "      <td>173.919998</td>\n",
       "      <td>166.320007</td>\n",
       "      <td>173.669998</td>\n",
       "      <td>173.669998</td>\n",
       "      <td>49249400.0</td>\n",
       "      <td>0.0</td>\n",
       "      <td>2.0</td>\n",
       "      <td>if you invested 10000 in amazon 10 years ago t...</td>\n",
       "    </tr>\n",
       "    <tr>\n",
       "      <th>1743</th>\n",
       "      <td>1743</td>\n",
       "      <td>2024-04-26</td>\n",
       "      <td>177.800003</td>\n",
       "      <td>180.820007</td>\n",
       "      <td>176.130005</td>\n",
       "      <td>179.619995</td>\n",
       "      <td>179.619995</td>\n",
       "      <td>43919800.0</td>\n",
       "      <td>1.0</td>\n",
       "      <td>2.0</td>\n",
       "      <td>1 unstoppable stock that could join microsoft ...</td>\n",
       "    </tr>\n",
       "    <tr>\n",
       "      <th>1744</th>\n",
       "      <td>1744</td>\n",
       "      <td>2024-04-26</td>\n",
       "      <td>169.880005</td>\n",
       "      <td>171.339996</td>\n",
       "      <td>169.179993</td>\n",
       "      <td>169.300003</td>\n",
       "      <td>169.070679</td>\n",
       "      <td>44838400.0</td>\n",
       "      <td>0.0</td>\n",
       "      <td>1.0</td>\n",
       "      <td>1 unstoppable stock that could join microsoft ...</td>\n",
       "    </tr>\n",
       "    <tr>\n",
       "      <th>1745</th>\n",
       "      <td>1745</td>\n",
       "      <td>2024-04-26</td>\n",
       "      <td>168.850006</td>\n",
       "      <td>172.119995</td>\n",
       "      <td>166.369995</td>\n",
       "      <td>168.289993</td>\n",
       "      <td>168.289993</td>\n",
       "      <td>109815700.0</td>\n",
       "      <td>0.0</td>\n",
       "      <td>3.0</td>\n",
       "      <td>tesla investor touts ev giants billionsmile le...</td>\n",
       "    </tr>\n",
       "  </tbody>\n",
       "</table>\n",
       "<p>1746 rows × 11 columns</p>\n",
       "</div>"
      ],
      "text/plain": [
       "      index        Date        Open        High         Low       Close  \\\n",
       "0         0  2022-01-03  177.830002  182.880005  177.710007  182.009995   \n",
       "1         1  2022-01-03  382.583344  400.356659  378.679993  399.926666   \n",
       "2         2  2022-01-03  167.550003  170.703506  166.160507  170.404495   \n",
       "3         3  2022-01-04  182.630005  182.940002  179.119995  179.699997   \n",
       "4         4  2022-01-04  396.516663  402.666656  374.350006  383.196655   \n",
       "...     ...         ...         ...         ...         ...         ...   \n",
       "1741   1741  2024-04-25  169.529999  170.610001  168.149994  169.889999   \n",
       "1742   1742  2024-04-25  169.679993  173.919998  166.320007  173.669998   \n",
       "1743   1743  2024-04-26  177.800003  180.820007  176.130005  179.619995   \n",
       "1744   1744  2024-04-26  169.880005  171.339996  169.179993  169.300003   \n",
       "1745   1745  2024-04-26  168.850006  172.119995  166.369995  168.289993   \n",
       "\n",
       "       Adj Close       Volume  Label  Company  \\\n",
       "0     179.481140  104487900.0    1.0      1.0   \n",
       "1     399.926666  103931400.0    1.0      3.0   \n",
       "2     170.404495   63520000.0    1.0      2.0   \n",
       "3     177.203217   99310400.0    0.0      1.0   \n",
       "4     383.196655  100248300.0    0.0      3.0   \n",
       "...          ...          ...    ...      ...   \n",
       "1741  169.659882   50558300.0    1.0      1.0   \n",
       "1742  173.669998   49249400.0    0.0      2.0   \n",
       "1743  179.619995   43919800.0    1.0      2.0   \n",
       "1744  169.070679   44838400.0    0.0      1.0   \n",
       "1745  168.289993  109815700.0    0.0      3.0   \n",
       "\n",
       "                                            clean_title  \n",
       "0     what a strong apple 2022 product line up could...  \n",
       "1     lg energy solution starts taking orders for wh...  \n",
       "2     updating 2021 calls while suggesting strategic...  \n",
       "3     is 3 trillion just the beginning for apple app...  \n",
       "4     tesla opens showroom in xinjiang the chinese r...  \n",
       "...                                                 ...  \n",
       "1741  this spectacular vanguard etf could turn 250 p...  \n",
       "1742  if you invested 10000 in amazon 10 years ago t...  \n",
       "1743  1 unstoppable stock that could join microsoft ...  \n",
       "1744  1 unstoppable stock that could join microsoft ...  \n",
       "1745  tesla investor touts ev giants billionsmile le...  \n",
       "\n",
       "[1746 rows x 11 columns]"
      ]
     },
     "execution_count": 41,
     "metadata": {},
     "output_type": "execute_result"
    }
   ],
   "source": [
    "df4.reset_index()"
   ]
  },
  {
   "cell_type": "code",
   "execution_count": 42,
   "id": "61616d5d-735f-4734-b22f-eb173fcd0dd8",
   "metadata": {},
   "outputs": [],
   "source": [
    "df4['Label']=df4['Label'].astype(int)"
   ]
  },
  {
   "cell_type": "code",
   "execution_count": 43,
   "id": "80df69f4-0559-4e35-9238-aadc9b7683aa",
   "metadata": {},
   "outputs": [
    {
     "name": "stdout",
     "output_type": "stream",
     "text": [
      "<class 'pandas.core.frame.DataFrame'>\n",
      "RangeIndex: 1746 entries, 0 to 1745\n",
      "Data columns (total 10 columns):\n",
      " #   Column       Non-Null Count  Dtype  \n",
      "---  ------       --------------  -----  \n",
      " 0   Date         1746 non-null   object \n",
      " 1   Open         1746 non-null   float64\n",
      " 2   High         1746 non-null   float64\n",
      " 3   Low          1746 non-null   float64\n",
      " 4   Close        1746 non-null   float64\n",
      " 5   Adj Close    1746 non-null   float64\n",
      " 6   Volume       1746 non-null   float64\n",
      " 7   Label        1746 non-null   int32  \n",
      " 8   Company      1746 non-null   float64\n",
      " 9   clean_title  1746 non-null   object \n",
      "dtypes: float64(7), int32(1), object(2)\n",
      "memory usage: 129.7+ KB\n"
     ]
    }
   ],
   "source": [
    "df4.info()"
   ]
  },
  {
   "cell_type": "code",
   "execution_count": 44,
   "id": "7920ab63-f72d-41cd-a8f1-a96f90511600",
   "metadata": {},
   "outputs": [],
   "source": [
    "# Removal of stopwords "
   ]
  },
  {
   "cell_type": "code",
   "execution_count": 45,
   "id": "19a0da9c-a940-4838-bbab-380c94c2ae4d",
   "metadata": {},
   "outputs": [],
   "source": [
    "# pip install nltk"
   ]
  },
  {
   "cell_type": "code",
   "execution_count": 46,
   "id": "be61b11f-df9b-451f-9aef-88f021422e9c",
   "metadata": {},
   "outputs": [],
   "source": [
    "import nltk\n",
    "from nltk.corpus import stopwords "
   ]
  },
  {
   "cell_type": "code",
   "execution_count": 47,
   "id": "c811e283-121f-4949-923e-527c84412e0b",
   "metadata": {},
   "outputs": [],
   "source": [
    "# # Download the stopwords\n",
    "# nltk.download('stopwords')"
   ]
  },
  {
   "cell_type": "code",
   "execution_count": 48,
   "id": "80ba7534-a400-431f-b37b-b2cf1a551c45",
   "metadata": {},
   "outputs": [],
   "source": [
    "# Get the stop words list\n",
    "stop_words = set(stopwords.words('english'))"
   ]
  },
  {
   "cell_type": "code",
   "execution_count": 49,
   "id": "beeefab3-4564-4f76-acaa-c2efc4ab2441",
   "metadata": {},
   "outputs": [],
   "source": [
    "def remove_stopwords(text):\n",
    "    words = text.split()\n",
    "    cleaned_text = ' '.join(word for word in words if word.lower() not in stop_words)\n",
    "    return cleaned_text"
   ]
  },
  {
   "cell_type": "code",
   "execution_count": 50,
   "id": "7e54a5d9-959f-45a3-8db3-ad8f3f8c1cb4",
   "metadata": {},
   "outputs": [],
   "source": [
    "df4['clean_title']=df4['clean_title'].apply(remove_stopwords)"
   ]
  },
  {
   "cell_type": "code",
   "execution_count": 51,
   "id": "32869893-a0f1-44d3-8f38-1d6adc157c57",
   "metadata": {},
   "outputs": [
    {
     "data": {
      "text/html": [
       "<div>\n",
       "<style scoped>\n",
       "    .dataframe tbody tr th:only-of-type {\n",
       "        vertical-align: middle;\n",
       "    }\n",
       "\n",
       "    .dataframe tbody tr th {\n",
       "        vertical-align: top;\n",
       "    }\n",
       "\n",
       "    .dataframe thead th {\n",
       "        text-align: right;\n",
       "    }\n",
       "</style>\n",
       "<table border=\"1\" class=\"dataframe\">\n",
       "  <thead>\n",
       "    <tr style=\"text-align: right;\">\n",
       "      <th></th>\n",
       "      <th>Date</th>\n",
       "      <th>Open</th>\n",
       "      <th>High</th>\n",
       "      <th>Low</th>\n",
       "      <th>Close</th>\n",
       "      <th>Adj Close</th>\n",
       "      <th>Volume</th>\n",
       "      <th>Label</th>\n",
       "      <th>Company</th>\n",
       "      <th>clean_title</th>\n",
       "    </tr>\n",
       "  </thead>\n",
       "  <tbody>\n",
       "    <tr>\n",
       "      <th>0</th>\n",
       "      <td>2022-01-03</td>\n",
       "      <td>177.830002</td>\n",
       "      <td>182.880005</td>\n",
       "      <td>177.710007</td>\n",
       "      <td>182.009995</td>\n",
       "      <td>179.481140</td>\n",
       "      <td>104487900.0</td>\n",
       "      <td>1</td>\n",
       "      <td>1.0</td>\n",
       "      <td>strong apple 2022 product line could look like...</td>\n",
       "    </tr>\n",
       "    <tr>\n",
       "      <th>1</th>\n",
       "      <td>2022-01-03</td>\n",
       "      <td>382.583344</td>\n",
       "      <td>400.356659</td>\n",
       "      <td>378.679993</td>\n",
       "      <td>399.926666</td>\n",
       "      <td>399.926666</td>\n",
       "      <td>103931400.0</td>\n",
       "      <td>1</td>\n",
       "      <td>3.0</td>\n",
       "      <td>lg energy solution starts taking orders could ...</td>\n",
       "    </tr>\n",
       "    <tr>\n",
       "      <th>2</th>\n",
       "      <td>2022-01-03</td>\n",
       "      <td>167.550003</td>\n",
       "      <td>170.703506</td>\n",
       "      <td>166.160507</td>\n",
       "      <td>170.404495</td>\n",
       "      <td>170.404495</td>\n",
       "      <td>63520000.0</td>\n",
       "      <td>1</td>\n",
       "      <td>2.0</td>\n",
       "      <td>updating 2021 calls suggesting strategic posit...</td>\n",
       "    </tr>\n",
       "    <tr>\n",
       "      <th>3</th>\n",
       "      <td>2022-01-04</td>\n",
       "      <td>182.630005</td>\n",
       "      <td>182.940002</td>\n",
       "      <td>179.119995</td>\n",
       "      <td>179.699997</td>\n",
       "      <td>177.203217</td>\n",
       "      <td>99310400.0</td>\n",
       "      <td>0</td>\n",
       "      <td>1.0</td>\n",
       "      <td>3 trillion beginning apple apple car come prep...</td>\n",
       "    </tr>\n",
       "    <tr>\n",
       "      <th>4</th>\n",
       "      <td>2022-01-04</td>\n",
       "      <td>396.516663</td>\n",
       "      <td>402.666656</td>\n",
       "      <td>374.350006</td>\n",
       "      <td>383.196655</td>\n",
       "      <td>383.196655</td>\n",
       "      <td>100248300.0</td>\n",
       "      <td>0</td>\n",
       "      <td>3.0</td>\n",
       "      <td>tesla opens showroom xinjiang chinese region a...</td>\n",
       "    </tr>\n",
       "  </tbody>\n",
       "</table>\n",
       "</div>"
      ],
      "text/plain": [
       "         Date        Open        High         Low       Close   Adj Close  \\\n",
       "0  2022-01-03  177.830002  182.880005  177.710007  182.009995  179.481140   \n",
       "1  2022-01-03  382.583344  400.356659  378.679993  399.926666  399.926666   \n",
       "2  2022-01-03  167.550003  170.703506  166.160507  170.404495  170.404495   \n",
       "3  2022-01-04  182.630005  182.940002  179.119995  179.699997  177.203217   \n",
       "4  2022-01-04  396.516663  402.666656  374.350006  383.196655  383.196655   \n",
       "\n",
       "        Volume  Label  Company  \\\n",
       "0  104487900.0      1      1.0   \n",
       "1  103931400.0      1      3.0   \n",
       "2   63520000.0      1      2.0   \n",
       "3   99310400.0      0      1.0   \n",
       "4  100248300.0      0      3.0   \n",
       "\n",
       "                                         clean_title  \n",
       "0  strong apple 2022 product line could look like...  \n",
       "1  lg energy solution starts taking orders could ...  \n",
       "2  updating 2021 calls suggesting strategic posit...  \n",
       "3  3 trillion beginning apple apple car come prep...  \n",
       "4  tesla opens showroom xinjiang chinese region a...  "
      ]
     },
     "execution_count": 51,
     "metadata": {},
     "output_type": "execute_result"
    }
   ],
   "source": [
    "df4.head()"
   ]
  },
  {
   "cell_type": "markdown",
   "id": "abc31921-02d7-402d-9e53-a7199e3d78ce",
   "metadata": {},
   "source": [
    "## Applying Lemmatisation "
   ]
  },
  {
   "cell_type": "code",
   "execution_count": 52,
   "id": "ee2b776c-5a69-4624-9a08-d50de0d8cd9f",
   "metadata": {},
   "outputs": [],
   "source": [
    "from nltk.stem import WordNetLemmatizer "
   ]
  },
  {
   "cell_type": "code",
   "execution_count": 53,
   "id": "ec36b782-dd8a-4d21-8dd9-e900489bb6ff",
   "metadata": {},
   "outputs": [],
   "source": [
    "# nltk.download('wordnet')"
   ]
  },
  {
   "cell_type": "code",
   "execution_count": 54,
   "id": "96657e11-56ec-468e-b08b-739c7a88e373",
   "metadata": {},
   "outputs": [],
   "source": [
    "lemmatizer= WordNetLemmatizer()"
   ]
  },
  {
   "cell_type": "code",
   "execution_count": 55,
   "id": "b369e5d1-c2a8-453a-b88a-c6cc395fb74c",
   "metadata": {},
   "outputs": [],
   "source": [
    "def lemmatize_text(text):\n",
    "    tokens=text.split()\n",
    "    text = ' '.join([lemmatizer.lemmatize(token) for token in tokens])\n",
    "    return text"
   ]
  },
  {
   "cell_type": "code",
   "execution_count": 56,
   "id": "db21d821-fb79-487d-bf00-325e144d1dd8",
   "metadata": {},
   "outputs": [],
   "source": [
    "df4['clean_title']=df4['clean_title'].apply(lemmatize_text)"
   ]
  },
  {
   "cell_type": "code",
   "execution_count": 57,
   "id": "89594d6a-6bc0-44bd-937d-d396b1e47267",
   "metadata": {},
   "outputs": [
    {
     "data": {
      "text/plain": [
       "0       strong apple 2022 product line could look like...\n",
       "1       lg energy solution start taking order could so...\n",
       "2       updating 2021 call suggesting strategic positi...\n",
       "3       3 trillion beginning apple apple car come prep...\n",
       "4       tesla open showroom xinjiang chinese region as...\n",
       "                              ...                        \n",
       "1741    spectacular vanguard etf could turn 250 per mo...\n",
       "1742    invested 10000 amazon 10 year ago much would t...\n",
       "1743    1 unstoppable stock could join microsoft apple...\n",
       "1744    1 unstoppable stock could join microsoft apple...\n",
       "1745    tesla investor tout ev giant billionsmile leap...\n",
       "Name: clean_title, Length: 1746, dtype: object"
      ]
     },
     "execution_count": 57,
     "metadata": {},
     "output_type": "execute_result"
    }
   ],
   "source": [
    "df4['clean_title']"
   ]
  },
  {
   "cell_type": "markdown",
   "id": "736c78cb-19ec-4d50-95ff-63f6ace46fb0",
   "metadata": {},
   "source": [
    "## Creating Bag of Words for clean_text"
   ]
  },
  {
   "cell_type": "code",
   "execution_count": 58,
   "id": "202fe753-a429-4446-8511-efabcc899e1e",
   "metadata": {},
   "outputs": [],
   "source": [
    "from sklearn.feature_extraction.text import CountVectorizer"
   ]
  },
  {
   "cell_type": "code",
   "execution_count": 59,
   "id": "03cf9d64-3157-4d05-a185-e03a67a3aadf",
   "metadata": {},
   "outputs": [],
   "source": [
    "bow_vectorizer=CountVectorizer()\n",
    "bow_matrix=bow_vectorizer.fit_transform(df4['clean_title'])"
   ]
  },
  {
   "cell_type": "code",
   "execution_count": 60,
   "id": "29c3da57-1d22-489b-a0d1-74505c6f97f0",
   "metadata": {},
   "outputs": [
    {
     "data": {
      "text/plain": [
       "<1746x14058 sparse matrix of type '<class 'numpy.int64'>'\n",
       "\twith 209409 stored elements in Compressed Sparse Row format>"
      ]
     },
     "execution_count": 60,
     "metadata": {},
     "output_type": "execute_result"
    }
   ],
   "source": [
    "bow_matrix"
   ]
  },
  {
   "cell_type": "code",
   "execution_count": 61,
   "id": "1ac7d489-689f-4d4c-8a39-14758d27c236",
   "metadata": {},
   "outputs": [],
   "source": [
    "bow_array=bow_matrix.toarray()"
   ]
  },
  {
   "cell_type": "code",
   "execution_count": 62,
   "id": "069c26c3-90c5-463a-91f8-292024653d9c",
   "metadata": {},
   "outputs": [
    {
     "data": {
      "text/plain": [
       "array([[0, 0, 0, ..., 0, 0, 0],\n",
       "       [0, 0, 0, ..., 0, 0, 0],\n",
       "       [0, 0, 0, ..., 0, 0, 0],\n",
       "       ...,\n",
       "       [0, 0, 0, ..., 0, 0, 0],\n",
       "       [0, 0, 0, ..., 0, 0, 0],\n",
       "       [0, 0, 0, ..., 0, 0, 0]], dtype=int64)"
      ]
     },
     "execution_count": 62,
     "metadata": {},
     "output_type": "execute_result"
    }
   ],
   "source": [
    "bow_array"
   ]
  },
  {
   "cell_type": "code",
   "execution_count": 63,
   "id": "5f1d4c9f-b521-4ea7-80e6-6bfeccf13a1e",
   "metadata": {},
   "outputs": [],
   "source": [
    "from sklearn.decomposition import PCA"
   ]
  },
  {
   "cell_type": "code",
   "execution_count": 64,
   "id": "75371204-c88a-41ca-afdf-d1c2ea7202c6",
   "metadata": {},
   "outputs": [],
   "source": [
    "pca=PCA(n_components=0.9)"
   ]
  },
  {
   "cell_type": "code",
   "execution_count": 65,
   "id": "a5470e4f-634e-4ced-bc82-5a600055b836",
   "metadata": {},
   "outputs": [],
   "source": [
    "bow_array_pca=pca.fit_transform(bow_array)"
   ]
  },
  {
   "cell_type": "code",
   "execution_count": 66,
   "id": "8ceb0852-f531-4306-9f6b-9b883214a2ea",
   "metadata": {},
   "outputs": [
    {
     "data": {
      "text/plain": [
       "622"
      ]
     },
     "execution_count": 66,
     "metadata": {},
     "output_type": "execute_result"
    }
   ],
   "source": [
    "pca.n_components_"
   ]
  },
  {
   "cell_type": "code",
   "execution_count": null,
   "id": "d3e3d0e9-85f2-4c23-b946-c0f418af15fa",
   "metadata": {},
   "outputs": [],
   "source": []
  },
  {
   "cell_type": "code",
   "execution_count": null,
   "id": "2b87bb23-634a-4e21-8011-db1a1739b5d8",
   "metadata": {},
   "outputs": [],
   "source": []
  },
  {
   "cell_type": "code",
   "execution_count": null,
   "id": "0fa2e064-cb44-45da-9ff0-37dff7489d36",
   "metadata": {},
   "outputs": [],
   "source": []
  },
  {
   "cell_type": "markdown",
   "id": "ebd79162-66b6-4cca-a299-19e2bfcf1659",
   "metadata": {},
   "source": [
    "## Creating Pretrained word2vec for clean_text"
   ]
  },
  {
   "cell_type": "code",
   "execution_count": 67,
   "id": "d28d645c-8ad2-4140-ae20-69809783769a",
   "metadata": {},
   "outputs": [],
   "source": [
    "# slashing the below code to not make it run for subsequent runs of the notebook , and the word embedding are stored to pre_trained_word2vec.csv file in \n",
    "# which the values are stored of clean_title"
   ]
  },
  {
   "cell_type": "code",
   "execution_count": 68,
   "id": "c8fca25d-6702-49e3-bc9f-fcbd8bb5c68a",
   "metadata": {},
   "outputs": [],
   "source": [
    "# pip install gensim"
   ]
  },
  {
   "cell_type": "code",
   "execution_count": 430,
   "id": "9da32507-2d7a-438e-9c8e-bc578a89b820",
   "metadata": {},
   "outputs": [],
   "source": [
    "import gensim.downloader as api\n",
    "# import numpy as np \n",
    "# gensim.__version__"
   ]
  },
  {
   "cell_type": "code",
   "execution_count": 431,
   "id": "916f57fe-4718-48c9-be52-31c900cf62b5",
   "metadata": {},
   "outputs": [],
   "source": [
    "model = api.load(\"word2vec-google-news-300\")"
   ]
  },
  {
   "cell_type": "code",
   "execution_count": 432,
   "id": "42533224-e332-4006-a9de-8be2f900db95",
   "metadata": {},
   "outputs": [],
   "source": [
    "# this is a function to convert a text paragraph into vector\n",
    "def document_to_vector(document,model):\n",
    "    words=document.split()\n",
    "    word_vectors = [model[word] for word in words if word in model]\n",
    "    if not word_vectors:\n",
    "        return np.zeros(model.vector_size)\n",
    "    document_vector = np.mean(word_vectors,axis=0)\n",
    "    return document_vector"
   ]
  },
  {
   "cell_type": "code",
   "execution_count": 434,
   "id": "bf0a83e9-619e-4b34-b78b-b7a38f9dda73",
   "metadata": {},
   "outputs": [],
   "source": [
    "pre_trained_word2vec = df4['clean_title'].apply(lambda x: document_to_vector(x,model))"
   ]
  },
  {
   "cell_type": "code",
   "execution_count": 436,
   "id": "5f24b196-842a-4deb-8b8f-9fe6396a7ff3",
   "metadata": {},
   "outputs": [
    {
     "data": {
      "text/plain": [
       "0       [0.00953895, 0.0009532198, -0.011498066, 0.083...\n",
       "1       [-0.0003925652, 0.032543052, 0.020452728, 0.06...\n",
       "2       [0.016471973, 0.0005563463, -0.024610301, 0.08...\n",
       "3       [-0.015810648, 0.008278012, -0.009677172, 0.08...\n",
       "4       [0.013206236, 0.034184013, 0.032716233, 0.0666...\n",
       "                              ...                        \n",
       "1741    [0.015834594, 0.030510034, 0.006982439, 0.0995...\n",
       "1742    [0.011908263, 0.020769238, -0.031156182, 0.099...\n",
       "1743    [0.012385833, 0.020524636, -0.014020858, 0.091...\n",
       "1744    [0.008278037, 0.002114206, -0.003083715, 0.082...\n",
       "1745    [0.021268114, 0.0144314235, 0.038091447, 0.066...\n",
       "Name: clean_title, Length: 1746, dtype: object"
      ]
     },
     "execution_count": 436,
     "metadata": {},
     "output_type": "execute_result"
    }
   ],
   "source": [
    "pre_trained_word2vec"
   ]
  },
  {
   "cell_type": "code",
   "execution_count": 74,
   "id": "11a0ad13-72be-4a78-8e59-a5bc2f48d6f5",
   "metadata": {},
   "outputs": [
    {
     "data": {
      "text/plain": [
       "'C:\\\\Users\\\\Jaya Teja\\\\Stock_Sentiment_Analysis_Using_Machine_Learning_Open_Project\\\\Finance_Project'"
      ]
     },
     "execution_count": 74,
     "metadata": {},
     "output_type": "execute_result"
    }
   ],
   "source": [
    "pwd"
   ]
  },
  {
   "cell_type": "code",
   "execution_count": 75,
   "id": "193da4a4-121a-4c26-b549-98fe85d08eec",
   "metadata": {},
   "outputs": [],
   "source": [
    "# pre_trained_word2vec.to_csv(\"pre_trained_word2vec.csv\")"
   ]
  },
  {
   "cell_type": "code",
   "execution_count": 76,
   "id": "4cfcb85c-aac8-4a59-a099-390426027166",
   "metadata": {},
   "outputs": [],
   "source": [
    "# saved the word embeddings of the clean title column to local storage for future use purpose "
   ]
  },
  {
   "cell_type": "code",
   "execution_count": 414,
   "id": "311d2976-5a65-428b-8971-58a3cce3eab7",
   "metadata": {},
   "outputs": [],
   "source": [
    "# pre_trained_word2vec= pd.read_csv(r\"C:\\Users\\Jaya Teja\\Stock_Sentiment_Analysis_Using_Machine_Learning_Open_Project\\Finance_Project\\pre_trained_word2vec.csv\")"
   ]
  },
  {
   "cell_type": "code",
   "execution_count": 439,
   "id": "ea066bfa-82c5-4a26-8bff-1d52e2bd0c4e",
   "metadata": {},
   "outputs": [
    {
     "data": {
      "text/plain": [
       "300"
      ]
     },
     "execution_count": 439,
     "metadata": {},
     "output_type": "execute_result"
    }
   ],
   "source": [
    "len(pre_trained_word2vec[0])"
   ]
  },
  {
   "cell_type": "markdown",
   "id": "4ab02e66-5cfb-4f36-8c7a-cc6425737959",
   "metadata": {},
   "source": [
    "## Local Word2Vec for clean_title"
   ]
  },
  {
   "cell_type": "code",
   "execution_count": 79,
   "id": "ad7a0f5a-b375-4991-a709-c5a16aa452d5",
   "metadata": {},
   "outputs": [],
   "source": [
    "from gensim.models import Word2Vec\n",
    "import nltk\n",
    "# nltk.download('punkt')"
   ]
  },
  {
   "cell_type": "code",
   "execution_count": 80,
   "id": "9a6d967b-a462-4fc6-ab2a-1ded47e4f485",
   "metadata": {},
   "outputs": [],
   "source": [
    "# Tokenize the text\n",
    "tokenized_text = [nltk.word_tokenize(sentence) for sentence in df4['clean_title']]\n",
    "\n",
    "# # Train the Word2Vec model\n",
    "model = Word2Vec(tokenized_text, min_count=1, epochs=10)"
   ]
  },
  {
   "cell_type": "code",
   "execution_count": 81,
   "id": "43aa5d1e-bd75-41ad-a67c-94b03af9db18",
   "metadata": {},
   "outputs": [],
   "source": [
    "def sentence_embedding(sentence):\n",
    "    word_embeddings = [model.wv.get_vector(word) for word in nltk.word_tokenize(sentence) if word in model.wv.key_to_index]\n",
    "    if word_embeddings:\n",
    "        return np.mean(word_embeddings, axis=0)\n",
    "    else:\n",
    "        return [0] * model.vector_size "
   ]
  },
  {
   "cell_type": "code",
   "execution_count": 82,
   "id": "aa88aa2b-8e8f-4658-867c-0fa07f5e6d79",
   "metadata": {},
   "outputs": [],
   "source": [
    "word2vec_matrix=np.array([sentence_embedding(text) for text in df4['clean_title']])"
   ]
  },
  {
   "cell_type": "code",
   "execution_count": 83,
   "id": "7ecbb6b2-b4da-48ff-8651-4dbf1d1e5225",
   "metadata": {},
   "outputs": [
    {
     "data": {
      "text/plain": [
       "array([[-0.10933033,  0.37824813,  0.1290839 , ..., -0.18848103,\n",
       "         0.07990307,  0.13773538],\n",
       "       [-0.1433161 ,  0.26609567,  0.04606202, ..., -0.35859227,\n",
       "        -0.0511989 ,  0.06494962],\n",
       "       [-0.15189329,  0.33444175,  0.12747173, ..., -0.13371132,\n",
       "         0.05400471,  0.1299457 ],\n",
       "       ...,\n",
       "       [-0.3055962 ,  0.2624671 ,  0.28193277, ..., -0.24200682,\n",
       "         0.04341796, -0.18101749],\n",
       "       [-0.13257213,  0.36976716,  0.28989828, ..., -0.29754713,\n",
       "         0.08052617, -0.08649667],\n",
       "       [-0.18053323,  0.3639784 , -0.01836862, ..., -0.3386009 ,\n",
       "        -0.02268   ,  0.09380392]], dtype=float32)"
      ]
     },
     "execution_count": 83,
     "metadata": {},
     "output_type": "execute_result"
    }
   ],
   "source": [
    "word2vec_matrix"
   ]
  },
  {
   "cell_type": "markdown",
   "id": "f2d76e68-12d9-4076-b0df-fcf0240e57b0",
   "metadata": {},
   "source": [
    "## Using Sentiment Intensity Analyser \n"
   ]
  },
  {
   "cell_type": "code",
   "execution_count": 84,
   "id": "e06e7494-1257-4193-a796-b9dd5bc6dbe9",
   "metadata": {},
   "outputs": [],
   "source": [
    "# pip install vaderSentiment"
   ]
  },
  {
   "cell_type": "code",
   "execution_count": 85,
   "id": "bd893153-bd34-47d5-9f14-ef518857fbae",
   "metadata": {},
   "outputs": [],
   "source": [
    "from vaderSentiment.vaderSentiment import SentimentIntensityAnalyzer"
   ]
  },
  {
   "cell_type": "code",
   "execution_count": 86,
   "id": "1390ad17-266e-48ed-ae3a-a3c73944d316",
   "metadata": {},
   "outputs": [],
   "source": [
    "analyzer= SentimentIntensityAnalyzer()"
   ]
  },
  {
   "cell_type": "code",
   "execution_count": 87,
   "id": "ca409cf1-9f51-43ea-ba5d-f017a3e0e97f",
   "metadata": {},
   "outputs": [],
   "source": [
    "def analyze_sentiment(text):\n",
    "    scores = analyzer.polarity_scores(text)\n",
    "    return scores"
   ]
  },
  {
   "cell_type": "code",
   "execution_count": 88,
   "id": "aac7f5d4-a331-4474-b9e5-630049f4f3e0",
   "metadata": {},
   "outputs": [],
   "source": [
    "sentiment_scores=pd.DataFrame()"
   ]
  },
  {
   "cell_type": "code",
   "execution_count": 89,
   "id": "7e87ff53-f392-4f46-b888-979530f57a23",
   "metadata": {},
   "outputs": [],
   "source": [
    "sentiment_scores=df4['clean_title'].apply(lambda x: analyze_sentiment(x))"
   ]
  },
  {
   "cell_type": "code",
   "execution_count": 90,
   "id": "7b55b270-0f67-4954-b257-0653acfbf2cd",
   "metadata": {},
   "outputs": [
    {
     "data": {
      "text/plain": [
       "{'neg': 0.055, 'neu': 0.813, 'pos': 0.132, 'compound': 0.99}"
      ]
     },
     "execution_count": 90,
     "metadata": {},
     "output_type": "execute_result"
    }
   ],
   "source": [
    "sentiment_scores[1]"
   ]
  },
  {
   "cell_type": "code",
   "execution_count": 91,
   "id": "5f7891e4-f1c6-4487-8430-1659e34f0905",
   "metadata": {},
   "outputs": [],
   "source": [
    "# So here neg indicates how much the sentence is negative from 0 to 1\n",
    "# neu indicates how much the sentence is neutral from 0 to 1 \n",
    "# pos indicates how much the sentence is positive from 0 to 1 \n",
    "# compound indicates how much the overall sentence is from -1(extremely negative) to \n",
    "# 1(extremely positive)\n",
    "\n",
    "# So we use compound to get the overall effect of the sentence"
   ]
  },
  {
   "cell_type": "code",
   "execution_count": 92,
   "id": "ff50997b-ca2c-4379-a9f2-91f1e077617f",
   "metadata": {},
   "outputs": [],
   "source": [
    "compound_sentiment=sentiment_scores.apply(lambda x: x['compound'])"
   ]
  },
  {
   "cell_type": "code",
   "execution_count": 93,
   "id": "65965ac5-7434-47ae-9a5b-41c1a1971680",
   "metadata": {},
   "outputs": [
    {
     "data": {
      "text/plain": [
       "0       {'neg': 0.022, 'neu': 0.781, 'pos': 0.197, 'co...\n",
       "1       {'neg': 0.055, 'neu': 0.813, 'pos': 0.132, 'co...\n",
       "2       {'neg': 0.048, 'neu': 0.698, 'pos': 0.254, 'co...\n",
       "3       {'neg': 0.018, 'neu': 0.818, 'pos': 0.165, 'co...\n",
       "4       {'neg': 0.056, 'neu': 0.784, 'pos': 0.16, 'com...\n",
       "                              ...                        \n",
       "1741    {'neg': 0.05, 'neu': 0.747, 'pos': 0.203, 'com...\n",
       "1742    {'neg': 0.034, 'neu': 0.684, 'pos': 0.282, 'co...\n",
       "1743    {'neg': 0.063, 'neu': 0.72, 'pos': 0.217, 'com...\n",
       "1744    {'neg': 0.077, 'neu': 0.793, 'pos': 0.13, 'com...\n",
       "1745    {'neg': 0.097, 'neu': 0.783, 'pos': 0.119, 'co...\n",
       "Name: clean_title, Length: 1746, dtype: object"
      ]
     },
     "execution_count": 93,
     "metadata": {},
     "output_type": "execute_result"
    }
   ],
   "source": [
    "sentiment_scores"
   ]
  },
  {
   "cell_type": "code",
   "execution_count": 94,
   "id": "9a4000f8-695d-41a5-b450-5ac4542909ad",
   "metadata": {},
   "outputs": [
    {
     "data": {
      "text/plain": [
       "0       0.9941\n",
       "1       0.9900\n",
       "2       0.9904\n",
       "3       0.9849\n",
       "4       0.9821\n",
       "         ...  \n",
       "1741    0.9468\n",
       "1742    0.9897\n",
       "1743    0.9762\n",
       "1744    0.5733\n",
       "1745    0.3103\n",
       "Name: clean_title, Length: 1746, dtype: float64"
      ]
     },
     "execution_count": 94,
     "metadata": {},
     "output_type": "execute_result"
    }
   ],
   "source": [
    "compound_sentiment"
   ]
  },
  {
   "cell_type": "markdown",
   "id": "8d9851dc-5843-4ffa-8608-26c27fbf25c7",
   "metadata": {},
   "source": [
    "## Using Tf-Idf on text"
   ]
  },
  {
   "cell_type": "code",
   "execution_count": 95,
   "id": "c77ad616-8dce-4785-8557-4251ee20cc0a",
   "metadata": {},
   "outputs": [],
   "source": [
    "from sklearn.feature_extraction.text  import TfidfVectorizer"
   ]
  },
  {
   "cell_type": "code",
   "execution_count": 96,
   "id": "72cf5d22-2e88-4248-897e-9fa906c5f50a",
   "metadata": {},
   "outputs": [],
   "source": [
    "vectorizer= TfidfVectorizer()"
   ]
  },
  {
   "cell_type": "code",
   "execution_count": 97,
   "id": "3d2dd35e-b260-406a-82d9-5433fa2dc539",
   "metadata": {},
   "outputs": [],
   "source": [
    "tfidf_matrix= vectorizer.fit_transform(df4['clean_title'])"
   ]
  },
  {
   "cell_type": "code",
   "execution_count": 98,
   "id": "be86e749-f038-4433-a350-da3062fca63e",
   "metadata": {},
   "outputs": [],
   "source": [
    "tfidf_df=pd.DataFrame(tfidf_matrix.toarray())"
   ]
  },
  {
   "cell_type": "code",
   "execution_count": 99,
   "id": "43868a47-9f16-4162-b431-2cf896b6b4d5",
   "metadata": {},
   "outputs": [
    {
     "data": {
      "text/html": [
       "<div>\n",
       "<style scoped>\n",
       "    .dataframe tbody tr th:only-of-type {\n",
       "        vertical-align: middle;\n",
       "    }\n",
       "\n",
       "    .dataframe tbody tr th {\n",
       "        vertical-align: top;\n",
       "    }\n",
       "\n",
       "    .dataframe thead th {\n",
       "        text-align: right;\n",
       "    }\n",
       "</style>\n",
       "<table border=\"1\" class=\"dataframe\">\n",
       "  <thead>\n",
       "    <tr style=\"text-align: right;\">\n",
       "      <th></th>\n",
       "      <th>0</th>\n",
       "      <th>1</th>\n",
       "      <th>2</th>\n",
       "      <th>3</th>\n",
       "      <th>4</th>\n",
       "      <th>5</th>\n",
       "      <th>6</th>\n",
       "      <th>7</th>\n",
       "      <th>8</th>\n",
       "      <th>9</th>\n",
       "      <th>...</th>\n",
       "      <th>14048</th>\n",
       "      <th>14049</th>\n",
       "      <th>14050</th>\n",
       "      <th>14051</th>\n",
       "      <th>14052</th>\n",
       "      <th>14053</th>\n",
       "      <th>14054</th>\n",
       "      <th>14055</th>\n",
       "      <th>14056</th>\n",
       "      <th>14057</th>\n",
       "    </tr>\n",
       "  </thead>\n",
       "  <tbody>\n",
       "    <tr>\n",
       "      <th>0</th>\n",
       "      <td>0.0</td>\n",
       "      <td>0.0</td>\n",
       "      <td>0.0</td>\n",
       "      <td>0.0</td>\n",
       "      <td>0.0</td>\n",
       "      <td>0.0</td>\n",
       "      <td>0.0</td>\n",
       "      <td>0.0</td>\n",
       "      <td>0.0</td>\n",
       "      <td>0.0</td>\n",
       "      <td>...</td>\n",
       "      <td>0.0</td>\n",
       "      <td>0.0</td>\n",
       "      <td>0.0</td>\n",
       "      <td>0.0</td>\n",
       "      <td>0.0</td>\n",
       "      <td>0.0</td>\n",
       "      <td>0.0</td>\n",
       "      <td>0.0</td>\n",
       "      <td>0.0</td>\n",
       "      <td>0.0</td>\n",
       "    </tr>\n",
       "    <tr>\n",
       "      <th>1</th>\n",
       "      <td>0.0</td>\n",
       "      <td>0.0</td>\n",
       "      <td>0.0</td>\n",
       "      <td>0.0</td>\n",
       "      <td>0.0</td>\n",
       "      <td>0.0</td>\n",
       "      <td>0.0</td>\n",
       "      <td>0.0</td>\n",
       "      <td>0.0</td>\n",
       "      <td>0.0</td>\n",
       "      <td>...</td>\n",
       "      <td>0.0</td>\n",
       "      <td>0.0</td>\n",
       "      <td>0.0</td>\n",
       "      <td>0.0</td>\n",
       "      <td>0.0</td>\n",
       "      <td>0.0</td>\n",
       "      <td>0.0</td>\n",
       "      <td>0.0</td>\n",
       "      <td>0.0</td>\n",
       "      <td>0.0</td>\n",
       "    </tr>\n",
       "    <tr>\n",
       "      <th>2</th>\n",
       "      <td>0.0</td>\n",
       "      <td>0.0</td>\n",
       "      <td>0.0</td>\n",
       "      <td>0.0</td>\n",
       "      <td>0.0</td>\n",
       "      <td>0.0</td>\n",
       "      <td>0.0</td>\n",
       "      <td>0.0</td>\n",
       "      <td>0.0</td>\n",
       "      <td>0.0</td>\n",
       "      <td>...</td>\n",
       "      <td>0.0</td>\n",
       "      <td>0.0</td>\n",
       "      <td>0.0</td>\n",
       "      <td>0.0</td>\n",
       "      <td>0.0</td>\n",
       "      <td>0.0</td>\n",
       "      <td>0.0</td>\n",
       "      <td>0.0</td>\n",
       "      <td>0.0</td>\n",
       "      <td>0.0</td>\n",
       "    </tr>\n",
       "    <tr>\n",
       "      <th>3</th>\n",
       "      <td>0.0</td>\n",
       "      <td>0.0</td>\n",
       "      <td>0.0</td>\n",
       "      <td>0.0</td>\n",
       "      <td>0.0</td>\n",
       "      <td>0.0</td>\n",
       "      <td>0.0</td>\n",
       "      <td>0.0</td>\n",
       "      <td>0.0</td>\n",
       "      <td>0.0</td>\n",
       "      <td>...</td>\n",
       "      <td>0.0</td>\n",
       "      <td>0.0</td>\n",
       "      <td>0.0</td>\n",
       "      <td>0.0</td>\n",
       "      <td>0.0</td>\n",
       "      <td>0.0</td>\n",
       "      <td>0.0</td>\n",
       "      <td>0.0</td>\n",
       "      <td>0.0</td>\n",
       "      <td>0.0</td>\n",
       "    </tr>\n",
       "    <tr>\n",
       "      <th>4</th>\n",
       "      <td>0.0</td>\n",
       "      <td>0.0</td>\n",
       "      <td>0.0</td>\n",
       "      <td>0.0</td>\n",
       "      <td>0.0</td>\n",
       "      <td>0.0</td>\n",
       "      <td>0.0</td>\n",
       "      <td>0.0</td>\n",
       "      <td>0.0</td>\n",
       "      <td>0.0</td>\n",
       "      <td>...</td>\n",
       "      <td>0.0</td>\n",
       "      <td>0.0</td>\n",
       "      <td>0.0</td>\n",
       "      <td>0.0</td>\n",
       "      <td>0.0</td>\n",
       "      <td>0.0</td>\n",
       "      <td>0.0</td>\n",
       "      <td>0.0</td>\n",
       "      <td>0.0</td>\n",
       "      <td>0.0</td>\n",
       "    </tr>\n",
       "    <tr>\n",
       "      <th>...</th>\n",
       "      <td>...</td>\n",
       "      <td>...</td>\n",
       "      <td>...</td>\n",
       "      <td>...</td>\n",
       "      <td>...</td>\n",
       "      <td>...</td>\n",
       "      <td>...</td>\n",
       "      <td>...</td>\n",
       "      <td>...</td>\n",
       "      <td>...</td>\n",
       "      <td>...</td>\n",
       "      <td>...</td>\n",
       "      <td>...</td>\n",
       "      <td>...</td>\n",
       "      <td>...</td>\n",
       "      <td>...</td>\n",
       "      <td>...</td>\n",
       "      <td>...</td>\n",
       "      <td>...</td>\n",
       "      <td>...</td>\n",
       "      <td>...</td>\n",
       "    </tr>\n",
       "    <tr>\n",
       "      <th>1741</th>\n",
       "      <td>0.0</td>\n",
       "      <td>0.0</td>\n",
       "      <td>0.0</td>\n",
       "      <td>0.0</td>\n",
       "      <td>0.0</td>\n",
       "      <td>0.0</td>\n",
       "      <td>0.0</td>\n",
       "      <td>0.0</td>\n",
       "      <td>0.0</td>\n",
       "      <td>0.0</td>\n",
       "      <td>...</td>\n",
       "      <td>0.0</td>\n",
       "      <td>0.0</td>\n",
       "      <td>0.0</td>\n",
       "      <td>0.0</td>\n",
       "      <td>0.0</td>\n",
       "      <td>0.0</td>\n",
       "      <td>0.0</td>\n",
       "      <td>0.0</td>\n",
       "      <td>0.0</td>\n",
       "      <td>0.0</td>\n",
       "    </tr>\n",
       "    <tr>\n",
       "      <th>1742</th>\n",
       "      <td>0.0</td>\n",
       "      <td>0.0</td>\n",
       "      <td>0.0</td>\n",
       "      <td>0.0</td>\n",
       "      <td>0.0</td>\n",
       "      <td>0.0</td>\n",
       "      <td>0.0</td>\n",
       "      <td>0.0</td>\n",
       "      <td>0.0</td>\n",
       "      <td>0.0</td>\n",
       "      <td>...</td>\n",
       "      <td>0.0</td>\n",
       "      <td>0.0</td>\n",
       "      <td>0.0</td>\n",
       "      <td>0.0</td>\n",
       "      <td>0.0</td>\n",
       "      <td>0.0</td>\n",
       "      <td>0.0</td>\n",
       "      <td>0.0</td>\n",
       "      <td>0.0</td>\n",
       "      <td>0.0</td>\n",
       "    </tr>\n",
       "    <tr>\n",
       "      <th>1743</th>\n",
       "      <td>0.0</td>\n",
       "      <td>0.0</td>\n",
       "      <td>0.0</td>\n",
       "      <td>0.0</td>\n",
       "      <td>0.0</td>\n",
       "      <td>0.0</td>\n",
       "      <td>0.0</td>\n",
       "      <td>0.0</td>\n",
       "      <td>0.0</td>\n",
       "      <td>0.0</td>\n",
       "      <td>...</td>\n",
       "      <td>0.0</td>\n",
       "      <td>0.0</td>\n",
       "      <td>0.0</td>\n",
       "      <td>0.0</td>\n",
       "      <td>0.0</td>\n",
       "      <td>0.0</td>\n",
       "      <td>0.0</td>\n",
       "      <td>0.0</td>\n",
       "      <td>0.0</td>\n",
       "      <td>0.0</td>\n",
       "    </tr>\n",
       "    <tr>\n",
       "      <th>1744</th>\n",
       "      <td>0.0</td>\n",
       "      <td>0.0</td>\n",
       "      <td>0.0</td>\n",
       "      <td>0.0</td>\n",
       "      <td>0.0</td>\n",
       "      <td>0.0</td>\n",
       "      <td>0.0</td>\n",
       "      <td>0.0</td>\n",
       "      <td>0.0</td>\n",
       "      <td>0.0</td>\n",
       "      <td>...</td>\n",
       "      <td>0.0</td>\n",
       "      <td>0.0</td>\n",
       "      <td>0.0</td>\n",
       "      <td>0.0</td>\n",
       "      <td>0.0</td>\n",
       "      <td>0.0</td>\n",
       "      <td>0.0</td>\n",
       "      <td>0.0</td>\n",
       "      <td>0.0</td>\n",
       "      <td>0.0</td>\n",
       "    </tr>\n",
       "    <tr>\n",
       "      <th>1745</th>\n",
       "      <td>0.0</td>\n",
       "      <td>0.0</td>\n",
       "      <td>0.0</td>\n",
       "      <td>0.0</td>\n",
       "      <td>0.0</td>\n",
       "      <td>0.0</td>\n",
       "      <td>0.0</td>\n",
       "      <td>0.0</td>\n",
       "      <td>0.0</td>\n",
       "      <td>0.0</td>\n",
       "      <td>...</td>\n",
       "      <td>0.0</td>\n",
       "      <td>0.0</td>\n",
       "      <td>0.0</td>\n",
       "      <td>0.0</td>\n",
       "      <td>0.0</td>\n",
       "      <td>0.0</td>\n",
       "      <td>0.0</td>\n",
       "      <td>0.0</td>\n",
       "      <td>0.0</td>\n",
       "      <td>0.0</td>\n",
       "    </tr>\n",
       "  </tbody>\n",
       "</table>\n",
       "<p>1746 rows × 14058 columns</p>\n",
       "</div>"
      ],
      "text/plain": [
       "      0      1      2      3      4      5      6      7      8      9      \\\n",
       "0       0.0    0.0    0.0    0.0    0.0    0.0    0.0    0.0    0.0    0.0   \n",
       "1       0.0    0.0    0.0    0.0    0.0    0.0    0.0    0.0    0.0    0.0   \n",
       "2       0.0    0.0    0.0    0.0    0.0    0.0    0.0    0.0    0.0    0.0   \n",
       "3       0.0    0.0    0.0    0.0    0.0    0.0    0.0    0.0    0.0    0.0   \n",
       "4       0.0    0.0    0.0    0.0    0.0    0.0    0.0    0.0    0.0    0.0   \n",
       "...     ...    ...    ...    ...    ...    ...    ...    ...    ...    ...   \n",
       "1741    0.0    0.0    0.0    0.0    0.0    0.0    0.0    0.0    0.0    0.0   \n",
       "1742    0.0    0.0    0.0    0.0    0.0    0.0    0.0    0.0    0.0    0.0   \n",
       "1743    0.0    0.0    0.0    0.0    0.0    0.0    0.0    0.0    0.0    0.0   \n",
       "1744    0.0    0.0    0.0    0.0    0.0    0.0    0.0    0.0    0.0    0.0   \n",
       "1745    0.0    0.0    0.0    0.0    0.0    0.0    0.0    0.0    0.0    0.0   \n",
       "\n",
       "      ...  14048  14049  14050  14051  14052  14053  14054  14055  14056  \\\n",
       "0     ...    0.0    0.0    0.0    0.0    0.0    0.0    0.0    0.0    0.0   \n",
       "1     ...    0.0    0.0    0.0    0.0    0.0    0.0    0.0    0.0    0.0   \n",
       "2     ...    0.0    0.0    0.0    0.0    0.0    0.0    0.0    0.0    0.0   \n",
       "3     ...    0.0    0.0    0.0    0.0    0.0    0.0    0.0    0.0    0.0   \n",
       "4     ...    0.0    0.0    0.0    0.0    0.0    0.0    0.0    0.0    0.0   \n",
       "...   ...    ...    ...    ...    ...    ...    ...    ...    ...    ...   \n",
       "1741  ...    0.0    0.0    0.0    0.0    0.0    0.0    0.0    0.0    0.0   \n",
       "1742  ...    0.0    0.0    0.0    0.0    0.0    0.0    0.0    0.0    0.0   \n",
       "1743  ...    0.0    0.0    0.0    0.0    0.0    0.0    0.0    0.0    0.0   \n",
       "1744  ...    0.0    0.0    0.0    0.0    0.0    0.0    0.0    0.0    0.0   \n",
       "1745  ...    0.0    0.0    0.0    0.0    0.0    0.0    0.0    0.0    0.0   \n",
       "\n",
       "      14057  \n",
       "0       0.0  \n",
       "1       0.0  \n",
       "2       0.0  \n",
       "3       0.0  \n",
       "4       0.0  \n",
       "...     ...  \n",
       "1741    0.0  \n",
       "1742    0.0  \n",
       "1743    0.0  \n",
       "1744    0.0  \n",
       "1745    0.0  \n",
       "\n",
       "[1746 rows x 14058 columns]"
      ]
     },
     "execution_count": 99,
     "metadata": {},
     "output_type": "execute_result"
    }
   ],
   "source": [
    "tfidf_df"
   ]
  },
  {
   "cell_type": "code",
   "execution_count": 100,
   "id": "badfdb4e-517e-4321-8d41-e3ff0df00e81",
   "metadata": {},
   "outputs": [
    {
     "data": {
      "text/html": [
       "<div>\n",
       "<style scoped>\n",
       "    .dataframe tbody tr th:only-of-type {\n",
       "        vertical-align: middle;\n",
       "    }\n",
       "\n",
       "    .dataframe tbody tr th {\n",
       "        vertical-align: top;\n",
       "    }\n",
       "\n",
       "    .dataframe thead th {\n",
       "        text-align: right;\n",
       "    }\n",
       "</style>\n",
       "<table border=\"1\" class=\"dataframe\">\n",
       "  <thead>\n",
       "    <tr style=\"text-align: right;\">\n",
       "      <th></th>\n",
       "      <th>0</th>\n",
       "      <th>1</th>\n",
       "      <th>2</th>\n",
       "      <th>3</th>\n",
       "      <th>4</th>\n",
       "      <th>5</th>\n",
       "      <th>6</th>\n",
       "      <th>7</th>\n",
       "      <th>8</th>\n",
       "      <th>9</th>\n",
       "      <th>...</th>\n",
       "      <th>14048</th>\n",
       "      <th>14049</th>\n",
       "      <th>14050</th>\n",
       "      <th>14051</th>\n",
       "      <th>14052</th>\n",
       "      <th>14053</th>\n",
       "      <th>14054</th>\n",
       "      <th>14055</th>\n",
       "      <th>14056</th>\n",
       "      <th>14057</th>\n",
       "    </tr>\n",
       "  </thead>\n",
       "  <tbody>\n",
       "    <tr>\n",
       "      <th>count</th>\n",
       "      <td>1746.000000</td>\n",
       "      <td>1746.000000</td>\n",
       "      <td>1746.000000</td>\n",
       "      <td>1746.000000</td>\n",
       "      <td>1746.000000</td>\n",
       "      <td>1746.000000</td>\n",
       "      <td>1746.000000</td>\n",
       "      <td>1746.000000</td>\n",
       "      <td>1746.000000</td>\n",
       "      <td>1746.000000</td>\n",
       "      <td>...</td>\n",
       "      <td>1746.000000</td>\n",
       "      <td>1746.000000</td>\n",
       "      <td>1746.000000</td>\n",
       "      <td>1746.000000</td>\n",
       "      <td>1746.000000</td>\n",
       "      <td>1746.000000</td>\n",
       "      <td>1746.000000</td>\n",
       "      <td>1746.000000</td>\n",
       "      <td>1746.000000</td>\n",
       "      <td>1746.000000</td>\n",
       "    </tr>\n",
       "    <tr>\n",
       "      <th>mean</th>\n",
       "      <td>0.000368</td>\n",
       "      <td>0.000082</td>\n",
       "      <td>0.000146</td>\n",
       "      <td>0.000074</td>\n",
       "      <td>0.000100</td>\n",
       "      <td>0.000145</td>\n",
       "      <td>0.000080</td>\n",
       "      <td>0.000116</td>\n",
       "      <td>0.000065</td>\n",
       "      <td>0.000052</td>\n",
       "      <td>...</td>\n",
       "      <td>0.000176</td>\n",
       "      <td>0.001075</td>\n",
       "      <td>0.000083</td>\n",
       "      <td>0.002807</td>\n",
       "      <td>0.000636</td>\n",
       "      <td>0.000081</td>\n",
       "      <td>0.000093</td>\n",
       "      <td>0.000145</td>\n",
       "      <td>0.000072</td>\n",
       "      <td>0.000202</td>\n",
       "    </tr>\n",
       "    <tr>\n",
       "      <th>std</th>\n",
       "      <td>0.006916</td>\n",
       "      <td>0.003418</td>\n",
       "      <td>0.004426</td>\n",
       "      <td>0.003074</td>\n",
       "      <td>0.004159</td>\n",
       "      <td>0.004295</td>\n",
       "      <td>0.003323</td>\n",
       "      <td>0.004863</td>\n",
       "      <td>0.002716</td>\n",
       "      <td>0.002152</td>\n",
       "      <td>...</td>\n",
       "      <td>0.005204</td>\n",
       "      <td>0.011935</td>\n",
       "      <td>0.003468</td>\n",
       "      <td>0.015805</td>\n",
       "      <td>0.009128</td>\n",
       "      <td>0.003395</td>\n",
       "      <td>0.003872</td>\n",
       "      <td>0.004324</td>\n",
       "      <td>0.003023</td>\n",
       "      <td>0.005053</td>\n",
       "    </tr>\n",
       "    <tr>\n",
       "      <th>min</th>\n",
       "      <td>0.000000</td>\n",
       "      <td>0.000000</td>\n",
       "      <td>0.000000</td>\n",
       "      <td>0.000000</td>\n",
       "      <td>0.000000</td>\n",
       "      <td>0.000000</td>\n",
       "      <td>0.000000</td>\n",
       "      <td>0.000000</td>\n",
       "      <td>0.000000</td>\n",
       "      <td>0.000000</td>\n",
       "      <td>...</td>\n",
       "      <td>0.000000</td>\n",
       "      <td>0.000000</td>\n",
       "      <td>0.000000</td>\n",
       "      <td>0.000000</td>\n",
       "      <td>0.000000</td>\n",
       "      <td>0.000000</td>\n",
       "      <td>0.000000</td>\n",
       "      <td>0.000000</td>\n",
       "      <td>0.000000</td>\n",
       "      <td>0.000000</td>\n",
       "    </tr>\n",
       "    <tr>\n",
       "      <th>25%</th>\n",
       "      <td>0.000000</td>\n",
       "      <td>0.000000</td>\n",
       "      <td>0.000000</td>\n",
       "      <td>0.000000</td>\n",
       "      <td>0.000000</td>\n",
       "      <td>0.000000</td>\n",
       "      <td>0.000000</td>\n",
       "      <td>0.000000</td>\n",
       "      <td>0.000000</td>\n",
       "      <td>0.000000</td>\n",
       "      <td>...</td>\n",
       "      <td>0.000000</td>\n",
       "      <td>0.000000</td>\n",
       "      <td>0.000000</td>\n",
       "      <td>0.000000</td>\n",
       "      <td>0.000000</td>\n",
       "      <td>0.000000</td>\n",
       "      <td>0.000000</td>\n",
       "      <td>0.000000</td>\n",
       "      <td>0.000000</td>\n",
       "      <td>0.000000</td>\n",
       "    </tr>\n",
       "    <tr>\n",
       "      <th>50%</th>\n",
       "      <td>0.000000</td>\n",
       "      <td>0.000000</td>\n",
       "      <td>0.000000</td>\n",
       "      <td>0.000000</td>\n",
       "      <td>0.000000</td>\n",
       "      <td>0.000000</td>\n",
       "      <td>0.000000</td>\n",
       "      <td>0.000000</td>\n",
       "      <td>0.000000</td>\n",
       "      <td>0.000000</td>\n",
       "      <td>...</td>\n",
       "      <td>0.000000</td>\n",
       "      <td>0.000000</td>\n",
       "      <td>0.000000</td>\n",
       "      <td>0.000000</td>\n",
       "      <td>0.000000</td>\n",
       "      <td>0.000000</td>\n",
       "      <td>0.000000</td>\n",
       "      <td>0.000000</td>\n",
       "      <td>0.000000</td>\n",
       "      <td>0.000000</td>\n",
       "    </tr>\n",
       "    <tr>\n",
       "      <th>75%</th>\n",
       "      <td>0.000000</td>\n",
       "      <td>0.000000</td>\n",
       "      <td>0.000000</td>\n",
       "      <td>0.000000</td>\n",
       "      <td>0.000000</td>\n",
       "      <td>0.000000</td>\n",
       "      <td>0.000000</td>\n",
       "      <td>0.000000</td>\n",
       "      <td>0.000000</td>\n",
       "      <td>0.000000</td>\n",
       "      <td>...</td>\n",
       "      <td>0.000000</td>\n",
       "      <td>0.000000</td>\n",
       "      <td>0.000000</td>\n",
       "      <td>0.000000</td>\n",
       "      <td>0.000000</td>\n",
       "      <td>0.000000</td>\n",
       "      <td>0.000000</td>\n",
       "      <td>0.000000</td>\n",
       "      <td>0.000000</td>\n",
       "      <td>0.000000</td>\n",
       "    </tr>\n",
       "    <tr>\n",
       "      <th>max</th>\n",
       "      <td>0.151755</td>\n",
       "      <td>0.142832</td>\n",
       "      <td>0.157591</td>\n",
       "      <td>0.128444</td>\n",
       "      <td>0.173802</td>\n",
       "      <td>0.140100</td>\n",
       "      <td>0.138865</td>\n",
       "      <td>0.203211</td>\n",
       "      <td>0.113468</td>\n",
       "      <td>0.089929</td>\n",
       "      <td>...</td>\n",
       "      <td>0.154152</td>\n",
       "      <td>0.224436</td>\n",
       "      <td>0.144915</td>\n",
       "      <td>0.164682</td>\n",
       "      <td>0.188649</td>\n",
       "      <td>0.141862</td>\n",
       "      <td>0.161777</td>\n",
       "      <td>0.143231</td>\n",
       "      <td>0.126335</td>\n",
       "      <td>0.152637</td>\n",
       "    </tr>\n",
       "  </tbody>\n",
       "</table>\n",
       "<p>8 rows × 14058 columns</p>\n",
       "</div>"
      ],
      "text/plain": [
       "             0            1            2            3            4      \\\n",
       "count  1746.000000  1746.000000  1746.000000  1746.000000  1746.000000   \n",
       "mean      0.000368     0.000082     0.000146     0.000074     0.000100   \n",
       "std       0.006916     0.003418     0.004426     0.003074     0.004159   \n",
       "min       0.000000     0.000000     0.000000     0.000000     0.000000   \n",
       "25%       0.000000     0.000000     0.000000     0.000000     0.000000   \n",
       "50%       0.000000     0.000000     0.000000     0.000000     0.000000   \n",
       "75%       0.000000     0.000000     0.000000     0.000000     0.000000   \n",
       "max       0.151755     0.142832     0.157591     0.128444     0.173802   \n",
       "\n",
       "             5            6            7            8            9      ...  \\\n",
       "count  1746.000000  1746.000000  1746.000000  1746.000000  1746.000000  ...   \n",
       "mean      0.000145     0.000080     0.000116     0.000065     0.000052  ...   \n",
       "std       0.004295     0.003323     0.004863     0.002716     0.002152  ...   \n",
       "min       0.000000     0.000000     0.000000     0.000000     0.000000  ...   \n",
       "25%       0.000000     0.000000     0.000000     0.000000     0.000000  ...   \n",
       "50%       0.000000     0.000000     0.000000     0.000000     0.000000  ...   \n",
       "75%       0.000000     0.000000     0.000000     0.000000     0.000000  ...   \n",
       "max       0.140100     0.138865     0.203211     0.113468     0.089929  ...   \n",
       "\n",
       "             14048        14049        14050        14051        14052  \\\n",
       "count  1746.000000  1746.000000  1746.000000  1746.000000  1746.000000   \n",
       "mean      0.000176     0.001075     0.000083     0.002807     0.000636   \n",
       "std       0.005204     0.011935     0.003468     0.015805     0.009128   \n",
       "min       0.000000     0.000000     0.000000     0.000000     0.000000   \n",
       "25%       0.000000     0.000000     0.000000     0.000000     0.000000   \n",
       "50%       0.000000     0.000000     0.000000     0.000000     0.000000   \n",
       "75%       0.000000     0.000000     0.000000     0.000000     0.000000   \n",
       "max       0.154152     0.224436     0.144915     0.164682     0.188649   \n",
       "\n",
       "             14053        14054        14055        14056        14057  \n",
       "count  1746.000000  1746.000000  1746.000000  1746.000000  1746.000000  \n",
       "mean      0.000081     0.000093     0.000145     0.000072     0.000202  \n",
       "std       0.003395     0.003872     0.004324     0.003023     0.005053  \n",
       "min       0.000000     0.000000     0.000000     0.000000     0.000000  \n",
       "25%       0.000000     0.000000     0.000000     0.000000     0.000000  \n",
       "50%       0.000000     0.000000     0.000000     0.000000     0.000000  \n",
       "75%       0.000000     0.000000     0.000000     0.000000     0.000000  \n",
       "max       0.141862     0.161777     0.143231     0.126335     0.152637  \n",
       "\n",
       "[8 rows x 14058 columns]"
      ]
     },
     "execution_count": 100,
     "metadata": {},
     "output_type": "execute_result"
    }
   ],
   "source": [
    "# tfidf_df.describe()"
   ]
  },
  {
   "cell_type": "markdown",
   "id": "123b6ce5-5fb2-44cd-94d5-f5339b54082b",
   "metadata": {},
   "source": [
    "### Using PCA on Tf-Idf Vectorizer"
   ]
  },
  {
   "cell_type": "code",
   "execution_count": 101,
   "id": "dc7adf51-ed40-422d-bcc2-cb05cf778180",
   "metadata": {},
   "outputs": [],
   "source": [
    "from sklearn.decomposition import PCA\n",
    "from sklearn.preprocessing import StandardScaler"
   ]
  },
  {
   "cell_type": "code",
   "execution_count": 102,
   "id": "46b1fef2-fd5e-4cbe-b0e5-ed8e03a9d65b",
   "metadata": {},
   "outputs": [],
   "source": [
    "scaler= StandardScaler()\n",
    "tfidf_df_scaled= scaler.fit_transform(tfidf_df)"
   ]
  },
  {
   "cell_type": "code",
   "execution_count": 103,
   "id": "f8d0ce62-9638-4419-b0ba-42f4ceb92769",
   "metadata": {},
   "outputs": [],
   "source": [
    "pca= PCA(n_components=0.95)"
   ]
  },
  {
   "cell_type": "code",
   "execution_count": 104,
   "id": "91a1e213-80d6-4772-972c-0965ab8fa08e",
   "metadata": {},
   "outputs": [],
   "source": [
    "tfidf_pca=pca.fit_transform(tfidf_df_scaled)"
   ]
  },
  {
   "cell_type": "code",
   "execution_count": 105,
   "id": "58028d98-425a-4b31-b5fe-de0c188e34bf",
   "metadata": {},
   "outputs": [
    {
     "data": {
      "text/plain": [
       "1484"
      ]
     },
     "execution_count": 105,
     "metadata": {},
     "output_type": "execute_result"
    }
   ],
   "source": [
    "pca.n_components_ # possibly a case of overfitting"
   ]
  },
  {
   "cell_type": "code",
   "execution_count": 106,
   "id": "d8efd615-ec5d-4009-a9c5-62f700bbfa39",
   "metadata": {},
   "outputs": [
    {
     "data": {
      "text/plain": [
       "array([0.00216597, 0.00182307, 0.00173944, ..., 0.00026013, 0.00025996,\n",
       "       0.00025941])"
      ]
     },
     "execution_count": 106,
     "metadata": {},
     "output_type": "execute_result"
    }
   ],
   "source": [
    "pca.explained_variance_ratio_ # gives each columns variance composition to the 0.85"
   ]
  },
  {
   "cell_type": "markdown",
   "id": "028facb8-616a-48d8-82f7-480b971a6e34",
   "metadata": {},
   "source": [
    "## Models on Bag of Words"
   ]
  },
  {
   "cell_type": "code",
   "execution_count": 410,
   "id": "c546896c-dc4a-4090-bd80-3d27b49b409b",
   "metadata": {},
   "outputs": [],
   "source": [
    "# Logistic Regression \n",
    "# SVM is overfitting with same accuracy as LR\n",
    "# NB is not performing well \n",
    "# RF has low acc on test and around 0.94 acc for train , DT also behaves the same\n",
    "# LSTM was more better than GRU 0.66 and 0.62"
   ]
  },
  {
   "cell_type": "code",
   "execution_count": 289,
   "id": "fee92a3e-ae58-4362-a5e8-ad915ab04368",
   "metadata": {},
   "outputs": [],
   "source": [
    "from sklearn.model_selection import train_test_split\n",
    "from sklearn.linear_model import LogisticRegression"
   ]
  },
  {
   "cell_type": "code",
   "execution_count": 290,
   "id": "18514a13-a0f3-4f7e-a468-62bf2f585d35",
   "metadata": {},
   "outputs": [],
   "source": [
    "from sklearn.preprocessing import StandardScaler"
   ]
  },
  {
   "cell_type": "code",
   "execution_count": 291,
   "id": "94b2f7c8-46a9-45d5-a7d5-2437efa2bd65",
   "metadata": {},
   "outputs": [],
   "source": [
    "scaler=StandardScaler()\n",
    "# bow_array_pca_scaled=scaler.fit_transform(bow_array_pca)"
   ]
  },
  {
   "cell_type": "code",
   "execution_count": 292,
   "id": "f59c2b21-8328-4852-bf22-8ec0673cd663",
   "metadata": {},
   "outputs": [],
   "source": [
    "# Split the data into training and test sets\n",
    "X_train, X_test, y_train, y_test = train_test_split(bow_array_pca, df4['Label'], test_size=0.03, random_state=42)\n"
   ]
  },
  {
   "cell_type": "code",
   "execution_count": 293,
   "id": "1b4e1a2f-fb51-4ad0-a0b5-1a75d3975275",
   "metadata": {},
   "outputs": [],
   "source": [
    "X_train=scaler.fit_transform(X_train)\n",
    "X_test=scaler.transform(X_test)"
   ]
  },
  {
   "cell_type": "code",
   "execution_count": 441,
   "id": "e643fcdd-e344-4999-a9e1-74e9ef9d2657",
   "metadata": {},
   "outputs": [
    {
     "data": {
      "text/plain": [
       "1693"
      ]
     },
     "execution_count": 441,
     "metadata": {},
     "output_type": "execute_result"
    }
   ],
   "source": [
    "len(y_train)"
   ]
  },
  {
   "cell_type": "code",
   "execution_count": 444,
   "id": "c656dcfd-67f6-4a0a-8405-c76cebcd1219",
   "metadata": {},
   "outputs": [
    {
     "data": {
      "text/plain": [
       "0.030124040165386886"
      ]
     },
     "execution_count": 444,
     "metadata": {},
     "output_type": "execute_result"
    }
   ],
   "source": [
    "51/1693"
   ]
  },
  {
   "cell_type": "code",
   "execution_count": 449,
   "id": "0b6411d1-86b3-479b-a693-1ff121dfa6c8",
   "metadata": {},
   "outputs": [
    {
     "data": {
      "text/plain": [
       "51"
      ]
     },
     "execution_count": 449,
     "metadata": {},
     "output_type": "execute_result"
    }
   ],
   "source": [
    "test_size=int(0.030124040165386886*len(y_train))\n",
    "test_size"
   ]
  },
  {
   "cell_type": "code",
   "execution_count": 295,
   "id": "20b7f028-1760-46b3-93d4-4a72f1f2a1c7",
   "metadata": {},
   "outputs": [
    {
     "data": {
      "text/plain": [
       "622"
      ]
     },
     "execution_count": 295,
     "metadata": {},
     "output_type": "execute_result"
    }
   ],
   "source": [
    "len(bow_array_pca[0])"
   ]
  },
  {
   "cell_type": "code",
   "execution_count": 296,
   "id": "974a24e5-35c4-4ddc-bf9d-478bd61fcf88",
   "metadata": {},
   "outputs": [
    {
     "data": {
      "text/html": [
       "<style>#sk-container-id-22 {color: black;background-color: white;}#sk-container-id-22 pre{padding: 0;}#sk-container-id-22 div.sk-toggleable {background-color: white;}#sk-container-id-22 label.sk-toggleable__label {cursor: pointer;display: block;width: 100%;margin-bottom: 0;padding: 0.3em;box-sizing: border-box;text-align: center;}#sk-container-id-22 label.sk-toggleable__label-arrow:before {content: \"▸\";float: left;margin-right: 0.25em;color: #696969;}#sk-container-id-22 label.sk-toggleable__label-arrow:hover:before {color: black;}#sk-container-id-22 div.sk-estimator:hover label.sk-toggleable__label-arrow:before {color: black;}#sk-container-id-22 div.sk-toggleable__content {max-height: 0;max-width: 0;overflow: hidden;text-align: left;background-color: #f0f8ff;}#sk-container-id-22 div.sk-toggleable__content pre {margin: 0.2em;color: black;border-radius: 0.25em;background-color: #f0f8ff;}#sk-container-id-22 input.sk-toggleable__control:checked~div.sk-toggleable__content {max-height: 200px;max-width: 100%;overflow: auto;}#sk-container-id-22 input.sk-toggleable__control:checked~label.sk-toggleable__label-arrow:before {content: \"▾\";}#sk-container-id-22 div.sk-estimator input.sk-toggleable__control:checked~label.sk-toggleable__label {background-color: #d4ebff;}#sk-container-id-22 div.sk-label input.sk-toggleable__control:checked~label.sk-toggleable__label {background-color: #d4ebff;}#sk-container-id-22 input.sk-hidden--visually {border: 0;clip: rect(1px 1px 1px 1px);clip: rect(1px, 1px, 1px, 1px);height: 1px;margin: -1px;overflow: hidden;padding: 0;position: absolute;width: 1px;}#sk-container-id-22 div.sk-estimator {font-family: monospace;background-color: #f0f8ff;border: 1px dotted black;border-radius: 0.25em;box-sizing: border-box;margin-bottom: 0.5em;}#sk-container-id-22 div.sk-estimator:hover {background-color: #d4ebff;}#sk-container-id-22 div.sk-parallel-item::after {content: \"\";width: 100%;border-bottom: 1px solid gray;flex-grow: 1;}#sk-container-id-22 div.sk-label:hover label.sk-toggleable__label {background-color: #d4ebff;}#sk-container-id-22 div.sk-serial::before {content: \"\";position: absolute;border-left: 1px solid gray;box-sizing: border-box;top: 0;bottom: 0;left: 50%;z-index: 0;}#sk-container-id-22 div.sk-serial {display: flex;flex-direction: column;align-items: center;background-color: white;padding-right: 0.2em;padding-left: 0.2em;position: relative;}#sk-container-id-22 div.sk-item {position: relative;z-index: 1;}#sk-container-id-22 div.sk-parallel {display: flex;align-items: stretch;justify-content: center;background-color: white;position: relative;}#sk-container-id-22 div.sk-item::before, #sk-container-id-22 div.sk-parallel-item::before {content: \"\";position: absolute;border-left: 1px solid gray;box-sizing: border-box;top: 0;bottom: 0;left: 50%;z-index: -1;}#sk-container-id-22 div.sk-parallel-item {display: flex;flex-direction: column;z-index: 1;position: relative;background-color: white;}#sk-container-id-22 div.sk-parallel-item:first-child::after {align-self: flex-end;width: 50%;}#sk-container-id-22 div.sk-parallel-item:last-child::after {align-self: flex-start;width: 50%;}#sk-container-id-22 div.sk-parallel-item:only-child::after {width: 0;}#sk-container-id-22 div.sk-dashed-wrapped {border: 1px dashed gray;margin: 0 0.4em 0.5em 0.4em;box-sizing: border-box;padding-bottom: 0.4em;background-color: white;}#sk-container-id-22 div.sk-label label {font-family: monospace;font-weight: bold;display: inline-block;line-height: 1.2em;}#sk-container-id-22 div.sk-label-container {text-align: center;}#sk-container-id-22 div.sk-container {/* jupyter's `normalize.less` sets `[hidden] { display: none; }` but bootstrap.min.css set `[hidden] { display: none !important; }` so we also need the `!important` here to be able to override the default hidden behavior on the sphinx rendered scikit-learn.org. See: https://github.com/scikit-learn/scikit-learn/issues/21755 */display: inline-block !important;position: relative;}#sk-container-id-22 div.sk-text-repr-fallback {display: none;}</style><div id=\"sk-container-id-22\" class=\"sk-top-container\"><div class=\"sk-text-repr-fallback\"><pre>LogisticRegression(max_iter=30, penalty=&#x27;l1&#x27;, solver=&#x27;liblinear&#x27;)</pre><b>In a Jupyter environment, please rerun this cell to show the HTML representation or trust the notebook. <br />On GitHub, the HTML representation is unable to render, please try loading this page with nbviewer.org.</b></div><div class=\"sk-container\" hidden><div class=\"sk-item\"><div class=\"sk-estimator sk-toggleable\"><input class=\"sk-toggleable__control sk-hidden--visually\" id=\"sk-estimator-id-22\" type=\"checkbox\" checked><label for=\"sk-estimator-id-22\" class=\"sk-toggleable__label sk-toggleable__label-arrow\">LogisticRegression</label><div class=\"sk-toggleable__content\"><pre>LogisticRegression(max_iter=30, penalty=&#x27;l1&#x27;, solver=&#x27;liblinear&#x27;)</pre></div></div></div></div></div>"
      ],
      "text/plain": [
       "LogisticRegression(max_iter=30, penalty='l1', solver='liblinear')"
      ]
     },
     "execution_count": 296,
     "metadata": {},
     "output_type": "execute_result"
    }
   ],
   "source": [
    "logreg = LogisticRegression(solver='liblinear',max_iter=30,penalty='l1')\n",
    "logreg.fit(X_train, y_train)\n",
    "# Changed max_iter to 200 , default 100 was not enough"
   ]
  },
  {
   "cell_type": "code",
   "execution_count": 297,
   "id": "36eab918-bedd-49bc-9cd9-a349decfa16a",
   "metadata": {},
   "outputs": [],
   "source": [
    "from sklearn.metrics import classification_report, accuracy_score, precision_score, recall_score"
   ]
  },
  {
   "cell_type": "code",
   "execution_count": 298,
   "id": "35996c02-8ce3-4654-b0bf-0cae07e57b60",
   "metadata": {},
   "outputs": [],
   "source": [
    "y_pred = logreg.predict(X_test)"
   ]
  },
  {
   "cell_type": "code",
   "execution_count": 299,
   "id": "c01e8182-e700-402f-9fd7-c7d91d8c5e3c",
   "metadata": {},
   "outputs": [
    {
     "data": {
      "text/plain": [
       "0.6415094339622641"
      ]
     },
     "execution_count": 299,
     "metadata": {},
     "output_type": "execute_result"
    }
   ],
   "source": [
    "accuracy_score(y_test,y_pred)"
   ]
  },
  {
   "cell_type": "code",
   "execution_count": 300,
   "id": "c18360e0-9e1c-404d-a149-e54e7d6aea38",
   "metadata": {},
   "outputs": [
    {
     "data": {
      "text/plain": [
       "0.7307692307692307"
      ]
     },
     "execution_count": 300,
     "metadata": {},
     "output_type": "execute_result"
    }
   ],
   "source": [
    "precision_score(y_test,y_pred)"
   ]
  },
  {
   "cell_type": "code",
   "execution_count": 301,
   "id": "a95606ed-07f8-42c3-aa71-35419a5d171a",
   "metadata": {},
   "outputs": [
    {
     "data": {
      "text/plain": [
       "0.6129032258064516"
      ]
     },
     "execution_count": 301,
     "metadata": {},
     "output_type": "execute_result"
    }
   ],
   "source": [
    "recall_score(y_test,y_pred)"
   ]
  },
  {
   "cell_type": "code",
   "execution_count": 302,
   "id": "ae53143b-dd61-43cd-ada8-6944db1ebfc9",
   "metadata": {},
   "outputs": [],
   "source": [
    "yyy=logreg.predict(X_train)"
   ]
  },
  {
   "cell_type": "code",
   "execution_count": 303,
   "id": "96fe6065-3502-4d1e-93ee-c1a07028140c",
   "metadata": {},
   "outputs": [
    {
     "data": {
      "text/plain": [
       "0.8765505020673361"
      ]
     },
     "execution_count": 303,
     "metadata": {},
     "output_type": "execute_result"
    }
   ],
   "source": [
    "accuracy_score(y_train,yyy)"
   ]
  },
  {
   "cell_type": "code",
   "execution_count": 334,
   "id": "62d3a7d0-fd3a-4b3f-8b51-1cff5ad18a97",
   "metadata": {},
   "outputs": [],
   "source": [
    "# LSTM "
   ]
  },
  {
   "cell_type": "code",
   "execution_count": 342,
   "id": "0ead6bb9-174b-4b6f-9a39-bd751bd20164",
   "metadata": {},
   "outputs": [],
   "source": [
    "import tensorflow as tf\n",
    "from tensorflow.keras.models import Sequential\n",
    "from tensorflow.keras.layers import LSTM, Dense , Input\n",
    "from tensorflow.keras.optimizers import Adam"
   ]
  },
  {
   "cell_type": "code",
   "execution_count": 343,
   "id": "d45a5abf-9554-4c46-a8e5-0212d65e7156",
   "metadata": {},
   "outputs": [
    {
     "data": {
      "text/plain": [
       "1746"
      ]
     },
     "execution_count": 343,
     "metadata": {},
     "output_type": "execute_result"
    }
   ],
   "source": [
    "len(bow_array_pca)"
   ]
  },
  {
   "cell_type": "code",
   "execution_count": 344,
   "id": "28155981-57c6-4205-9747-c9973a544018",
   "metadata": {},
   "outputs": [
    {
     "data": {
      "text/plain": [
       "622"
      ]
     },
     "execution_count": 344,
     "metadata": {},
     "output_type": "execute_result"
    }
   ],
   "source": [
    "len(bow_array_pca[0])"
   ]
  },
  {
   "cell_type": "code",
   "execution_count": 351,
   "id": "dc075ac6-b6b2-49ed-8eb6-7d290666e5fe",
   "metadata": {},
   "outputs": [
    {
     "data": {
      "text/plain": [
       "1693"
      ]
     },
     "execution_count": 351,
     "metadata": {},
     "output_type": "execute_result"
    }
   ],
   "source": [
    "len(X_train)"
   ]
  },
  {
   "cell_type": "code",
   "execution_count": 352,
   "id": "2b244deb-7542-4ae3-bccc-e45fb1c954b7",
   "metadata": {},
   "outputs": [
    {
     "data": {
      "text/plain": [
       "622"
      ]
     },
     "execution_count": 352,
     "metadata": {},
     "output_type": "execute_result"
    }
   ],
   "source": [
    "len(X_train[0])"
   ]
  },
  {
   "cell_type": "code",
   "execution_count": 361,
   "id": "b160cd3d-9d3b-44bb-a4ad-055aade0f40c",
   "metadata": {},
   "outputs": [],
   "source": [
    "from tensorflow.keras.layers import Reshape\n",
    "\n",
    "# Reshape the input data to include a dimension for timesteps\n",
    "model = Sequential()\n",
    "model.add(Input(shape=(622,)))  # Input shape: (622,)\n",
    "model.add(Reshape((1, 622)))  # Reshape to (batch_size, timesteps, input_dim)\n",
    "model.add(LSTM(100, return_sequences=True))\n",
    "model.add(LSTM(50))\n",
    "model.add(Dense(1, activation='sigmoid'))  # Assuming binary classification\n",
    "\n",
    "# Compile the model\n",
    "optimizer = Adam(learning_rate=0.001)\n",
    "model.compile(optimizer=optimizer, loss='binary_crossentropy', metrics=['accuracy'])\n"
   ]
  },
  {
   "cell_type": "code",
   "execution_count": 362,
   "id": "cac4df5a-3d37-47c7-afba-ebc18a0d4b44",
   "metadata": {
    "scrolled": true
   },
   "outputs": [
    {
     "name": "stdout",
     "output_type": "stream",
     "text": [
      "Epoch 1/30\n",
      "\u001b[1m170/170\u001b[0m \u001b[32m━━━━━━━━━━━━━━━━━━━━\u001b[0m\u001b[37m\u001b[0m \u001b[1m13s\u001b[0m 19ms/step - accuracy: 0.5739 - loss: 0.6870 - val_accuracy: 0.5605 - val_loss: 0.6759\n",
      "Epoch 2/30\n",
      "\u001b[1m170/170\u001b[0m \u001b[32m━━━━━━━━━━━━━━━━━━━━\u001b[0m\u001b[37m\u001b[0m \u001b[1m1s\u001b[0m 6ms/step - accuracy: 0.9447 - loss: 0.3632 - val_accuracy: 0.5870 - val_loss: 0.8529\n",
      "Epoch 3/30\n",
      "\u001b[1m170/170\u001b[0m \u001b[32m━━━━━━━━━━━━━━━━━━━━\u001b[0m\u001b[37m\u001b[0m \u001b[1m1s\u001b[0m 6ms/step - accuracy: 0.9936 - loss: 0.0481 - val_accuracy: 0.6047 - val_loss: 1.0599\n",
      "Epoch 4/30\n",
      "\u001b[1m170/170\u001b[0m \u001b[32m━━━━━━━━━━━━━━━━━━━━\u001b[0m\u001b[37m\u001b[0m \u001b[1m1s\u001b[0m 6ms/step - accuracy: 0.9991 - loss: 0.0117 - val_accuracy: 0.6136 - val_loss: 1.2167\n",
      "Epoch 5/30\n",
      "\u001b[1m170/170\u001b[0m \u001b[32m━━━━━━━━━━━━━━━━━━━━\u001b[0m\u001b[37m\u001b[0m \u001b[1m1s\u001b[0m 6ms/step - accuracy: 1.0000 - loss: 0.0036 - val_accuracy: 0.6077 - val_loss: 1.3231\n",
      "Epoch 6/30\n",
      "\u001b[1m170/170\u001b[0m \u001b[32m━━━━━━━━━━━━━━━━━━━━\u001b[0m\u001b[37m\u001b[0m \u001b[1m1s\u001b[0m 6ms/step - accuracy: 1.0000 - loss: 0.0021 - val_accuracy: 0.6077 - val_loss: 1.4074\n",
      "Epoch 7/30\n",
      "\u001b[1m170/170\u001b[0m \u001b[32m━━━━━━━━━━━━━━━━━━━━\u001b[0m\u001b[37m\u001b[0m \u001b[1m1s\u001b[0m 7ms/step - accuracy: 1.0000 - loss: 0.0013 - val_accuracy: 0.6018 - val_loss: 1.4767\n",
      "Epoch 8/30\n",
      "\u001b[1m170/170\u001b[0m \u001b[32m━━━━━━━━━━━━━━━━━━━━\u001b[0m\u001b[37m\u001b[0m \u001b[1m1s\u001b[0m 7ms/step - accuracy: 1.0000 - loss: 8.5994e-04 - val_accuracy: 0.6018 - val_loss: 1.5367\n",
      "Epoch 9/30\n",
      "\u001b[1m170/170\u001b[0m \u001b[32m━━━━━━━━━━━━━━━━━━━━\u001b[0m\u001b[37m\u001b[0m \u001b[1m1s\u001b[0m 7ms/step - accuracy: 1.0000 - loss: 6.4269e-04 - val_accuracy: 0.6018 - val_loss: 1.5897\n",
      "Epoch 10/30\n",
      "\u001b[1m170/170\u001b[0m \u001b[32m━━━━━━━━━━━━━━━━━━━━\u001b[0m\u001b[37m\u001b[0m \u001b[1m1s\u001b[0m 8ms/step - accuracy: 1.0000 - loss: 4.8084e-04 - val_accuracy: 0.6018 - val_loss: 1.6377\n",
      "Epoch 11/30\n",
      "\u001b[1m170/170\u001b[0m \u001b[32m━━━━━━━━━━━━━━━━━━━━\u001b[0m\u001b[37m\u001b[0m \u001b[1m1s\u001b[0m 8ms/step - accuracy: 1.0000 - loss: 3.8486e-04 - val_accuracy: 0.6018 - val_loss: 1.6811\n",
      "Epoch 12/30\n",
      "\u001b[1m170/170\u001b[0m \u001b[32m━━━━━━━━━━━━━━━━━━━━\u001b[0m\u001b[37m\u001b[0m \u001b[1m1s\u001b[0m 7ms/step - accuracy: 1.0000 - loss: 3.0406e-04 - val_accuracy: 0.6018 - val_loss: 1.7212\n",
      "Epoch 13/30\n",
      "\u001b[1m170/170\u001b[0m \u001b[32m━━━━━━━━━━━━━━━━━━━━\u001b[0m\u001b[37m\u001b[0m \u001b[1m1s\u001b[0m 7ms/step - accuracy: 1.0000 - loss: 2.2687e-04 - val_accuracy: 0.6018 - val_loss: 1.7582\n",
      "Epoch 14/30\n",
      "\u001b[1m170/170\u001b[0m \u001b[32m━━━━━━━━━━━━━━━━━━━━\u001b[0m\u001b[37m\u001b[0m \u001b[1m1s\u001b[0m 8ms/step - accuracy: 1.0000 - loss: 1.8982e-04 - val_accuracy: 0.6018 - val_loss: 1.7928\n",
      "Epoch 15/30\n",
      "\u001b[1m170/170\u001b[0m \u001b[32m━━━━━━━━━━━━━━━━━━━━\u001b[0m\u001b[37m\u001b[0m \u001b[1m1s\u001b[0m 6ms/step - accuracy: 1.0000 - loss: 1.5705e-04 - val_accuracy: 0.6018 - val_loss: 1.8258\n",
      "Epoch 16/30\n",
      "\u001b[1m170/170\u001b[0m \u001b[32m━━━━━━━━━━━━━━━━━━━━\u001b[0m\u001b[37m\u001b[0m \u001b[1m1s\u001b[0m 6ms/step - accuracy: 1.0000 - loss: 1.3281e-04 - val_accuracy: 0.6018 - val_loss: 1.8569\n",
      "Epoch 17/30\n",
      "\u001b[1m170/170\u001b[0m \u001b[32m━━━━━━━━━━━━━━━━━━━━\u001b[0m\u001b[37m\u001b[0m \u001b[1m1s\u001b[0m 6ms/step - accuracy: 1.0000 - loss: 1.0863e-04 - val_accuracy: 0.6018 - val_loss: 1.8866\n",
      "Epoch 18/30\n",
      "\u001b[1m170/170\u001b[0m \u001b[32m━━━━━━━━━━━━━━━━━━━━\u001b[0m\u001b[37m\u001b[0m \u001b[1m1s\u001b[0m 6ms/step - accuracy: 1.0000 - loss: 9.1079e-05 - val_accuracy: 0.6018 - val_loss: 1.9151\n",
      "Epoch 19/30\n",
      "\u001b[1m170/170\u001b[0m \u001b[32m━━━━━━━━━━━━━━━━━━━━\u001b[0m\u001b[37m\u001b[0m \u001b[1m1s\u001b[0m 6ms/step - accuracy: 1.0000 - loss: 7.7030e-05 - val_accuracy: 0.6018 - val_loss: 1.9426\n",
      "Epoch 20/30\n",
      "\u001b[1m170/170\u001b[0m \u001b[32m━━━━━━━━━━━━━━━━━━━━\u001b[0m\u001b[37m\u001b[0m \u001b[1m1s\u001b[0m 7ms/step - accuracy: 1.0000 - loss: 6.6353e-05 - val_accuracy: 0.6018 - val_loss: 1.9691\n",
      "Epoch 21/30\n",
      "\u001b[1m170/170\u001b[0m \u001b[32m━━━━━━━━━━━━━━━━━━━━\u001b[0m\u001b[37m\u001b[0m \u001b[1m1s\u001b[0m 7ms/step - accuracy: 1.0000 - loss: 5.7351e-05 - val_accuracy: 0.6018 - val_loss: 1.9949\n",
      "Epoch 22/30\n",
      "\u001b[1m170/170\u001b[0m \u001b[32m━━━━━━━━━━━━━━━━━━━━\u001b[0m\u001b[37m\u001b[0m \u001b[1m1s\u001b[0m 7ms/step - accuracy: 1.0000 - loss: 4.9212e-05 - val_accuracy: 0.6018 - val_loss: 2.0195\n",
      "Epoch 23/30\n",
      "\u001b[1m170/170\u001b[0m \u001b[32m━━━━━━━━━━━━━━━━━━━━\u001b[0m\u001b[37m\u001b[0m \u001b[1m1s\u001b[0m 7ms/step - accuracy: 1.0000 - loss: 4.2655e-05 - val_accuracy: 0.6018 - val_loss: 2.0434\n",
      "Epoch 24/30\n",
      "\u001b[1m170/170\u001b[0m \u001b[32m━━━━━━━━━━━━━━━━━━━━\u001b[0m\u001b[37m\u001b[0m \u001b[1m1s\u001b[0m 7ms/step - accuracy: 1.0000 - loss: 3.8911e-05 - val_accuracy: 0.6018 - val_loss: 2.0670\n",
      "Epoch 25/30\n",
      "\u001b[1m170/170\u001b[0m \u001b[32m━━━━━━━━━━━━━━━━━━━━\u001b[0m\u001b[37m\u001b[0m \u001b[1m1s\u001b[0m 7ms/step - accuracy: 1.0000 - loss: 3.4037e-05 - val_accuracy: 0.6018 - val_loss: 2.0898\n",
      "Epoch 26/30\n",
      "\u001b[1m170/170\u001b[0m \u001b[32m━━━━━━━━━━━━━━━━━━━━\u001b[0m\u001b[37m\u001b[0m \u001b[1m1s\u001b[0m 7ms/step - accuracy: 1.0000 - loss: 2.9970e-05 - val_accuracy: 0.6018 - val_loss: 2.1124\n",
      "Epoch 27/30\n",
      "\u001b[1m170/170\u001b[0m \u001b[32m━━━━━━━━━━━━━━━━━━━━\u001b[0m\u001b[37m\u001b[0m \u001b[1m1s\u001b[0m 7ms/step - accuracy: 1.0000 - loss: 2.6342e-05 - val_accuracy: 0.6018 - val_loss: 2.1343\n",
      "Epoch 28/30\n",
      "\u001b[1m170/170\u001b[0m \u001b[32m━━━━━━━━━━━━━━━━━━━━\u001b[0m\u001b[37m\u001b[0m \u001b[1m1s\u001b[0m 7ms/step - accuracy: 1.0000 - loss: 2.3488e-05 - val_accuracy: 0.6018 - val_loss: 2.1560\n",
      "Epoch 29/30\n",
      "\u001b[1m170/170\u001b[0m \u001b[32m━━━━━━━━━━━━━━━━━━━━\u001b[0m\u001b[37m\u001b[0m \u001b[1m1s\u001b[0m 6ms/step - accuracy: 1.0000 - loss: 2.0156e-05 - val_accuracy: 0.6018 - val_loss: 2.1773\n",
      "Epoch 30/30\n",
      "\u001b[1m170/170\u001b[0m \u001b[32m━━━━━━━━━━━━━━━━━━━━\u001b[0m\u001b[37m\u001b[0m \u001b[1m1s\u001b[0m 6ms/step - accuracy: 1.0000 - loss: 1.8417e-05 - val_accuracy: 0.6018 - val_loss: 2.1982\n"
     ]
    },
    {
     "data": {
      "text/plain": [
       "<keras.src.callbacks.history.History at 0x2b7bc0e82d0>"
      ]
     },
     "execution_count": 362,
     "metadata": {},
     "output_type": "execute_result"
    }
   ],
   "source": [
    "model.fit(X_train, y_train, epochs=30, batch_size=8, validation_split=0.2)"
   ]
  },
  {
   "cell_type": "code",
   "execution_count": 364,
   "id": "6ab492fc-a82d-43bd-9fe6-92c09450473c",
   "metadata": {},
   "outputs": [
    {
     "name": "stdout",
     "output_type": "stream",
     "text": [
      "\u001b[1m2/2\u001b[0m \u001b[32m━━━━━━━━━━━━━━━━━━━━\u001b[0m\u001b[37m\u001b[0m \u001b[1m2s\u001b[0m 921ms/step\n"
     ]
    }
   ],
   "source": [
    "y_pred=model.predict(X_test)"
   ]
  },
  {
   "cell_type": "code",
   "execution_count": 367,
   "id": "04295bdb-df94-4681-a6b5-dd5ebd1feb17",
   "metadata": {},
   "outputs": [],
   "source": [
    "threshold = 0.5\n",
    "y_pred = (y_pred > threshold).astype(int)"
   ]
  },
  {
   "cell_type": "code",
   "execution_count": 368,
   "id": "7ec12e8f-d37b-4574-b05c-34b8ddc0c804",
   "metadata": {
    "scrolled": true
   },
   "outputs": [
    {
     "data": {
      "text/plain": [
       "array([[0],\n",
       "       [0],\n",
       "       [1],\n",
       "       [0],\n",
       "       [0],\n",
       "       [0],\n",
       "       [0],\n",
       "       [1],\n",
       "       [1],\n",
       "       [0],\n",
       "       [1],\n",
       "       [1],\n",
       "       [0],\n",
       "       [0],\n",
       "       [1],\n",
       "       [1],\n",
       "       [1],\n",
       "       [0],\n",
       "       [1],\n",
       "       [1],\n",
       "       [0],\n",
       "       [0],\n",
       "       [0],\n",
       "       [0],\n",
       "       [1],\n",
       "       [0],\n",
       "       [0],\n",
       "       [0],\n",
       "       [1],\n",
       "       [1],\n",
       "       [0],\n",
       "       [0],\n",
       "       [1],\n",
       "       [0],\n",
       "       [1],\n",
       "       [1],\n",
       "       [0],\n",
       "       [1],\n",
       "       [1],\n",
       "       [1],\n",
       "       [1],\n",
       "       [1],\n",
       "       [1],\n",
       "       [1],\n",
       "       [0],\n",
       "       [1],\n",
       "       [1],\n",
       "       [1],\n",
       "       [0],\n",
       "       [1],\n",
       "       [0],\n",
       "       [0],\n",
       "       [0]])"
      ]
     },
     "execution_count": 368,
     "metadata": {},
     "output_type": "execute_result"
    }
   ],
   "source": [
    "y_pred"
   ]
  },
  {
   "cell_type": "code",
   "execution_count": 369,
   "id": "f4c6b932-1684-4228-aec6-a7b8f3511959",
   "metadata": {},
   "outputs": [
    {
     "data": {
      "text/plain": [
       "0.660377358490566"
      ]
     },
     "execution_count": 369,
     "metadata": {},
     "output_type": "execute_result"
    }
   ],
   "source": [
    "accuracy_score(y_test,y_pred)"
   ]
  },
  {
   "cell_type": "code",
   "execution_count": 370,
   "id": "f45c36c9-9e6a-4dc3-b78e-651e23993ead",
   "metadata": {},
   "outputs": [
    {
     "data": {
      "text/plain": [
       "0.7407407407407407"
      ]
     },
     "execution_count": 370,
     "metadata": {},
     "output_type": "execute_result"
    }
   ],
   "source": [
    "precision_score(y_test,y_pred)"
   ]
  },
  {
   "cell_type": "code",
   "execution_count": 371,
   "id": "d52b40a6-b10c-4f32-810b-724535b94412",
   "metadata": {},
   "outputs": [
    {
     "data": {
      "text/plain": [
       "0.6451612903225806"
      ]
     },
     "execution_count": 371,
     "metadata": {},
     "output_type": "execute_result"
    }
   ],
   "source": [
    "recall_score(y_test,y_pred)"
   ]
  },
  {
   "cell_type": "code",
   "execution_count": 375,
   "id": "8dbd1396-6245-4459-8bf1-c0da9b127839",
   "metadata": {},
   "outputs": [
    {
     "name": "stdout",
     "output_type": "stream",
     "text": [
      "\u001b[1m53/53\u001b[0m \u001b[32m━━━━━━━━━━━━━━━━━━━━\u001b[0m\u001b[37m\u001b[0m \u001b[1m0s\u001b[0m 3ms/step\n"
     ]
    }
   ],
   "source": [
    "yyy=model.predict(X_train)"
   ]
  },
  {
   "cell_type": "code",
   "execution_count": 378,
   "id": "b0a9aa18-9297-4c0d-8ff8-45a227222414",
   "metadata": {},
   "outputs": [],
   "source": [
    "threshold = 0.5\n",
    "yyy = (yyy > threshold).astype(int)"
   ]
  },
  {
   "cell_type": "code",
   "execution_count": 379,
   "id": "fc4560d6-52cd-4927-b568-02d4f8f1c854",
   "metadata": {},
   "outputs": [
    {
     "data": {
      "text/plain": [
       "0.9202598936798583"
      ]
     },
     "execution_count": 379,
     "metadata": {},
     "output_type": "execute_result"
    }
   ],
   "source": [
    "accuracy_score(y_train,yyy)"
   ]
  },
  {
   "cell_type": "code",
   "execution_count": 380,
   "id": "bb436d3c-4674-41b7-9fbd-cf3f3b325a9c",
   "metadata": {},
   "outputs": [],
   "source": [
    "# GRU"
   ]
  },
  {
   "cell_type": "code",
   "execution_count": 381,
   "id": "dc230341-641b-42a1-9d18-5a02fa04343b",
   "metadata": {},
   "outputs": [],
   "source": [
    "from tensorflow.keras.layers import GRU, Dense"
   ]
  },
  {
   "cell_type": "code",
   "execution_count": 382,
   "id": "16c81d97-233f-4c34-b399-d580f38a4f06",
   "metadata": {},
   "outputs": [],
   "source": [
    "optimizer = Adam(learning_rate=0.001)\n",
    "batch_size = 8\n",
    "epochs = 30"
   ]
  },
  {
   "cell_type": "code",
   "execution_count": 386,
   "id": "320d0d66-bc78-4b04-96a6-c9d8fc880d94",
   "metadata": {},
   "outputs": [
    {
     "data": {
      "text/plain": [
       "622"
      ]
     },
     "execution_count": 386,
     "metadata": {},
     "output_type": "execute_result"
    }
   ],
   "source": [
    "len(X_train[0])"
   ]
  },
  {
   "cell_type": "code",
   "execution_count": 387,
   "id": "ac1901a5-eb11-4ae0-bc98-2ea5349539ec",
   "metadata": {},
   "outputs": [],
   "source": [
    "\n",
    "# Reshape training set: (1693, 622) -> (1693, 1, 622)\n",
    "X_train_reshaped = np.reshape(X_train, (X_train.shape[0], 1, X_train.shape[1]))\n",
    "\n",
    "# Reshape test set: (53, 622) -> (53, 1, 622)\n",
    "X_test_reshaped = np.reshape(X_test, (X_test.shape[0], 1, X_test.shape[1]))\n"
   ]
  },
  {
   "cell_type": "code",
   "execution_count": 389,
   "id": "bf0faff1-4899-4c09-8381-d38c39098f31",
   "metadata": {},
   "outputs": [],
   "source": [
    "model_gru_2hidden = Sequential()\n",
    "model_gru_2hidden.add(Input(shape=(X_train_reshaped.shape[1], X_train_reshaped.shape[2])))\n",
    "model_gru_2hidden.add(GRU(units=100, return_sequences=True))\n",
    "model_gru_2hidden.add(GRU(units=50))\n",
    "model_gru_2hidden.add(Dense(units=1, activation='sigmoid'))  # Assuming binary classification\n",
    "\n",
    "# Compile the model\n",
    "optimizer = Adam(learning_rate=0.001)\n",
    "model_gru_2hidden.compile(optimizer=optimizer, loss='binary_crossentropy', metrics=['accuracy'])\n",
    "\n"
   ]
  },
  {
   "cell_type": "code",
   "execution_count": 391,
   "id": "ac8ec6b1-84f0-4d5b-b99c-d049ff06964e",
   "metadata": {
    "scrolled": true
   },
   "outputs": [
    {
     "name": "stdout",
     "output_type": "stream",
     "text": [
      "Epoch 1/30\n",
      "\u001b[1m170/170\u001b[0m \u001b[32m━━━━━━━━━━━━━━━━━━━━\u001b[0m\u001b[37m\u001b[0m \u001b[1m12s\u001b[0m 12ms/step - accuracy: 0.5241 - loss: 0.6920 - val_accuracy: 0.5782 - val_loss: 0.6793\n",
      "Epoch 2/30\n",
      "\u001b[1m170/170\u001b[0m \u001b[32m━━━━━━━━━━━━━━━━━━━━\u001b[0m\u001b[37m\u001b[0m \u001b[1m1s\u001b[0m 7ms/step - accuracy: 0.9225 - loss: 0.3259 - val_accuracy: 0.5782 - val_loss: 0.8856\n",
      "Epoch 3/30\n",
      "\u001b[1m170/170\u001b[0m \u001b[32m━━━━━━━━━━━━━━━━━━━━\u001b[0m\u001b[37m\u001b[0m \u001b[1m1s\u001b[0m 7ms/step - accuracy: 0.9790 - loss: 0.0735 - val_accuracy: 0.5546 - val_loss: 1.2678\n",
      "Epoch 4/30\n",
      "\u001b[1m170/170\u001b[0m \u001b[32m━━━━━━━━━━━━━━━━━━━━\u001b[0m\u001b[37m\u001b[0m \u001b[1m1s\u001b[0m 7ms/step - accuracy: 0.9978 - loss: 0.0199 - val_accuracy: 0.5428 - val_loss: 1.4333\n",
      "Epoch 5/30\n",
      "\u001b[1m170/170\u001b[0m \u001b[32m━━━━━━━━━━━━━━━━━━━━\u001b[0m\u001b[37m\u001b[0m \u001b[1m1s\u001b[0m 7ms/step - accuracy: 1.0000 - loss: 0.0042 - val_accuracy: 0.5516 - val_loss: 1.5655\n",
      "Epoch 6/30\n",
      "\u001b[1m170/170\u001b[0m \u001b[32m━━━━━━━━━━━━━━━━━━━━\u001b[0m\u001b[37m\u001b[0m \u001b[1m1s\u001b[0m 7ms/step - accuracy: 1.0000 - loss: 0.0022 - val_accuracy: 0.5487 - val_loss: 1.6597\n",
      "Epoch 7/30\n",
      "\u001b[1m170/170\u001b[0m \u001b[32m━━━━━━━━━━━━━━━━━━━━\u001b[0m\u001b[37m\u001b[0m \u001b[1m1s\u001b[0m 6ms/step - accuracy: 1.0000 - loss: 0.0015 - val_accuracy: 0.5457 - val_loss: 1.7364\n",
      "Epoch 8/30\n",
      "\u001b[1m170/170\u001b[0m \u001b[32m━━━━━━━━━━━━━━━━━━━━\u001b[0m\u001b[37m\u001b[0m \u001b[1m1s\u001b[0m 7ms/step - accuracy: 1.0000 - loss: 9.9373e-04 - val_accuracy: 0.5487 - val_loss: 1.8027\n",
      "Epoch 9/30\n",
      "\u001b[1m170/170\u001b[0m \u001b[32m━━━━━━━━━━━━━━━━━━━━\u001b[0m\u001b[37m\u001b[0m \u001b[1m1s\u001b[0m 6ms/step - accuracy: 1.0000 - loss: 8.0066e-04 - val_accuracy: 0.5457 - val_loss: 1.8606\n",
      "Epoch 10/30\n",
      "\u001b[1m170/170\u001b[0m \u001b[32m━━━━━━━━━━━━━━━━━━━━\u001b[0m\u001b[37m\u001b[0m \u001b[1m1s\u001b[0m 6ms/step - accuracy: 1.0000 - loss: 5.7944e-04 - val_accuracy: 0.5457 - val_loss: 1.9139\n",
      "Epoch 11/30\n",
      "\u001b[1m170/170\u001b[0m \u001b[32m━━━━━━━━━━━━━━━━━━━━\u001b[0m\u001b[37m\u001b[0m \u001b[1m1s\u001b[0m 7ms/step - accuracy: 1.0000 - loss: 4.6655e-04 - val_accuracy: 0.5457 - val_loss: 1.9622\n",
      "Epoch 12/30\n",
      "\u001b[1m170/170\u001b[0m \u001b[32m━━━━━━━━━━━━━━━━━━━━\u001b[0m\u001b[37m\u001b[0m \u001b[1m1s\u001b[0m 6ms/step - accuracy: 1.0000 - loss: 3.7723e-04 - val_accuracy: 0.5457 - val_loss: 2.0075\n",
      "Epoch 13/30\n",
      "\u001b[1m170/170\u001b[0m \u001b[32m━━━━━━━━━━━━━━━━━━━━\u001b[0m\u001b[37m\u001b[0m \u001b[1m1s\u001b[0m 6ms/step - accuracy: 1.0000 - loss: 3.0248e-04 - val_accuracy: 0.5457 - val_loss: 2.0495\n",
      "Epoch 14/30\n",
      "\u001b[1m170/170\u001b[0m \u001b[32m━━━━━━━━━━━━━━━━━━━━\u001b[0m\u001b[37m\u001b[0m \u001b[1m1s\u001b[0m 6ms/step - accuracy: 1.0000 - loss: 2.4529e-04 - val_accuracy: 0.5457 - val_loss: 2.0895\n",
      "Epoch 15/30\n",
      "\u001b[1m170/170\u001b[0m \u001b[32m━━━━━━━━━━━━━━━━━━━━\u001b[0m\u001b[37m\u001b[0m \u001b[1m1s\u001b[0m 6ms/step - accuracy: 1.0000 - loss: 2.2123e-04 - val_accuracy: 0.5457 - val_loss: 2.1270\n",
      "Epoch 16/30\n",
      "\u001b[1m170/170\u001b[0m \u001b[32m━━━━━━━━━━━━━━━━━━━━\u001b[0m\u001b[37m\u001b[0m \u001b[1m1s\u001b[0m 6ms/step - accuracy: 1.0000 - loss: 1.8413e-04 - val_accuracy: 0.5457 - val_loss: 2.1639\n",
      "Epoch 17/30\n",
      "\u001b[1m170/170\u001b[0m \u001b[32m━━━━━━━━━━━━━━━━━━━━\u001b[0m\u001b[37m\u001b[0m \u001b[1m1s\u001b[0m 7ms/step - accuracy: 1.0000 - loss: 1.5623e-04 - val_accuracy: 0.5457 - val_loss: 2.1980\n",
      "Epoch 18/30\n",
      "\u001b[1m170/170\u001b[0m \u001b[32m━━━━━━━━━━━━━━━━━━━━\u001b[0m\u001b[37m\u001b[0m \u001b[1m1s\u001b[0m 7ms/step - accuracy: 1.0000 - loss: 1.4035e-04 - val_accuracy: 0.5457 - val_loss: 2.2316\n",
      "Epoch 19/30\n",
      "\u001b[1m170/170\u001b[0m \u001b[32m━━━━━━━━━━━━━━━━━━━━\u001b[0m\u001b[37m\u001b[0m \u001b[1m1s\u001b[0m 7ms/step - accuracy: 1.0000 - loss: 1.1086e-04 - val_accuracy: 0.5457 - val_loss: 2.2637\n",
      "Epoch 20/30\n",
      "\u001b[1m170/170\u001b[0m \u001b[32m━━━━━━━━━━━━━━━━━━━━\u001b[0m\u001b[37m\u001b[0m \u001b[1m1s\u001b[0m 7ms/step - accuracy: 1.0000 - loss: 1.0600e-04 - val_accuracy: 0.5487 - val_loss: 2.2953\n",
      "Epoch 21/30\n",
      "\u001b[1m170/170\u001b[0m \u001b[32m━━━━━━━━━━━━━━━━━━━━\u001b[0m\u001b[37m\u001b[0m \u001b[1m1s\u001b[0m 6ms/step - accuracy: 1.0000 - loss: 8.8603e-05 - val_accuracy: 0.5487 - val_loss: 2.3254\n",
      "Epoch 22/30\n",
      "\u001b[1m170/170\u001b[0m \u001b[32m━━━━━━━━━━━━━━━━━━━━\u001b[0m\u001b[37m\u001b[0m \u001b[1m1s\u001b[0m 7ms/step - accuracy: 1.0000 - loss: 7.7381e-05 - val_accuracy: 0.5457 - val_loss: 2.3550\n",
      "Epoch 23/30\n",
      "\u001b[1m170/170\u001b[0m \u001b[32m━━━━━━━━━━━━━━━━━━━━\u001b[0m\u001b[37m\u001b[0m \u001b[1m1s\u001b[0m 7ms/step - accuracy: 1.0000 - loss: 7.3113e-05 - val_accuracy: 0.5457 - val_loss: 2.3840\n",
      "Epoch 24/30\n",
      "\u001b[1m170/170\u001b[0m \u001b[32m━━━━━━━━━━━━━━━━━━━━\u001b[0m\u001b[37m\u001b[0m \u001b[1m1s\u001b[0m 7ms/step - accuracy: 1.0000 - loss: 6.1922e-05 - val_accuracy: 0.5487 - val_loss: 2.4119\n",
      "Epoch 25/30\n",
      "\u001b[1m170/170\u001b[0m \u001b[32m━━━━━━━━━━━━━━━━━━━━\u001b[0m\u001b[37m\u001b[0m \u001b[1m1s\u001b[0m 7ms/step - accuracy: 1.0000 - loss: 5.8204e-05 - val_accuracy: 0.5487 - val_loss: 2.4400\n",
      "Epoch 26/30\n",
      "\u001b[1m170/170\u001b[0m \u001b[32m━━━━━━━━━━━━━━━━━━━━\u001b[0m\u001b[37m\u001b[0m \u001b[1m1s\u001b[0m 6ms/step - accuracy: 1.0000 - loss: 4.8044e-05 - val_accuracy: 0.5516 - val_loss: 2.4678\n",
      "Epoch 27/30\n",
      "\u001b[1m170/170\u001b[0m \u001b[32m━━━━━━━━━━━━━━━━━━━━\u001b[0m\u001b[37m\u001b[0m \u001b[1m1s\u001b[0m 6ms/step - accuracy: 1.0000 - loss: 4.2436e-05 - val_accuracy: 0.5516 - val_loss: 2.4949\n",
      "Epoch 28/30\n",
      "\u001b[1m170/170\u001b[0m \u001b[32m━━━━━━━━━━━━━━━━━━━━\u001b[0m\u001b[37m\u001b[0m \u001b[1m1s\u001b[0m 6ms/step - accuracy: 1.0000 - loss: 3.9266e-05 - val_accuracy: 0.5516 - val_loss: 2.5213\n",
      "Epoch 29/30\n",
      "\u001b[1m170/170\u001b[0m \u001b[32m━━━━━━━━━━━━━━━━━━━━\u001b[0m\u001b[37m\u001b[0m \u001b[1m1s\u001b[0m 6ms/step - accuracy: 1.0000 - loss: 3.3579e-05 - val_accuracy: 0.5516 - val_loss: 2.5475\n",
      "Epoch 30/30\n",
      "\u001b[1m170/170\u001b[0m \u001b[32m━━━━━━━━━━━━━━━━━━━━\u001b[0m\u001b[37m\u001b[0m \u001b[1m1s\u001b[0m 6ms/step - accuracy: 1.0000 - loss: 3.1721e-05 - val_accuracy: 0.5516 - val_loss: 2.5736\n"
     ]
    },
    {
     "data": {
      "text/plain": [
       "<keras.src.callbacks.history.History at 0x2b7bd8c0a10>"
      ]
     },
     "execution_count": 391,
     "metadata": {},
     "output_type": "execute_result"
    }
   ],
   "source": [
    "# Train the model\n",
    "\n",
    "model_gru_2hidden.fit(X_train_reshaped, y_train, batch_size=batch_size, epochs=epochs, validation_split=0.2)\n"
   ]
  },
  {
   "cell_type": "code",
   "execution_count": 397,
   "id": "fc1509ac-1f82-48a3-b7d4-120d1493fae1",
   "metadata": {},
   "outputs": [
    {
     "data": {
      "text/plain": [
       "array([[[-0.68895036, -0.50141333,  0.62202998, ..., -0.24939019,\n",
       "          2.18719337, -0.64000015]],\n",
       "\n",
       "       [[-0.7959755 , -1.35464462,  0.93601287, ...,  0.31223152,\n",
       "         -0.0494811 ,  0.65466706]],\n",
       "\n",
       "       [[-0.42786701,  0.42665605, -1.03897567, ..., -0.21142202,\n",
       "          0.44802846,  1.91510096]],\n",
       "\n",
       "       ...,\n",
       "\n",
       "       [[ 1.08257111, -0.08339415,  0.01311781, ..., -1.09410791,\n",
       "         -1.20797449,  1.09750188]],\n",
       "\n",
       "       [[-0.4962533 ,  1.60072068, -0.52159033, ...,  0.84136823,\n",
       "          0.13710855, -1.04829598]],\n",
       "\n",
       "       [[-0.58021568,  0.10216808,  1.71006129, ...,  0.14955991,\n",
       "         -1.86787461, -0.11684255]]])"
      ]
     },
     "execution_count": 397,
     "metadata": {},
     "output_type": "execute_result"
    }
   ],
   "source": [
    "(X_test_reshaped)"
   ]
  },
  {
   "cell_type": "code",
   "execution_count": 399,
   "id": "8585a3d2-8cb9-4ff1-bb9c-ae1d4d6d9ffd",
   "metadata": {},
   "outputs": [
    {
     "name": "stdout",
     "output_type": "stream",
     "text": [
      "\u001b[1m2/2\u001b[0m \u001b[32m━━━━━━━━━━━━━━━━━━━━\u001b[0m\u001b[37m\u001b[0m \u001b[1m2s\u001b[0m 822ms/step\n"
     ]
    }
   ],
   "source": [
    "y_pred=model_gru_2hidden.predict(X_test_reshaped)"
   ]
  },
  {
   "cell_type": "code",
   "execution_count": 401,
   "id": "cd5553ee-13da-4988-b781-818842ad9978",
   "metadata": {},
   "outputs": [],
   "source": [
    "threshold = 0.5\n",
    "y_pred = (y_pred > threshold).astype(int)"
   ]
  },
  {
   "cell_type": "code",
   "execution_count": 402,
   "id": "c60374d3-a4fa-460c-b644-03d034f48817",
   "metadata": {
    "scrolled": true
   },
   "outputs": [
    {
     "data": {
      "text/plain": [
       "array([[1],\n",
       "       [0],\n",
       "       [1],\n",
       "       [0],\n",
       "       [0],\n",
       "       [0],\n",
       "       [0],\n",
       "       [0],\n",
       "       [1],\n",
       "       [0],\n",
       "       [1],\n",
       "       [1],\n",
       "       [0],\n",
       "       [0],\n",
       "       [1],\n",
       "       [1],\n",
       "       [1],\n",
       "       [0],\n",
       "       [0],\n",
       "       [1],\n",
       "       [0],\n",
       "       [0],\n",
       "       [0],\n",
       "       [0],\n",
       "       [1],\n",
       "       [0],\n",
       "       [0],\n",
       "       [0],\n",
       "       [1],\n",
       "       [1],\n",
       "       [0],\n",
       "       [0],\n",
       "       [1],\n",
       "       [1],\n",
       "       [1],\n",
       "       [1],\n",
       "       [1],\n",
       "       [1],\n",
       "       [0],\n",
       "       [1],\n",
       "       [1],\n",
       "       [1],\n",
       "       [1],\n",
       "       [1],\n",
       "       [0],\n",
       "       [1],\n",
       "       [1],\n",
       "       [1],\n",
       "       [0],\n",
       "       [1],\n",
       "       [0],\n",
       "       [0],\n",
       "       [0]])"
      ]
     },
     "execution_count": 402,
     "metadata": {},
     "output_type": "execute_result"
    }
   ],
   "source": [
    "y_pred"
   ]
  },
  {
   "cell_type": "code",
   "execution_count": 403,
   "id": "304e5795-f908-4872-b51d-9acc115a6324",
   "metadata": {},
   "outputs": [
    {
     "data": {
      "text/plain": [
       "0.6226415094339622"
      ]
     },
     "execution_count": 403,
     "metadata": {},
     "output_type": "execute_result"
    }
   ],
   "source": [
    "accuracy_score(y_test,y_pred)"
   ]
  },
  {
   "cell_type": "code",
   "execution_count": 404,
   "id": "0da37e8f-3d73-4c84-bb2f-a99de7c0ed7d",
   "metadata": {},
   "outputs": [
    {
     "data": {
      "text/plain": [
       "0.7037037037037037"
      ]
     },
     "execution_count": 404,
     "metadata": {},
     "output_type": "execute_result"
    }
   ],
   "source": [
    "precision_score(y_test,y_pred)"
   ]
  },
  {
   "cell_type": "code",
   "execution_count": 405,
   "id": "0d6986fe-56bd-40bc-9641-61051aff09f4",
   "metadata": {},
   "outputs": [
    {
     "data": {
      "text/plain": [
       "0.6129032258064516"
      ]
     },
     "execution_count": 405,
     "metadata": {},
     "output_type": "execute_result"
    }
   ],
   "source": [
    "recall_score(y_test,y_pred)"
   ]
  },
  {
   "cell_type": "code",
   "execution_count": 406,
   "id": "3d7fa08d-aa11-4f37-af78-5c69a84be8a1",
   "metadata": {},
   "outputs": [
    {
     "name": "stdout",
     "output_type": "stream",
     "text": [
      "\u001b[1m53/53\u001b[0m \u001b[32m━━━━━━━━━━━━━━━━━━━━\u001b[0m\u001b[37m\u001b[0m \u001b[1m0s\u001b[0m 4ms/step\n"
     ]
    }
   ],
   "source": [
    "yyy=model_gru_2hidden.predict(X_train_reshaped)"
   ]
  },
  {
   "cell_type": "code",
   "execution_count": 407,
   "id": "fe939c34-b03e-49b4-8079-a9ac494d2272",
   "metadata": {},
   "outputs": [],
   "source": [
    "threshold = 0.5\n",
    "yyy = (yyy > threshold).astype(int)"
   ]
  },
  {
   "cell_type": "code",
   "execution_count": 408,
   "id": "d42eb2bf-eb24-480d-9394-9cbcb72745be",
   "metadata": {},
   "outputs": [
    {
     "data": {
      "text/plain": [
       "0.9102185469580626"
      ]
     },
     "execution_count": 408,
     "metadata": {},
     "output_type": "execute_result"
    }
   ],
   "source": [
    "accuracy_score(y_train,yyy)"
   ]
  },
  {
   "cell_type": "markdown",
   "id": "925eb2fb-0494-4297-9b94-92e605a3946d",
   "metadata": {},
   "source": [
    "## Model on pretrained Word2VEc"
   ]
  },
  {
   "cell_type": "code",
   "execution_count": 440,
   "id": "2a9c8eb5-85e7-4691-b5a2-e305976c8f22",
   "metadata": {},
   "outputs": [],
   "source": [
    "# LR"
   ]
  },
  {
   "cell_type": "code",
   "execution_count": 451,
   "id": "2c1afd86-e0a8-4b7c-a74d-62aa9b2f47fc",
   "metadata": {},
   "outputs": [],
   "source": [
    "X_test=pre_trained_word2vec[-test_size:]\n",
    "y_test=df4['Label'][-test_size:]"
   ]
  },
  {
   "cell_type": "code",
   "execution_count": 460,
   "id": "2a917137-4e92-400e-bb6c-83c12b7e6a98",
   "metadata": {},
   "outputs": [
    {
     "data": {
      "text/html": [
       "<div>\n",
       "<style scoped>\n",
       "    .dataframe tbody tr th:only-of-type {\n",
       "        vertical-align: middle;\n",
       "    }\n",
       "\n",
       "    .dataframe tbody tr th {\n",
       "        vertical-align: top;\n",
       "    }\n",
       "\n",
       "    .dataframe thead th {\n",
       "        text-align: right;\n",
       "    }\n",
       "</style>\n",
       "<table border=\"1\" class=\"dataframe\">\n",
       "  <thead>\n",
       "    <tr style=\"text-align: right;\">\n",
       "      <th></th>\n",
       "      <th>clean_title</th>\n",
       "      <th>Label</th>\n",
       "    </tr>\n",
       "  </thead>\n",
       "  <tbody>\n",
       "    <tr>\n",
       "      <th>0</th>\n",
       "      <td>[0.00953895, 0.0009532198, -0.011498066, 0.083...</td>\n",
       "      <td>1</td>\n",
       "    </tr>\n",
       "    <tr>\n",
       "      <th>1</th>\n",
       "      <td>[-0.0003925652, 0.032543052, 0.020452728, 0.06...</td>\n",
       "      <td>1</td>\n",
       "    </tr>\n",
       "    <tr>\n",
       "      <th>2</th>\n",
       "      <td>[0.016471973, 0.0005563463, -0.024610301, 0.08...</td>\n",
       "      <td>1</td>\n",
       "    </tr>\n",
       "    <tr>\n",
       "      <th>3</th>\n",
       "      <td>[-0.015810648, 0.008278012, -0.009677172, 0.08...</td>\n",
       "      <td>0</td>\n",
       "    </tr>\n",
       "    <tr>\n",
       "      <th>4</th>\n",
       "      <td>[0.013206236, 0.034184013, 0.032716233, 0.0666...</td>\n",
       "      <td>0</td>\n",
       "    </tr>\n",
       "    <tr>\n",
       "      <th>...</th>\n",
       "      <td>...</td>\n",
       "      <td>...</td>\n",
       "    </tr>\n",
       "    <tr>\n",
       "      <th>1690</th>\n",
       "      <td>[0.0035990665, -0.00943854, -0.0023566799, 0.1...</td>\n",
       "      <td>0</td>\n",
       "    </tr>\n",
       "    <tr>\n",
       "      <th>1691</th>\n",
       "      <td>[0.0057910015, -0.010157753, -0.0030250696, 0....</td>\n",
       "      <td>0</td>\n",
       "    </tr>\n",
       "    <tr>\n",
       "      <th>1692</th>\n",
       "      <td>[0.015489157, 0.02618864, 0.03529774, 0.063434...</td>\n",
       "      <td>1</td>\n",
       "    </tr>\n",
       "    <tr>\n",
       "      <th>1693</th>\n",
       "      <td>[0.019545667, 0.03352487, -0.011951564, 0.0652...</td>\n",
       "      <td>1</td>\n",
       "    </tr>\n",
       "    <tr>\n",
       "      <th>1694</th>\n",
       "      <td>[0.00814924, 0.027002072, 0.008467132, 0.11422...</td>\n",
       "      <td>1</td>\n",
       "    </tr>\n",
       "  </tbody>\n",
       "</table>\n",
       "<p>1695 rows × 2 columns</p>\n",
       "</div>"
      ],
      "text/plain": [
       "                                            clean_title  Label\n",
       "0     [0.00953895, 0.0009532198, -0.011498066, 0.083...      1\n",
       "1     [-0.0003925652, 0.032543052, 0.020452728, 0.06...      1\n",
       "2     [0.016471973, 0.0005563463, -0.024610301, 0.08...      1\n",
       "3     [-0.015810648, 0.008278012, -0.009677172, 0.08...      0\n",
       "4     [0.013206236, 0.034184013, 0.032716233, 0.0666...      0\n",
       "...                                                 ...    ...\n",
       "1690  [0.0035990665, -0.00943854, -0.0023566799, 0.1...      0\n",
       "1691  [0.0057910015, -0.010157753, -0.0030250696, 0....      0\n",
       "1692  [0.015489157, 0.02618864, 0.03529774, 0.063434...      1\n",
       "1693  [0.019545667, 0.03352487, -0.011951564, 0.0652...      1\n",
       "1694  [0.00814924, 0.027002072, 0.008467132, 0.11422...      1\n",
       "\n",
       "[1695 rows x 2 columns]"
      ]
     },
     "execution_count": 460,
     "metadata": {},
     "output_type": "execute_result"
    }
   ],
   "source": [
    "comb_train=pd.concat([pre_trained_word2vec[:-test_size],df4['Label'][:-test_size]],axis=1)\n",
    "comb_train"
   ]
  },
  {
   "cell_type": "code",
   "execution_count": 462,
   "id": "7131f2b4-92b4-41a5-9fff-64ae08568f1c",
   "metadata": {},
   "outputs": [],
   "source": [
    "shuffled_df = comb_train.sample(frac=1, random_state=42)"
   ]
  },
  {
   "cell_type": "code",
   "execution_count": 463,
   "id": "d3737f6a-fe46-4185-a2e5-c0adc37af8d6",
   "metadata": {},
   "outputs": [
    {
     "data": {
      "text/html": [
       "<div>\n",
       "<style scoped>\n",
       "    .dataframe tbody tr th:only-of-type {\n",
       "        vertical-align: middle;\n",
       "    }\n",
       "\n",
       "    .dataframe tbody tr th {\n",
       "        vertical-align: top;\n",
       "    }\n",
       "\n",
       "    .dataframe thead th {\n",
       "        text-align: right;\n",
       "    }\n",
       "</style>\n",
       "<table border=\"1\" class=\"dataframe\">\n",
       "  <thead>\n",
       "    <tr style=\"text-align: right;\">\n",
       "      <th></th>\n",
       "      <th>clean_title</th>\n",
       "      <th>Label</th>\n",
       "    </tr>\n",
       "  </thead>\n",
       "  <tbody>\n",
       "    <tr>\n",
       "      <th>931</th>\n",
       "      <td>[0.01759564, 0.042590994, 0.0029557352, 0.0623...</td>\n",
       "      <td>1</td>\n",
       "    </tr>\n",
       "    <tr>\n",
       "      <th>1398</th>\n",
       "      <td>[0.037093285, 0.028283658, -0.008905867, 0.073...</td>\n",
       "      <td>0</td>\n",
       "    </tr>\n",
       "    <tr>\n",
       "      <th>1561</th>\n",
       "      <td>[0.014046447, 0.024543878, -0.016828403, 0.064...</td>\n",
       "      <td>0</td>\n",
       "    </tr>\n",
       "    <tr>\n",
       "      <th>1006</th>\n",
       "      <td>[0.028023219, 0.016265105, -0.029059255, 0.081...</td>\n",
       "      <td>1</td>\n",
       "    </tr>\n",
       "    <tr>\n",
       "      <th>506</th>\n",
       "      <td>[0.025667364, 0.0026389034, -0.040504977, 0.09...</td>\n",
       "      <td>0</td>\n",
       "    </tr>\n",
       "    <tr>\n",
       "      <th>...</th>\n",
       "      <td>...</td>\n",
       "      <td>...</td>\n",
       "    </tr>\n",
       "    <tr>\n",
       "      <th>1130</th>\n",
       "      <td>[0.024268547, 0.0015622256, -0.007930263, 0.08...</td>\n",
       "      <td>1</td>\n",
       "    </tr>\n",
       "    <tr>\n",
       "      <th>1294</th>\n",
       "      <td>[0.029942995, 0.010589203, 0.0030866351, 0.084...</td>\n",
       "      <td>0</td>\n",
       "    </tr>\n",
       "    <tr>\n",
       "      <th>860</th>\n",
       "      <td>[-0.0085476255, 0.018998034, -0.002109948, 0.0...</td>\n",
       "      <td>1</td>\n",
       "    </tr>\n",
       "    <tr>\n",
       "      <th>1459</th>\n",
       "      <td>[0.0042967224, -0.0075990804, -0.0132278185, 0...</td>\n",
       "      <td>1</td>\n",
       "    </tr>\n",
       "    <tr>\n",
       "      <th>1126</th>\n",
       "      <td>[-0.0021136715, 0.012242269, -0.007951846, 0.0...</td>\n",
       "      <td>0</td>\n",
       "    </tr>\n",
       "  </tbody>\n",
       "</table>\n",
       "<p>1695 rows × 2 columns</p>\n",
       "</div>"
      ],
      "text/plain": [
       "                                            clean_title  Label\n",
       "931   [0.01759564, 0.042590994, 0.0029557352, 0.0623...      1\n",
       "1398  [0.037093285, 0.028283658, -0.008905867, 0.073...      0\n",
       "1561  [0.014046447, 0.024543878, -0.016828403, 0.064...      0\n",
       "1006  [0.028023219, 0.016265105, -0.029059255, 0.081...      1\n",
       "506   [0.025667364, 0.0026389034, -0.040504977, 0.09...      0\n",
       "...                                                 ...    ...\n",
       "1130  [0.024268547, 0.0015622256, -0.007930263, 0.08...      1\n",
       "1294  [0.029942995, 0.010589203, 0.0030866351, 0.084...      0\n",
       "860   [-0.0085476255, 0.018998034, -0.002109948, 0.0...      1\n",
       "1459  [0.0042967224, -0.0075990804, -0.0132278185, 0...      1\n",
       "1126  [-0.0021136715, 0.012242269, -0.007951846, 0.0...      0\n",
       "\n",
       "[1695 rows x 2 columns]"
      ]
     },
     "execution_count": 463,
     "metadata": {},
     "output_type": "execute_result"
    }
   ],
   "source": [
    "shuffled_df"
   ]
  },
  {
   "cell_type": "code",
   "execution_count": 464,
   "id": "368dc551-6832-425c-9ec8-19224fe2a3a0",
   "metadata": {},
   "outputs": [],
   "source": [
    "X_train=shuffled_df['clean_title']\n",
    "y_train=shuffled_df['Label']"
   ]
  },
  {
   "cell_type": "code",
   "execution_count": null,
   "id": "06642926-8914-4035-9020-6d4a763cadc3",
   "metadata": {},
   "outputs": [],
   "source": []
  },
  {
   "cell_type": "code",
   "execution_count": 457,
   "id": "093f0450-4b96-4b56-b945-2c0be53d444e",
   "metadata": {},
   "outputs": [
    {
     "data": {
      "text/plain": [
       "51"
      ]
     },
     "execution_count": 457,
     "metadata": {},
     "output_type": "execute_result"
    }
   ],
   "source": [
    "len(X_test)"
   ]
  },
  {
   "cell_type": "code",
   "execution_count": 455,
   "id": "d8e1c5a9-d0bb-4213-a472-60acd00087a8",
   "metadata": {
    "scrolled": true
   },
   "outputs": [
    {
     "data": {
      "text/plain": [
       "1695    1\n",
       "1696    0\n",
       "1697    0\n",
       "1698    1\n",
       "1699    1\n",
       "1700    0\n",
       "1701    0\n",
       "1702    1\n",
       "1703    1\n",
       "1704    1\n",
       "1705    1\n",
       "1706    1\n",
       "1707    0\n",
       "1708    0\n",
       "1709    1\n",
       "1710    1\n",
       "1711    1\n",
       "1712    1\n",
       "1713    1\n",
       "1714    0\n",
       "1715    0\n",
       "1716    0\n",
       "1717    0\n",
       "1718    0\n",
       "1719    0\n",
       "1720    0\n",
       "1721    0\n",
       "1722    0\n",
       "1723    0\n",
       "1724    0\n",
       "1725    0\n",
       "1726    0\n",
       "1727    0\n",
       "1728    0\n",
       "1729    0\n",
       "1730    0\n",
       "1731    1\n",
       "1732    1\n",
       "1733    0\n",
       "1734    1\n",
       "1735    1\n",
       "1736    1\n",
       "1737    0\n",
       "1738    1\n",
       "1739    1\n",
       "1740    1\n",
       "1741    1\n",
       "1742    0\n",
       "1743    1\n",
       "1744    0\n",
       "1745    0\n",
       "Name: Label, dtype: int32"
      ]
     },
     "execution_count": 455,
     "metadata": {},
     "output_type": "execute_result"
    }
   ],
   "source": [
    "(y_test)"
   ]
  },
  {
   "cell_type": "code",
   "execution_count": null,
   "id": "19a0256f-1f71-4c54-8add-2728d1c06fe4",
   "metadata": {},
   "outputs": [],
   "source": []
  },
  {
   "cell_type": "code",
   "execution_count": null,
   "id": "dc71f7ad-ee42-4c57-95d7-f9846e496dc0",
   "metadata": {},
   "outputs": [],
   "source": []
  },
  {
   "cell_type": "code",
   "execution_count": null,
   "id": "3ad87670-011b-4b24-a79e-8a347a786d1a",
   "metadata": {},
   "outputs": [],
   "source": []
  },
  {
   "cell_type": "code",
   "execution_count": null,
   "id": "408fd7d8-fe31-4744-af07-537b4d27483a",
   "metadata": {},
   "outputs": [],
   "source": []
  },
  {
   "cell_type": "code",
   "execution_count": null,
   "id": "c41ca537-623e-4225-b617-db9a8dc09193",
   "metadata": {},
   "outputs": [],
   "source": []
  },
  {
   "cell_type": "code",
   "execution_count": null,
   "id": "3e63a03e-c0f8-4cc0-a510-f679684af3f8",
   "metadata": {},
   "outputs": [],
   "source": []
  },
  {
   "cell_type": "code",
   "execution_count": null,
   "id": "b4c3ea8c-518f-4753-954a-33348c92df75",
   "metadata": {},
   "outputs": [],
   "source": []
  },
  {
   "cell_type": "code",
   "execution_count": null,
   "id": "9eb8b47d-7e3c-41c1-a8b9-4d91441f2203",
   "metadata": {},
   "outputs": [],
   "source": []
  },
  {
   "cell_type": "code",
   "execution_count": null,
   "id": "50df9b15-03c9-455e-b7f5-f843df9457ba",
   "metadata": {},
   "outputs": [],
   "source": []
  },
  {
   "cell_type": "code",
   "execution_count": null,
   "id": "dff07f9a-d46c-4590-8729-0b1a2dc9d378",
   "metadata": {},
   "outputs": [],
   "source": []
  },
  {
   "cell_type": "code",
   "execution_count": null,
   "id": "727eba8d-11e3-4866-a3d2-d678d8d185d1",
   "metadata": {},
   "outputs": [],
   "source": []
  },
  {
   "cell_type": "code",
   "execution_count": null,
   "id": "8983339e-823d-4e82-9cab-ed2ae28f302b",
   "metadata": {},
   "outputs": [],
   "source": []
  },
  {
   "cell_type": "code",
   "execution_count": null,
   "id": "4b2f7bd0-6b9e-4a53-a8bf-2f4a65411101",
   "metadata": {},
   "outputs": [],
   "source": []
  },
  {
   "cell_type": "code",
   "execution_count": null,
   "id": "8746f867-d466-4d72-8e1c-ecb6faa2df9a",
   "metadata": {},
   "outputs": [],
   "source": []
  },
  {
   "cell_type": "code",
   "execution_count": null,
   "id": "dd7e6e6f-509c-4a56-a1ad-8ff468401cd6",
   "metadata": {},
   "outputs": [],
   "source": []
  },
  {
   "cell_type": "code",
   "execution_count": null,
   "id": "fba5661b-645a-40ee-beb0-ae96f8865dbc",
   "metadata": {},
   "outputs": [],
   "source": []
  },
  {
   "cell_type": "code",
   "execution_count": null,
   "id": "a40c3008-8649-4d65-9046-7a3ed271fba0",
   "metadata": {},
   "outputs": [],
   "source": []
  },
  {
   "cell_type": "code",
   "execution_count": null,
   "id": "c6e4141c-edd2-4626-be4e-d87193965572",
   "metadata": {},
   "outputs": [],
   "source": []
  },
  {
   "cell_type": "code",
   "execution_count": null,
   "id": "1d47357d-e885-4a18-92fb-0277867df229",
   "metadata": {},
   "outputs": [],
   "source": []
  },
  {
   "cell_type": "code",
   "execution_count": null,
   "id": "d39e7a17-c9e7-4327-bba2-a8db46d0e9ff",
   "metadata": {},
   "outputs": [],
   "source": []
  },
  {
   "cell_type": "code",
   "execution_count": null,
   "id": "7704c3a3-2eaf-4e5b-8b4c-e9c18bbca308",
   "metadata": {},
   "outputs": [],
   "source": []
  },
  {
   "cell_type": "code",
   "execution_count": null,
   "id": "333462f6-ae3f-4d45-92e5-73a9b5d692ac",
   "metadata": {},
   "outputs": [],
   "source": []
  },
  {
   "cell_type": "code",
   "execution_count": null,
   "id": "023fdf0d-95d7-43f1-a041-6b24da98f09f",
   "metadata": {},
   "outputs": [],
   "source": []
  },
  {
   "cell_type": "code",
   "execution_count": null,
   "id": "48b0279f-9163-4ccf-b4d4-6ce881e890fa",
   "metadata": {},
   "outputs": [],
   "source": []
  },
  {
   "cell_type": "code",
   "execution_count": null,
   "id": "f4813358-71bd-4eaf-918d-c8bcef78645c",
   "metadata": {},
   "outputs": [],
   "source": []
  },
  {
   "cell_type": "code",
   "execution_count": null,
   "id": "14e6a511-4241-4e00-bb8c-fa12a09e937f",
   "metadata": {},
   "outputs": [],
   "source": []
  },
  {
   "cell_type": "code",
   "execution_count": null,
   "id": "3bcb549e-83a6-45fd-9858-3f7c36ef08b5",
   "metadata": {},
   "outputs": [],
   "source": []
  },
  {
   "cell_type": "code",
   "execution_count": null,
   "id": "d3731bba-2c25-42f5-b575-3edc84c0c34d",
   "metadata": {},
   "outputs": [],
   "source": []
  },
  {
   "cell_type": "code",
   "execution_count": null,
   "id": "131e87ee-e6c4-4ce8-b03e-606faf3918e7",
   "metadata": {},
   "outputs": [],
   "source": []
  },
  {
   "cell_type": "code",
   "execution_count": null,
   "id": "5e47ccf1-cda8-425d-a333-5bffb205e7c0",
   "metadata": {},
   "outputs": [],
   "source": []
  },
  {
   "cell_type": "code",
   "execution_count": null,
   "id": "edc3dacc-bf62-463b-abc5-4aeb3ac728c2",
   "metadata": {},
   "outputs": [],
   "source": []
  },
  {
   "cell_type": "code",
   "execution_count": null,
   "id": "f81e34c4-a676-499b-92b9-530834141994",
   "metadata": {},
   "outputs": [],
   "source": []
  },
  {
   "cell_type": "code",
   "execution_count": null,
   "id": "126be378-0c1e-4a4e-9b7b-533f7b9e56f9",
   "metadata": {},
   "outputs": [],
   "source": []
  },
  {
   "cell_type": "code",
   "execution_count": null,
   "id": "96c5dd28-3c1f-426b-94e0-c1b11b612a3e",
   "metadata": {},
   "outputs": [],
   "source": []
  },
  {
   "cell_type": "code",
   "execution_count": null,
   "id": "3b989b2f-baa6-43f7-81ef-e2802815b402",
   "metadata": {},
   "outputs": [],
   "source": []
  },
  {
   "cell_type": "code",
   "execution_count": null,
   "id": "1b421853-7ca8-4249-91bc-5e9941aec70c",
   "metadata": {},
   "outputs": [],
   "source": []
  },
  {
   "cell_type": "code",
   "execution_count": null,
   "id": "01a5d879-0149-405f-a4d5-b2f120c8daca",
   "metadata": {},
   "outputs": [],
   "source": []
  },
  {
   "cell_type": "code",
   "execution_count": null,
   "id": "a827a35a-0e8c-471e-8ba8-67ad9d5a9803",
   "metadata": {},
   "outputs": [],
   "source": []
  },
  {
   "cell_type": "code",
   "execution_count": null,
   "id": "2443b9d6-75eb-40bf-81df-4f07d0708eb8",
   "metadata": {},
   "outputs": [],
   "source": []
  },
  {
   "cell_type": "code",
   "execution_count": null,
   "id": "e6a99802-33b1-4d66-9aca-ab6f4543101c",
   "metadata": {},
   "outputs": [],
   "source": []
  },
  {
   "cell_type": "code",
   "execution_count": null,
   "id": "13911309-0b94-4e88-bd7e-4b395b84ee17",
   "metadata": {},
   "outputs": [],
   "source": []
  },
  {
   "cell_type": "code",
   "execution_count": null,
   "id": "30a586b8-a010-4960-892d-363d8538deef",
   "metadata": {},
   "outputs": [],
   "source": []
  },
  {
   "cell_type": "code",
   "execution_count": null,
   "id": "a26f4964-4d4e-4d89-b260-056e26e54b51",
   "metadata": {},
   "outputs": [],
   "source": []
  },
  {
   "cell_type": "code",
   "execution_count": null,
   "id": "707db3d1-ea7e-4f8c-9431-04e742377e46",
   "metadata": {},
   "outputs": [],
   "source": []
  }
 ],
 "metadata": {
  "kernelspec": {
   "display_name": "Python 3 (ipykernel)",
   "language": "python",
   "name": "python3"
  },
  "language_info": {
   "codemirror_mode": {
    "name": "ipython",
    "version": 3
   },
   "file_extension": ".py",
   "mimetype": "text/x-python",
   "name": "python",
   "nbconvert_exporter": "python",
   "pygments_lexer": "ipython3",
   "version": "3.11.7"
  }
 },
 "nbformat": 4,
 "nbformat_minor": 5
}
