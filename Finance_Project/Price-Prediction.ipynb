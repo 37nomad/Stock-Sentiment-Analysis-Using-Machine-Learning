{
 "cells": [
  {
   "cell_type": "code",
   "execution_count": 133,
   "id": "1a63bfd8-9135-40bc-a6b2-149281a0f3ed",
   "metadata": {},
   "outputs": [],
   "source": [
    "import pandas as pd\n",
    "import numpy as np"
   ]
  },
  {
   "cell_type": "code",
   "execution_count": 134,
   "id": "427e48e8-f71e-4b90-8f51-3e015beee0ab",
   "metadata": {},
   "outputs": [],
   "source": [
    "df4=pd.read_csv(r\"C:\\Users\\Jaya Teja\\Stock_Sentiment_Analysis_Using_Machine_Learning_Open_Project\\Finance_Project\\df4.csv\")"
   ]
  },
  {
   "cell_type": "code",
   "execution_count": 135,
   "id": "ff114f21-337a-4359-98cf-9a9a4592b75a",
   "metadata": {},
   "outputs": [],
   "source": [
    "df4=df4.drop(\"Unnamed: 0\",axis=1)"
   ]
  },
  {
   "cell_type": "code",
   "execution_count": 136,
   "id": "6e7f339d-00b7-49f1-ab6b-ac4a446b5a1e",
   "metadata": {},
   "outputs": [
    {
     "data": {
      "text/html": [
       "<div>\n",
       "<style scoped>\n",
       "    .dataframe tbody tr th:only-of-type {\n",
       "        vertical-align: middle;\n",
       "    }\n",
       "\n",
       "    .dataframe tbody tr th {\n",
       "        vertical-align: top;\n",
       "    }\n",
       "\n",
       "    .dataframe thead th {\n",
       "        text-align: right;\n",
       "    }\n",
       "</style>\n",
       "<table border=\"1\" class=\"dataframe\">\n",
       "  <thead>\n",
       "    <tr style=\"text-align: right;\">\n",
       "      <th></th>\n",
       "      <th>Date</th>\n",
       "      <th>Open</th>\n",
       "      <th>High</th>\n",
       "      <th>Low</th>\n",
       "      <th>Close</th>\n",
       "      <th>Adj Close</th>\n",
       "      <th>Volume</th>\n",
       "      <th>Label</th>\n",
       "      <th>Company</th>\n",
       "      <th>clean_title</th>\n",
       "    </tr>\n",
       "  </thead>\n",
       "  <tbody>\n",
       "    <tr>\n",
       "      <th>0</th>\n",
       "      <td>2022-01-03</td>\n",
       "      <td>177.830002</td>\n",
       "      <td>182.880005</td>\n",
       "      <td>177.710007</td>\n",
       "      <td>182.009995</td>\n",
       "      <td>179.481140</td>\n",
       "      <td>104487900.0</td>\n",
       "      <td>1</td>\n",
       "      <td>1.0</td>\n",
       "      <td>strong apple 2022 product line could look like...</td>\n",
       "    </tr>\n",
       "    <tr>\n",
       "      <th>1</th>\n",
       "      <td>2022-01-03</td>\n",
       "      <td>382.583344</td>\n",
       "      <td>400.356659</td>\n",
       "      <td>378.679993</td>\n",
       "      <td>399.926666</td>\n",
       "      <td>399.926666</td>\n",
       "      <td>103931400.0</td>\n",
       "      <td>1</td>\n",
       "      <td>3.0</td>\n",
       "      <td>lg energy solution start taking order could so...</td>\n",
       "    </tr>\n",
       "    <tr>\n",
       "      <th>2</th>\n",
       "      <td>2022-01-03</td>\n",
       "      <td>167.550003</td>\n",
       "      <td>170.703506</td>\n",
       "      <td>166.160507</td>\n",
       "      <td>170.404495</td>\n",
       "      <td>170.404495</td>\n",
       "      <td>63520000.0</td>\n",
       "      <td>1</td>\n",
       "      <td>2.0</td>\n",
       "      <td>updating 2021 call suggesting strategic positi...</td>\n",
       "    </tr>\n",
       "    <tr>\n",
       "      <th>3</th>\n",
       "      <td>2022-01-04</td>\n",
       "      <td>182.630005</td>\n",
       "      <td>182.940002</td>\n",
       "      <td>179.119995</td>\n",
       "      <td>179.699997</td>\n",
       "      <td>177.203217</td>\n",
       "      <td>99310400.0</td>\n",
       "      <td>0</td>\n",
       "      <td>1.0</td>\n",
       "      <td>3 trillion beginning apple apple car come prep...</td>\n",
       "    </tr>\n",
       "    <tr>\n",
       "      <th>4</th>\n",
       "      <td>2022-01-04</td>\n",
       "      <td>396.516663</td>\n",
       "      <td>402.666656</td>\n",
       "      <td>374.350006</td>\n",
       "      <td>383.196655</td>\n",
       "      <td>383.196655</td>\n",
       "      <td>100248300.0</td>\n",
       "      <td>0</td>\n",
       "      <td>3.0</td>\n",
       "      <td>tesla open showroom xinjiang chinese region as...</td>\n",
       "    </tr>\n",
       "  </tbody>\n",
       "</table>\n",
       "</div>"
      ],
      "text/plain": [
       "         Date        Open        High         Low       Close   Adj Close  \\\n",
       "0  2022-01-03  177.830002  182.880005  177.710007  182.009995  179.481140   \n",
       "1  2022-01-03  382.583344  400.356659  378.679993  399.926666  399.926666   \n",
       "2  2022-01-03  167.550003  170.703506  166.160507  170.404495  170.404495   \n",
       "3  2022-01-04  182.630005  182.940002  179.119995  179.699997  177.203217   \n",
       "4  2022-01-04  396.516663  402.666656  374.350006  383.196655  383.196655   \n",
       "\n",
       "        Volume  Label  Company  \\\n",
       "0  104487900.0      1      1.0   \n",
       "1  103931400.0      1      3.0   \n",
       "2   63520000.0      1      2.0   \n",
       "3   99310400.0      0      1.0   \n",
       "4  100248300.0      0      3.0   \n",
       "\n",
       "                                         clean_title  \n",
       "0  strong apple 2022 product line could look like...  \n",
       "1  lg energy solution start taking order could so...  \n",
       "2  updating 2021 call suggesting strategic positi...  \n",
       "3  3 trillion beginning apple apple car come prep...  \n",
       "4  tesla open showroom xinjiang chinese region as...  "
      ]
     },
     "execution_count": 136,
     "metadata": {},
     "output_type": "execute_result"
    }
   ],
   "source": [
    "df4.head()"
   ]
  },
  {
   "cell_type": "code",
   "execution_count": 137,
   "id": "8f724e3d-d45f-410b-add6-0300382e7a8a",
   "metadata": {},
   "outputs": [
    {
     "name": "stdout",
     "output_type": "stream",
     "text": [
      "<class 'pandas.core.frame.DataFrame'>\n",
      "RangeIndex: 1746 entries, 0 to 1745\n",
      "Data columns (total 10 columns):\n",
      " #   Column       Non-Null Count  Dtype  \n",
      "---  ------       --------------  -----  \n",
      " 0   Date         1746 non-null   object \n",
      " 1   Open         1746 non-null   float64\n",
      " 2   High         1746 non-null   float64\n",
      " 3   Low          1746 non-null   float64\n",
      " 4   Close        1746 non-null   float64\n",
      " 5   Adj Close    1746 non-null   float64\n",
      " 6   Volume       1746 non-null   float64\n",
      " 7   Label        1746 non-null   int64  \n",
      " 8   Company      1746 non-null   float64\n",
      " 9   clean_title  1746 non-null   object \n",
      "dtypes: float64(7), int64(1), object(2)\n",
      "memory usage: 136.5+ KB\n"
     ]
    }
   ],
   "source": [
    "df4.info()"
   ]
  },
  {
   "cell_type": "code",
   "execution_count": 138,
   "id": "4f68942c-d58a-4a1e-8591-0702c06c44e0",
   "metadata": {},
   "outputs": [],
   "source": [
    "df4['Date'] = pd.to_datetime(df4['Date'])"
   ]
  },
  {
   "cell_type": "code",
   "execution_count": 139,
   "id": "430838e5-03a8-466e-aa79-c57b1de0d2d0",
   "metadata": {},
   "outputs": [],
   "source": [
    "df4['year'] = df4['Date'].dt.year\n",
    "df4['month'] = df4['Date'].dt.month\n",
    "df4['day'] = df4['Date'].dt.day\n",
    "df4['dayofweek'] = df4['Date'].dt.dayofweek  # Monday=0, Sunday=6\n",
    "df4['dayofyear'] = df4['Date'].dt.dayofyear\n",
    "df4['is_month_start'] = df4['Date'].dt.is_month_start.astype(int)\n",
    "df4['is_month_end'] = df4['Date'].dt.is_month_end.astype(int)"
   ]
  },
  {
   "cell_type": "code",
   "execution_count": 140,
   "id": "b68e8c74-1874-420a-915d-731d29d5a015",
   "metadata": {},
   "outputs": [
    {
     "name": "stdout",
     "output_type": "stream",
     "text": [
      "<class 'pandas.core.frame.DataFrame'>\n",
      "RangeIndex: 1746 entries, 0 to 1745\n",
      "Data columns (total 17 columns):\n",
      " #   Column          Non-Null Count  Dtype         \n",
      "---  ------          --------------  -----         \n",
      " 0   Date            1746 non-null   datetime64[ns]\n",
      " 1   Open            1746 non-null   float64       \n",
      " 2   High            1746 non-null   float64       \n",
      " 3   Low             1746 non-null   float64       \n",
      " 4   Close           1746 non-null   float64       \n",
      " 5   Adj Close       1746 non-null   float64       \n",
      " 6   Volume          1746 non-null   float64       \n",
      " 7   Label           1746 non-null   int64         \n",
      " 8   Company         1746 non-null   float64       \n",
      " 9   clean_title     1746 non-null   object        \n",
      " 10  year            1746 non-null   int64         \n",
      " 11  month           1746 non-null   int64         \n",
      " 12  day             1746 non-null   int64         \n",
      " 13  dayofweek       1746 non-null   int64         \n",
      " 14  dayofyear       1746 non-null   int64         \n",
      " 15  is_month_start  1746 non-null   int32         \n",
      " 16  is_month_end    1746 non-null   int32         \n",
      "dtypes: datetime64[ns](1), float64(7), int32(2), int64(6), object(1)\n",
      "memory usage: 218.4+ KB\n"
     ]
    }
   ],
   "source": [
    "df4.info()"
   ]
  },
  {
   "cell_type": "code",
   "execution_count": null,
   "id": "0da291b0-1633-46de-a348-539cc53bc3d8",
   "metadata": {},
   "outputs": [],
   "source": []
  },
  {
   "cell_type": "code",
   "execution_count": null,
   "id": "e8429df6-0b28-47bf-b5b7-ff3b4a3b5346",
   "metadata": {},
   "outputs": [],
   "source": []
  },
  {
   "cell_type": "markdown",
   "id": "c2857835-8c50-4011-abd0-6ecc9020f660",
   "metadata": {},
   "source": [
    "## Modle on Sentimen Intensity Analyser"
   ]
  },
  {
   "cell_type": "code",
   "execution_count": 141,
   "id": "d9a7e72a-2155-49fc-9518-d7ccde80ed74",
   "metadata": {},
   "outputs": [],
   "source": [
    "sentiment_scores=pd.read_pickle(\"sentiment_scores.pkl\")"
   ]
  },
  {
   "cell_type": "code",
   "execution_count": 142,
   "id": "6cc3eba1-5aed-4e82-9238-e6cfc04a7e40",
   "metadata": {},
   "outputs": [],
   "source": [
    "neg_sentiment=sentiment_scores.apply(lambda x: x['neg'])\n",
    "neg_sentiment.name='neg'\n",
    "neu_sentiment=sentiment_scores.apply(lambda x: x['neu'])\n",
    "neu_sentiment.name='neu'\n",
    "pos_sentiment=sentiment_scores.apply(lambda x:x['pos'])\n",
    "pos_sentiment.name='pos'\n",
    "comp_sentiment=sentiment_scores.apply(lambda x: x['compound'])\n",
    "comp_sentiment.name='comp'"
   ]
  },
  {
   "cell_type": "code",
   "execution_count": 143,
   "id": "80cf0236-5530-46b6-a004-ee0a5a7779c7",
   "metadata": {},
   "outputs": [
    {
     "data": {
      "text/plain": [
       "0       0.022\n",
       "1       0.055\n",
       "2       0.048\n",
       "3       0.018\n",
       "4       0.056\n",
       "        ...  \n",
       "1741    0.050\n",
       "1742    0.034\n",
       "1743    0.063\n",
       "1744    0.077\n",
       "1745    0.097\n",
       "Name: neg, Length: 1746, dtype: float64"
      ]
     },
     "execution_count": 143,
     "metadata": {},
     "output_type": "execute_result"
    }
   ],
   "source": [
    "neg_sentiment"
   ]
  },
  {
   "cell_type": "code",
   "execution_count": 144,
   "id": "0e21f340-beef-4f48-8a42-53c85a603a53",
   "metadata": {},
   "outputs": [],
   "source": [
    "req_col=[\"Open\",\"High\",\"Low\",\"Close\",\"Volume\",\"year\",\"month\",\"day\",\"dayofweek\",\"dayofyear\",\"is_month_start\",\"is_month_end\"]\n",
    "final_df=pd.concat([df4[req_col],neg_sentiment,neu_sentiment,pos_sentiment,comp_sentiment],axis=1)\n"
   ]
  },
  {
   "cell_type": "code",
   "execution_count": 145,
   "id": "56b31620-76e4-49d9-b5bb-051676ed24ef",
   "metadata": {},
   "outputs": [
    {
     "data": {
      "text/html": [
       "<div>\n",
       "<style scoped>\n",
       "    .dataframe tbody tr th:only-of-type {\n",
       "        vertical-align: middle;\n",
       "    }\n",
       "\n",
       "    .dataframe tbody tr th {\n",
       "        vertical-align: top;\n",
       "    }\n",
       "\n",
       "    .dataframe thead th {\n",
       "        text-align: right;\n",
       "    }\n",
       "</style>\n",
       "<table border=\"1\" class=\"dataframe\">\n",
       "  <thead>\n",
       "    <tr style=\"text-align: right;\">\n",
       "      <th></th>\n",
       "      <th>Open</th>\n",
       "      <th>High</th>\n",
       "      <th>Low</th>\n",
       "      <th>Close</th>\n",
       "      <th>Volume</th>\n",
       "      <th>year</th>\n",
       "      <th>month</th>\n",
       "      <th>day</th>\n",
       "      <th>dayofweek</th>\n",
       "      <th>dayofyear</th>\n",
       "      <th>is_month_start</th>\n",
       "      <th>is_month_end</th>\n",
       "      <th>neg</th>\n",
       "      <th>neu</th>\n",
       "      <th>pos</th>\n",
       "      <th>comp</th>\n",
       "    </tr>\n",
       "  </thead>\n",
       "  <tbody>\n",
       "    <tr>\n",
       "      <th>0</th>\n",
       "      <td>177.830002</td>\n",
       "      <td>182.880005</td>\n",
       "      <td>177.710007</td>\n",
       "      <td>182.009995</td>\n",
       "      <td>104487900.0</td>\n",
       "      <td>2022</td>\n",
       "      <td>1</td>\n",
       "      <td>3</td>\n",
       "      <td>0</td>\n",
       "      <td>3</td>\n",
       "      <td>0</td>\n",
       "      <td>0</td>\n",
       "      <td>0.022</td>\n",
       "      <td>0.781</td>\n",
       "      <td>0.197</td>\n",
       "      <td>0.9941</td>\n",
       "    </tr>\n",
       "    <tr>\n",
       "      <th>1</th>\n",
       "      <td>382.583344</td>\n",
       "      <td>400.356659</td>\n",
       "      <td>378.679993</td>\n",
       "      <td>399.926666</td>\n",
       "      <td>103931400.0</td>\n",
       "      <td>2022</td>\n",
       "      <td>1</td>\n",
       "      <td>3</td>\n",
       "      <td>0</td>\n",
       "      <td>3</td>\n",
       "      <td>0</td>\n",
       "      <td>0</td>\n",
       "      <td>0.055</td>\n",
       "      <td>0.813</td>\n",
       "      <td>0.132</td>\n",
       "      <td>0.9900</td>\n",
       "    </tr>\n",
       "    <tr>\n",
       "      <th>2</th>\n",
       "      <td>167.550003</td>\n",
       "      <td>170.703506</td>\n",
       "      <td>166.160507</td>\n",
       "      <td>170.404495</td>\n",
       "      <td>63520000.0</td>\n",
       "      <td>2022</td>\n",
       "      <td>1</td>\n",
       "      <td>3</td>\n",
       "      <td>0</td>\n",
       "      <td>3</td>\n",
       "      <td>0</td>\n",
       "      <td>0</td>\n",
       "      <td>0.048</td>\n",
       "      <td>0.698</td>\n",
       "      <td>0.254</td>\n",
       "      <td>0.9904</td>\n",
       "    </tr>\n",
       "    <tr>\n",
       "      <th>3</th>\n",
       "      <td>182.630005</td>\n",
       "      <td>182.940002</td>\n",
       "      <td>179.119995</td>\n",
       "      <td>179.699997</td>\n",
       "      <td>99310400.0</td>\n",
       "      <td>2022</td>\n",
       "      <td>1</td>\n",
       "      <td>4</td>\n",
       "      <td>1</td>\n",
       "      <td>4</td>\n",
       "      <td>0</td>\n",
       "      <td>0</td>\n",
       "      <td>0.018</td>\n",
       "      <td>0.818</td>\n",
       "      <td>0.165</td>\n",
       "      <td>0.9849</td>\n",
       "    </tr>\n",
       "    <tr>\n",
       "      <th>4</th>\n",
       "      <td>396.516663</td>\n",
       "      <td>402.666656</td>\n",
       "      <td>374.350006</td>\n",
       "      <td>383.196655</td>\n",
       "      <td>100248300.0</td>\n",
       "      <td>2022</td>\n",
       "      <td>1</td>\n",
       "      <td>4</td>\n",
       "      <td>1</td>\n",
       "      <td>4</td>\n",
       "      <td>0</td>\n",
       "      <td>0</td>\n",
       "      <td>0.056</td>\n",
       "      <td>0.784</td>\n",
       "      <td>0.160</td>\n",
       "      <td>0.9821</td>\n",
       "    </tr>\n",
       "    <tr>\n",
       "      <th>...</th>\n",
       "      <td>...</td>\n",
       "      <td>...</td>\n",
       "      <td>...</td>\n",
       "      <td>...</td>\n",
       "      <td>...</td>\n",
       "      <td>...</td>\n",
       "      <td>...</td>\n",
       "      <td>...</td>\n",
       "      <td>...</td>\n",
       "      <td>...</td>\n",
       "      <td>...</td>\n",
       "      <td>...</td>\n",
       "      <td>...</td>\n",
       "      <td>...</td>\n",
       "      <td>...</td>\n",
       "      <td>...</td>\n",
       "    </tr>\n",
       "    <tr>\n",
       "      <th>1741</th>\n",
       "      <td>169.529999</td>\n",
       "      <td>170.610001</td>\n",
       "      <td>168.149994</td>\n",
       "      <td>169.889999</td>\n",
       "      <td>50558300.0</td>\n",
       "      <td>2024</td>\n",
       "      <td>4</td>\n",
       "      <td>25</td>\n",
       "      <td>3</td>\n",
       "      <td>116</td>\n",
       "      <td>0</td>\n",
       "      <td>0</td>\n",
       "      <td>0.050</td>\n",
       "      <td>0.747</td>\n",
       "      <td>0.203</td>\n",
       "      <td>0.9468</td>\n",
       "    </tr>\n",
       "    <tr>\n",
       "      <th>1742</th>\n",
       "      <td>169.679993</td>\n",
       "      <td>173.919998</td>\n",
       "      <td>166.320007</td>\n",
       "      <td>173.669998</td>\n",
       "      <td>49249400.0</td>\n",
       "      <td>2024</td>\n",
       "      <td>4</td>\n",
       "      <td>25</td>\n",
       "      <td>3</td>\n",
       "      <td>116</td>\n",
       "      <td>0</td>\n",
       "      <td>0</td>\n",
       "      <td>0.034</td>\n",
       "      <td>0.684</td>\n",
       "      <td>0.282</td>\n",
       "      <td>0.9897</td>\n",
       "    </tr>\n",
       "    <tr>\n",
       "      <th>1743</th>\n",
       "      <td>177.800003</td>\n",
       "      <td>180.820007</td>\n",
       "      <td>176.130005</td>\n",
       "      <td>179.619995</td>\n",
       "      <td>43919800.0</td>\n",
       "      <td>2024</td>\n",
       "      <td>4</td>\n",
       "      <td>26</td>\n",
       "      <td>4</td>\n",
       "      <td>117</td>\n",
       "      <td>0</td>\n",
       "      <td>0</td>\n",
       "      <td>0.063</td>\n",
       "      <td>0.720</td>\n",
       "      <td>0.217</td>\n",
       "      <td>0.9762</td>\n",
       "    </tr>\n",
       "    <tr>\n",
       "      <th>1744</th>\n",
       "      <td>169.880005</td>\n",
       "      <td>171.339996</td>\n",
       "      <td>169.179993</td>\n",
       "      <td>169.300003</td>\n",
       "      <td>44838400.0</td>\n",
       "      <td>2024</td>\n",
       "      <td>4</td>\n",
       "      <td>26</td>\n",
       "      <td>4</td>\n",
       "      <td>117</td>\n",
       "      <td>0</td>\n",
       "      <td>0</td>\n",
       "      <td>0.077</td>\n",
       "      <td>0.793</td>\n",
       "      <td>0.130</td>\n",
       "      <td>0.5733</td>\n",
       "    </tr>\n",
       "    <tr>\n",
       "      <th>1745</th>\n",
       "      <td>168.850006</td>\n",
       "      <td>172.119995</td>\n",
       "      <td>166.369995</td>\n",
       "      <td>168.289993</td>\n",
       "      <td>109815700.0</td>\n",
       "      <td>2024</td>\n",
       "      <td>4</td>\n",
       "      <td>26</td>\n",
       "      <td>4</td>\n",
       "      <td>117</td>\n",
       "      <td>0</td>\n",
       "      <td>0</td>\n",
       "      <td>0.097</td>\n",
       "      <td>0.783</td>\n",
       "      <td>0.119</td>\n",
       "      <td>0.3103</td>\n",
       "    </tr>\n",
       "  </tbody>\n",
       "</table>\n",
       "<p>1746 rows × 16 columns</p>\n",
       "</div>"
      ],
      "text/plain": [
       "            Open        High         Low       Close       Volume  year  \\\n",
       "0     177.830002  182.880005  177.710007  182.009995  104487900.0  2022   \n",
       "1     382.583344  400.356659  378.679993  399.926666  103931400.0  2022   \n",
       "2     167.550003  170.703506  166.160507  170.404495   63520000.0  2022   \n",
       "3     182.630005  182.940002  179.119995  179.699997   99310400.0  2022   \n",
       "4     396.516663  402.666656  374.350006  383.196655  100248300.0  2022   \n",
       "...          ...         ...         ...         ...          ...   ...   \n",
       "1741  169.529999  170.610001  168.149994  169.889999   50558300.0  2024   \n",
       "1742  169.679993  173.919998  166.320007  173.669998   49249400.0  2024   \n",
       "1743  177.800003  180.820007  176.130005  179.619995   43919800.0  2024   \n",
       "1744  169.880005  171.339996  169.179993  169.300003   44838400.0  2024   \n",
       "1745  168.850006  172.119995  166.369995  168.289993  109815700.0  2024   \n",
       "\n",
       "      month  day  dayofweek  dayofyear  is_month_start  is_month_end    neg  \\\n",
       "0         1    3          0          3               0             0  0.022   \n",
       "1         1    3          0          3               0             0  0.055   \n",
       "2         1    3          0          3               0             0  0.048   \n",
       "3         1    4          1          4               0             0  0.018   \n",
       "4         1    4          1          4               0             0  0.056   \n",
       "...     ...  ...        ...        ...             ...           ...    ...   \n",
       "1741      4   25          3        116               0             0  0.050   \n",
       "1742      4   25          3        116               0             0  0.034   \n",
       "1743      4   26          4        117               0             0  0.063   \n",
       "1744      4   26          4        117               0             0  0.077   \n",
       "1745      4   26          4        117               0             0  0.097   \n",
       "\n",
       "        neu    pos    comp  \n",
       "0     0.781  0.197  0.9941  \n",
       "1     0.813  0.132  0.9900  \n",
       "2     0.698  0.254  0.9904  \n",
       "3     0.818  0.165  0.9849  \n",
       "4     0.784  0.160  0.9821  \n",
       "...     ...    ...     ...  \n",
       "1741  0.747  0.203  0.9468  \n",
       "1742  0.684  0.282  0.9897  \n",
       "1743  0.720  0.217  0.9762  \n",
       "1744  0.793  0.130  0.5733  \n",
       "1745  0.783  0.119  0.3103  \n",
       "\n",
       "[1746 rows x 16 columns]"
      ]
     },
     "execution_count": 145,
     "metadata": {},
     "output_type": "execute_result"
    }
   ],
   "source": [
    "final_df"
   ]
  },
  {
   "cell_type": "code",
   "execution_count": 146,
   "id": "bce161b3-83b5-48af-b6be-18b45cf5235b",
   "metadata": {},
   "outputs": [],
   "source": [
    "test_size=51"
   ]
  },
  {
   "cell_type": "code",
   "execution_count": 147,
   "id": "ccee00bf-1c37-4182-9445-85a077bd3994",
   "metadata": {},
   "outputs": [],
   "source": [
    "final_y=final_df[\"Close\"]"
   ]
  },
  {
   "cell_type": "code",
   "execution_count": 148,
   "id": "071d8cc4-5a1d-4573-a8ca-c68006bf9fe9",
   "metadata": {},
   "outputs": [
    {
     "data": {
      "text/plain": [
       "0       182.009995\n",
       "1       399.926666\n",
       "2       170.404495\n",
       "3       179.699997\n",
       "4       383.196655\n",
       "           ...    \n",
       "1741    169.889999\n",
       "1742    173.669998\n",
       "1743    179.619995\n",
       "1744    169.300003\n",
       "1745    168.289993\n",
       "Name: Close, Length: 1746, dtype: float64"
      ]
     },
     "execution_count": 148,
     "metadata": {},
     "output_type": "execute_result"
    }
   ],
   "source": [
    "final_y"
   ]
  },
  {
   "cell_type": "code",
   "execution_count": 149,
   "id": "7de09b95-230f-4797-a16b-d74ada6cba37",
   "metadata": {},
   "outputs": [],
   "source": [
    "final_df=final_df.drop(\"Close\",axis=1)"
   ]
  },
  {
   "cell_type": "code",
   "execution_count": 150,
   "id": "08d1f40b-eaef-4021-a38c-d48d69eaef79",
   "metadata": {},
   "outputs": [],
   "source": [
    "X_test=final_df[-test_size:]\n",
    "y_test=final_y[-test_size:]"
   ]
  },
  {
   "cell_type": "code",
   "execution_count": 151,
   "id": "28d795d6-60d1-4f5c-a2ff-684f6baa38e2",
   "metadata": {},
   "outputs": [
    {
     "data": {
      "text/html": [
       "<div>\n",
       "<style scoped>\n",
       "    .dataframe tbody tr th:only-of-type {\n",
       "        vertical-align: middle;\n",
       "    }\n",
       "\n",
       "    .dataframe tbody tr th {\n",
       "        vertical-align: top;\n",
       "    }\n",
       "\n",
       "    .dataframe thead th {\n",
       "        text-align: right;\n",
       "    }\n",
       "</style>\n",
       "<table border=\"1\" class=\"dataframe\">\n",
       "  <thead>\n",
       "    <tr style=\"text-align: right;\">\n",
       "      <th></th>\n",
       "      <th>Open</th>\n",
       "      <th>High</th>\n",
       "      <th>Low</th>\n",
       "      <th>Volume</th>\n",
       "      <th>year</th>\n",
       "      <th>month</th>\n",
       "      <th>day</th>\n",
       "      <th>dayofweek</th>\n",
       "      <th>dayofyear</th>\n",
       "      <th>is_month_start</th>\n",
       "      <th>is_month_end</th>\n",
       "      <th>neg</th>\n",
       "      <th>neu</th>\n",
       "      <th>pos</th>\n",
       "      <th>comp</th>\n",
       "      <th>Close</th>\n",
       "    </tr>\n",
       "  </thead>\n",
       "  <tbody>\n",
       "    <tr>\n",
       "      <th>0</th>\n",
       "      <td>177.830002</td>\n",
       "      <td>182.880005</td>\n",
       "      <td>177.710007</td>\n",
       "      <td>104487900.0</td>\n",
       "      <td>2022</td>\n",
       "      <td>1</td>\n",
       "      <td>3</td>\n",
       "      <td>0</td>\n",
       "      <td>3</td>\n",
       "      <td>0</td>\n",
       "      <td>0</td>\n",
       "      <td>0.022</td>\n",
       "      <td>0.781</td>\n",
       "      <td>0.197</td>\n",
       "      <td>0.9941</td>\n",
       "      <td>182.009995</td>\n",
       "    </tr>\n",
       "    <tr>\n",
       "      <th>1</th>\n",
       "      <td>382.583344</td>\n",
       "      <td>400.356659</td>\n",
       "      <td>378.679993</td>\n",
       "      <td>103931400.0</td>\n",
       "      <td>2022</td>\n",
       "      <td>1</td>\n",
       "      <td>3</td>\n",
       "      <td>0</td>\n",
       "      <td>3</td>\n",
       "      <td>0</td>\n",
       "      <td>0</td>\n",
       "      <td>0.055</td>\n",
       "      <td>0.813</td>\n",
       "      <td>0.132</td>\n",
       "      <td>0.9900</td>\n",
       "      <td>399.926666</td>\n",
       "    </tr>\n",
       "    <tr>\n",
       "      <th>2</th>\n",
       "      <td>167.550003</td>\n",
       "      <td>170.703506</td>\n",
       "      <td>166.160507</td>\n",
       "      <td>63520000.0</td>\n",
       "      <td>2022</td>\n",
       "      <td>1</td>\n",
       "      <td>3</td>\n",
       "      <td>0</td>\n",
       "      <td>3</td>\n",
       "      <td>0</td>\n",
       "      <td>0</td>\n",
       "      <td>0.048</td>\n",
       "      <td>0.698</td>\n",
       "      <td>0.254</td>\n",
       "      <td>0.9904</td>\n",
       "      <td>170.404495</td>\n",
       "    </tr>\n",
       "    <tr>\n",
       "      <th>3</th>\n",
       "      <td>182.630005</td>\n",
       "      <td>182.940002</td>\n",
       "      <td>179.119995</td>\n",
       "      <td>99310400.0</td>\n",
       "      <td>2022</td>\n",
       "      <td>1</td>\n",
       "      <td>4</td>\n",
       "      <td>1</td>\n",
       "      <td>4</td>\n",
       "      <td>0</td>\n",
       "      <td>0</td>\n",
       "      <td>0.018</td>\n",
       "      <td>0.818</td>\n",
       "      <td>0.165</td>\n",
       "      <td>0.9849</td>\n",
       "      <td>179.699997</td>\n",
       "    </tr>\n",
       "    <tr>\n",
       "      <th>4</th>\n",
       "      <td>396.516663</td>\n",
       "      <td>402.666656</td>\n",
       "      <td>374.350006</td>\n",
       "      <td>100248300.0</td>\n",
       "      <td>2022</td>\n",
       "      <td>1</td>\n",
       "      <td>4</td>\n",
       "      <td>1</td>\n",
       "      <td>4</td>\n",
       "      <td>0</td>\n",
       "      <td>0</td>\n",
       "      <td>0.056</td>\n",
       "      <td>0.784</td>\n",
       "      <td>0.160</td>\n",
       "      <td>0.9821</td>\n",
       "      <td>383.196655</td>\n",
       "    </tr>\n",
       "    <tr>\n",
       "      <th>...</th>\n",
       "      <td>...</td>\n",
       "      <td>...</td>\n",
       "      <td>...</td>\n",
       "      <td>...</td>\n",
       "      <td>...</td>\n",
       "      <td>...</td>\n",
       "      <td>...</td>\n",
       "      <td>...</td>\n",
       "      <td>...</td>\n",
       "      <td>...</td>\n",
       "      <td>...</td>\n",
       "      <td>...</td>\n",
       "      <td>...</td>\n",
       "      <td>...</td>\n",
       "      <td>...</td>\n",
       "      <td>...</td>\n",
       "    </tr>\n",
       "    <tr>\n",
       "      <th>1690</th>\n",
       "      <td>169.080002</td>\n",
       "      <td>169.339996</td>\n",
       "      <td>168.229996</td>\n",
       "      <td>49329500.0</td>\n",
       "      <td>2024</td>\n",
       "      <td>4</td>\n",
       "      <td>2</td>\n",
       "      <td>1</td>\n",
       "      <td>93</td>\n",
       "      <td>0</td>\n",
       "      <td>0</td>\n",
       "      <td>0.094</td>\n",
       "      <td>0.765</td>\n",
       "      <td>0.142</td>\n",
       "      <td>0.6908</td>\n",
       "      <td>168.839996</td>\n",
       "    </tr>\n",
       "    <tr>\n",
       "      <th>1691</th>\n",
       "      <td>179.070007</td>\n",
       "      <td>180.789993</td>\n",
       "      <td>178.380005</td>\n",
       "      <td>32611500.0</td>\n",
       "      <td>2024</td>\n",
       "      <td>4</td>\n",
       "      <td>2</td>\n",
       "      <td>1</td>\n",
       "      <td>93</td>\n",
       "      <td>0</td>\n",
       "      <td>0</td>\n",
       "      <td>0.053</td>\n",
       "      <td>0.719</td>\n",
       "      <td>0.228</td>\n",
       "      <td>0.9819</td>\n",
       "      <td>180.690002</td>\n",
       "    </tr>\n",
       "    <tr>\n",
       "      <th>1692</th>\n",
       "      <td>164.020004</td>\n",
       "      <td>168.820007</td>\n",
       "      <td>163.279999</td>\n",
       "      <td>82950100.0</td>\n",
       "      <td>2024</td>\n",
       "      <td>4</td>\n",
       "      <td>3</td>\n",
       "      <td>2</td>\n",
       "      <td>94</td>\n",
       "      <td>0</td>\n",
       "      <td>0</td>\n",
       "      <td>0.197</td>\n",
       "      <td>0.717</td>\n",
       "      <td>0.086</td>\n",
       "      <td>-0.9538</td>\n",
       "      <td>168.380005</td>\n",
       "    </tr>\n",
       "    <tr>\n",
       "      <th>1693</th>\n",
       "      <td>179.899994</td>\n",
       "      <td>182.869995</td>\n",
       "      <td>179.800003</td>\n",
       "      <td>31046600.0</td>\n",
       "      <td>2024</td>\n",
       "      <td>4</td>\n",
       "      <td>3</td>\n",
       "      <td>2</td>\n",
       "      <td>94</td>\n",
       "      <td>0</td>\n",
       "      <td>0</td>\n",
       "      <td>0.050</td>\n",
       "      <td>0.556</td>\n",
       "      <td>0.394</td>\n",
       "      <td>0.9974</td>\n",
       "      <td>182.410004</td>\n",
       "    </tr>\n",
       "    <tr>\n",
       "      <th>1694</th>\n",
       "      <td>168.789993</td>\n",
       "      <td>170.679993</td>\n",
       "      <td>168.580002</td>\n",
       "      <td>47691700.0</td>\n",
       "      <td>2024</td>\n",
       "      <td>4</td>\n",
       "      <td>3</td>\n",
       "      <td>2</td>\n",
       "      <td>94</td>\n",
       "      <td>0</td>\n",
       "      <td>0</td>\n",
       "      <td>0.080</td>\n",
       "      <td>0.692</td>\n",
       "      <td>0.228</td>\n",
       "      <td>0.8779</td>\n",
       "      <td>169.649994</td>\n",
       "    </tr>\n",
       "  </tbody>\n",
       "</table>\n",
       "<p>1695 rows × 16 columns</p>\n",
       "</div>"
      ],
      "text/plain": [
       "            Open        High         Low       Volume  year  month  day  \\\n",
       "0     177.830002  182.880005  177.710007  104487900.0  2022      1    3   \n",
       "1     382.583344  400.356659  378.679993  103931400.0  2022      1    3   \n",
       "2     167.550003  170.703506  166.160507   63520000.0  2022      1    3   \n",
       "3     182.630005  182.940002  179.119995   99310400.0  2022      1    4   \n",
       "4     396.516663  402.666656  374.350006  100248300.0  2022      1    4   \n",
       "...          ...         ...         ...          ...   ...    ...  ...   \n",
       "1690  169.080002  169.339996  168.229996   49329500.0  2024      4    2   \n",
       "1691  179.070007  180.789993  178.380005   32611500.0  2024      4    2   \n",
       "1692  164.020004  168.820007  163.279999   82950100.0  2024      4    3   \n",
       "1693  179.899994  182.869995  179.800003   31046600.0  2024      4    3   \n",
       "1694  168.789993  170.679993  168.580002   47691700.0  2024      4    3   \n",
       "\n",
       "      dayofweek  dayofyear  is_month_start  is_month_end    neg    neu    pos  \\\n",
       "0             0          3               0             0  0.022  0.781  0.197   \n",
       "1             0          3               0             0  0.055  0.813  0.132   \n",
       "2             0          3               0             0  0.048  0.698  0.254   \n",
       "3             1          4               0             0  0.018  0.818  0.165   \n",
       "4             1          4               0             0  0.056  0.784  0.160   \n",
       "...         ...        ...             ...           ...    ...    ...    ...   \n",
       "1690          1         93               0             0  0.094  0.765  0.142   \n",
       "1691          1         93               0             0  0.053  0.719  0.228   \n",
       "1692          2         94               0             0  0.197  0.717  0.086   \n",
       "1693          2         94               0             0  0.050  0.556  0.394   \n",
       "1694          2         94               0             0  0.080  0.692  0.228   \n",
       "\n",
       "        comp       Close  \n",
       "0     0.9941  182.009995  \n",
       "1     0.9900  399.926666  \n",
       "2     0.9904  170.404495  \n",
       "3     0.9849  179.699997  \n",
       "4     0.9821  383.196655  \n",
       "...      ...         ...  \n",
       "1690  0.6908  168.839996  \n",
       "1691  0.9819  180.690002  \n",
       "1692 -0.9538  168.380005  \n",
       "1693  0.9974  182.410004  \n",
       "1694  0.8779  169.649994  \n",
       "\n",
       "[1695 rows x 16 columns]"
      ]
     },
     "execution_count": 151,
     "metadata": {},
     "output_type": "execute_result"
    }
   ],
   "source": [
    "comb_train=pd.concat([final_df.iloc[:-test_size,:],final_y[:-test_size]],axis=1)\n",
    "comb_train"
   ]
  },
  {
   "cell_type": "code",
   "execution_count": 152,
   "id": "d65b8e63-1b1e-498f-a5ae-a4c4da9c6e81",
   "metadata": {},
   "outputs": [
    {
     "data": {
      "text/html": [
       "<div>\n",
       "<style scoped>\n",
       "    .dataframe tbody tr th:only-of-type {\n",
       "        vertical-align: middle;\n",
       "    }\n",
       "\n",
       "    .dataframe tbody tr th {\n",
       "        vertical-align: top;\n",
       "    }\n",
       "\n",
       "    .dataframe thead th {\n",
       "        text-align: right;\n",
       "    }\n",
       "</style>\n",
       "<table border=\"1\" class=\"dataframe\">\n",
       "  <thead>\n",
       "    <tr style=\"text-align: right;\">\n",
       "      <th></th>\n",
       "      <th>Open</th>\n",
       "      <th>High</th>\n",
       "      <th>Low</th>\n",
       "      <th>Volume</th>\n",
       "      <th>year</th>\n",
       "      <th>month</th>\n",
       "      <th>day</th>\n",
       "      <th>dayofweek</th>\n",
       "      <th>dayofyear</th>\n",
       "      <th>is_month_start</th>\n",
       "      <th>is_month_end</th>\n",
       "      <th>neg</th>\n",
       "      <th>neu</th>\n",
       "      <th>pos</th>\n",
       "      <th>comp</th>\n",
       "      <th>Close</th>\n",
       "    </tr>\n",
       "  </thead>\n",
       "  <tbody>\n",
       "    <tr>\n",
       "      <th>931</th>\n",
       "      <td>193.130005</td>\n",
       "      <td>195.289993</td>\n",
       "      <td>189.440002</td>\n",
       "      <td>123660000.0</td>\n",
       "      <td>2023</td>\n",
       "      <td>3</td>\n",
       "      <td>29</td>\n",
       "      <td>2</td>\n",
       "      <td>88</td>\n",
       "      <td>0</td>\n",
       "      <td>0</td>\n",
       "      <td>0.133</td>\n",
       "      <td>0.682</td>\n",
       "      <td>0.185</td>\n",
       "      <td>0.8020</td>\n",
       "      <td>193.880005</td>\n",
       "    </tr>\n",
       "    <tr>\n",
       "      <th>1398</th>\n",
       "      <td>142.020004</td>\n",
       "      <td>142.649994</td>\n",
       "      <td>139.839996</td>\n",
       "      <td>36235400.0</td>\n",
       "      <td>2023</td>\n",
       "      <td>11</td>\n",
       "      <td>9</td>\n",
       "      <td>3</td>\n",
       "      <td>313</td>\n",
       "      <td>0</td>\n",
       "      <td>0</td>\n",
       "      <td>0.075</td>\n",
       "      <td>0.680</td>\n",
       "      <td>0.244</td>\n",
       "      <td>0.9488</td>\n",
       "      <td>140.600006</td>\n",
       "    </tr>\n",
       "    <tr>\n",
       "      <th>1561</th>\n",
       "      <td>160.699997</td>\n",
       "      <td>161.729996</td>\n",
       "      <td>158.490005</td>\n",
       "      <td>45207400.0</td>\n",
       "      <td>2024</td>\n",
       "      <td>1</td>\n",
       "      <td>30</td>\n",
       "      <td>1</td>\n",
       "      <td>30</td>\n",
       "      <td>0</td>\n",
       "      <td>0</td>\n",
       "      <td>0.126</td>\n",
       "      <td>0.648</td>\n",
       "      <td>0.226</td>\n",
       "      <td>0.9827</td>\n",
       "      <td>159.000000</td>\n",
       "    </tr>\n",
       "    <tr>\n",
       "      <th>1006</th>\n",
       "      <td>104.040001</td>\n",
       "      <td>105.389999</td>\n",
       "      <td>103.309998</td>\n",
       "      <td>45345500.0</td>\n",
       "      <td>2023</td>\n",
       "      <td>5</td>\n",
       "      <td>4</td>\n",
       "      <td>3</td>\n",
       "      <td>124</td>\n",
       "      <td>0</td>\n",
       "      <td>0</td>\n",
       "      <td>0.055</td>\n",
       "      <td>0.661</td>\n",
       "      <td>0.285</td>\n",
       "      <td>0.9910</td>\n",
       "      <td>104.000000</td>\n",
       "    </tr>\n",
       "    <tr>\n",
       "      <th>506</th>\n",
       "      <td>129.500000</td>\n",
       "      <td>131.380005</td>\n",
       "      <td>126.389999</td>\n",
       "      <td>57429800.0</td>\n",
       "      <td>2022</td>\n",
       "      <td>9</td>\n",
       "      <td>2</td>\n",
       "      <td>4</td>\n",
       "      <td>245</td>\n",
       "      <td>0</td>\n",
       "      <td>0</td>\n",
       "      <td>0.097</td>\n",
       "      <td>0.694</td>\n",
       "      <td>0.209</td>\n",
       "      <td>0.8360</td>\n",
       "      <td>127.510002</td>\n",
       "    </tr>\n",
       "    <tr>\n",
       "      <th>...</th>\n",
       "      <td>...</td>\n",
       "      <td>...</td>\n",
       "      <td>...</td>\n",
       "      <td>...</td>\n",
       "      <td>...</td>\n",
       "      <td>...</td>\n",
       "      <td>...</td>\n",
       "      <td>...</td>\n",
       "      <td>...</td>\n",
       "      <td>...</td>\n",
       "      <td>...</td>\n",
       "      <td>...</td>\n",
       "      <td>...</td>\n",
       "      <td>...</td>\n",
       "      <td>...</td>\n",
       "      <td>...</td>\n",
       "    </tr>\n",
       "    <tr>\n",
       "      <th>1130</th>\n",
       "      <td>130.240005</td>\n",
       "      <td>131.399994</td>\n",
       "      <td>129.639999</td>\n",
       "      <td>35895400.0</td>\n",
       "      <td>2023</td>\n",
       "      <td>7</td>\n",
       "      <td>5</td>\n",
       "      <td>2</td>\n",
       "      <td>186</td>\n",
       "      <td>0</td>\n",
       "      <td>0</td>\n",
       "      <td>0.073</td>\n",
       "      <td>0.729</td>\n",
       "      <td>0.198</td>\n",
       "      <td>0.9698</td>\n",
       "      <td>130.380005</td>\n",
       "    </tr>\n",
       "    <tr>\n",
       "      <th>1294</th>\n",
       "      <td>174.550003</td>\n",
       "      <td>176.300003</td>\n",
       "      <td>173.860001</td>\n",
       "      <td>63047900.0</td>\n",
       "      <td>2023</td>\n",
       "      <td>9</td>\n",
       "      <td>21</td>\n",
       "      <td>3</td>\n",
       "      <td>264</td>\n",
       "      <td>0</td>\n",
       "      <td>0</td>\n",
       "      <td>0.032</td>\n",
       "      <td>0.941</td>\n",
       "      <td>0.027</td>\n",
       "      <td>-0.1280</td>\n",
       "      <td>173.929993</td>\n",
       "    </tr>\n",
       "    <tr>\n",
       "      <th>860</th>\n",
       "      <td>150.089996</td>\n",
       "      <td>150.339996</td>\n",
       "      <td>147.240005</td>\n",
       "      <td>48394200.0</td>\n",
       "      <td>2023</td>\n",
       "      <td>2</td>\n",
       "      <td>23</td>\n",
       "      <td>3</td>\n",
       "      <td>54</td>\n",
       "      <td>0</td>\n",
       "      <td>0</td>\n",
       "      <td>0.071</td>\n",
       "      <td>0.744</td>\n",
       "      <td>0.185</td>\n",
       "      <td>0.9607</td>\n",
       "      <td>149.399994</td>\n",
       "    </tr>\n",
       "    <tr>\n",
       "      <th>1459</th>\n",
       "      <td>194.199997</td>\n",
       "      <td>195.990005</td>\n",
       "      <td>193.669998</td>\n",
       "      <td>53377300.0</td>\n",
       "      <td>2023</td>\n",
       "      <td>12</td>\n",
       "      <td>8</td>\n",
       "      <td>4</td>\n",
       "      <td>342</td>\n",
       "      <td>0</td>\n",
       "      <td>0</td>\n",
       "      <td>0.110</td>\n",
       "      <td>0.741</td>\n",
       "      <td>0.149</td>\n",
       "      <td>0.8272</td>\n",
       "      <td>195.710007</td>\n",
       "    </tr>\n",
       "    <tr>\n",
       "      <th>1126</th>\n",
       "      <td>130.820007</td>\n",
       "      <td>131.850006</td>\n",
       "      <td>130.070007</td>\n",
       "      <td>28264800.0</td>\n",
       "      <td>2023</td>\n",
       "      <td>7</td>\n",
       "      <td>3</td>\n",
       "      <td>0</td>\n",
       "      <td>184</td>\n",
       "      <td>0</td>\n",
       "      <td>0</td>\n",
       "      <td>0.000</td>\n",
       "      <td>0.737</td>\n",
       "      <td>0.263</td>\n",
       "      <td>0.9910</td>\n",
       "      <td>130.220001</td>\n",
       "    </tr>\n",
       "  </tbody>\n",
       "</table>\n",
       "<p>1695 rows × 16 columns</p>\n",
       "</div>"
      ],
      "text/plain": [
       "            Open        High         Low       Volume  year  month  day  \\\n",
       "931   193.130005  195.289993  189.440002  123660000.0  2023      3   29   \n",
       "1398  142.020004  142.649994  139.839996   36235400.0  2023     11    9   \n",
       "1561  160.699997  161.729996  158.490005   45207400.0  2024      1   30   \n",
       "1006  104.040001  105.389999  103.309998   45345500.0  2023      5    4   \n",
       "506   129.500000  131.380005  126.389999   57429800.0  2022      9    2   \n",
       "...          ...         ...         ...          ...   ...    ...  ...   \n",
       "1130  130.240005  131.399994  129.639999   35895400.0  2023      7    5   \n",
       "1294  174.550003  176.300003  173.860001   63047900.0  2023      9   21   \n",
       "860   150.089996  150.339996  147.240005   48394200.0  2023      2   23   \n",
       "1459  194.199997  195.990005  193.669998   53377300.0  2023     12    8   \n",
       "1126  130.820007  131.850006  130.070007   28264800.0  2023      7    3   \n",
       "\n",
       "      dayofweek  dayofyear  is_month_start  is_month_end    neg    neu    pos  \\\n",
       "931           2         88               0             0  0.133  0.682  0.185   \n",
       "1398          3        313               0             0  0.075  0.680  0.244   \n",
       "1561          1         30               0             0  0.126  0.648  0.226   \n",
       "1006          3        124               0             0  0.055  0.661  0.285   \n",
       "506           4        245               0             0  0.097  0.694  0.209   \n",
       "...         ...        ...             ...           ...    ...    ...    ...   \n",
       "1130          2        186               0             0  0.073  0.729  0.198   \n",
       "1294          3        264               0             0  0.032  0.941  0.027   \n",
       "860           3         54               0             0  0.071  0.744  0.185   \n",
       "1459          4        342               0             0  0.110  0.741  0.149   \n",
       "1126          0        184               0             0  0.000  0.737  0.263   \n",
       "\n",
       "        comp       Close  \n",
       "931   0.8020  193.880005  \n",
       "1398  0.9488  140.600006  \n",
       "1561  0.9827  159.000000  \n",
       "1006  0.9910  104.000000  \n",
       "506   0.8360  127.510002  \n",
       "...      ...         ...  \n",
       "1130  0.9698  130.380005  \n",
       "1294 -0.1280  173.929993  \n",
       "860   0.9607  149.399994  \n",
       "1459  0.8272  195.710007  \n",
       "1126  0.9910  130.220001  \n",
       "\n",
       "[1695 rows x 16 columns]"
      ]
     },
     "execution_count": 152,
     "metadata": {},
     "output_type": "execute_result"
    }
   ],
   "source": [
    "shuffled_df = comb_train.sample(frac=1, random_state=42)\n",
    "shuffled_df"
   ]
  },
  {
   "cell_type": "code",
   "execution_count": 153,
   "id": "a5302c49-aeb6-491e-ae1c-6d5d64b4efac",
   "metadata": {},
   "outputs": [],
   "source": [
    "X_train=shuffled_df.drop(\"Close\",axis=1)\n",
    "y_train=shuffled_df[\"Close\"]"
   ]
  },
  {
   "cell_type": "code",
   "execution_count": 154,
   "id": "28fdbd81-487d-4879-a9c8-e5fa91073557",
   "metadata": {},
   "outputs": [
    {
     "data": {
      "text/html": [
       "<div>\n",
       "<style scoped>\n",
       "    .dataframe tbody tr th:only-of-type {\n",
       "        vertical-align: middle;\n",
       "    }\n",
       "\n",
       "    .dataframe tbody tr th {\n",
       "        vertical-align: top;\n",
       "    }\n",
       "\n",
       "    .dataframe thead th {\n",
       "        text-align: right;\n",
       "    }\n",
       "</style>\n",
       "<table border=\"1\" class=\"dataframe\">\n",
       "  <thead>\n",
       "    <tr style=\"text-align: right;\">\n",
       "      <th></th>\n",
       "      <th>Open</th>\n",
       "      <th>High</th>\n",
       "      <th>Low</th>\n",
       "      <th>Volume</th>\n",
       "      <th>year</th>\n",
       "      <th>month</th>\n",
       "      <th>day</th>\n",
       "      <th>dayofweek</th>\n",
       "      <th>dayofyear</th>\n",
       "      <th>is_month_start</th>\n",
       "      <th>is_month_end</th>\n",
       "      <th>neg</th>\n",
       "      <th>neu</th>\n",
       "      <th>pos</th>\n",
       "      <th>comp</th>\n",
       "    </tr>\n",
       "  </thead>\n",
       "  <tbody>\n",
       "    <tr>\n",
       "      <th>931</th>\n",
       "      <td>193.130005</td>\n",
       "      <td>195.289993</td>\n",
       "      <td>189.440002</td>\n",
       "      <td>123660000.0</td>\n",
       "      <td>2023</td>\n",
       "      <td>3</td>\n",
       "      <td>29</td>\n",
       "      <td>2</td>\n",
       "      <td>88</td>\n",
       "      <td>0</td>\n",
       "      <td>0</td>\n",
       "      <td>0.133</td>\n",
       "      <td>0.682</td>\n",
       "      <td>0.185</td>\n",
       "      <td>0.8020</td>\n",
       "    </tr>\n",
       "    <tr>\n",
       "      <th>1398</th>\n",
       "      <td>142.020004</td>\n",
       "      <td>142.649994</td>\n",
       "      <td>139.839996</td>\n",
       "      <td>36235400.0</td>\n",
       "      <td>2023</td>\n",
       "      <td>11</td>\n",
       "      <td>9</td>\n",
       "      <td>3</td>\n",
       "      <td>313</td>\n",
       "      <td>0</td>\n",
       "      <td>0</td>\n",
       "      <td>0.075</td>\n",
       "      <td>0.680</td>\n",
       "      <td>0.244</td>\n",
       "      <td>0.9488</td>\n",
       "    </tr>\n",
       "    <tr>\n",
       "      <th>1561</th>\n",
       "      <td>160.699997</td>\n",
       "      <td>161.729996</td>\n",
       "      <td>158.490005</td>\n",
       "      <td>45207400.0</td>\n",
       "      <td>2024</td>\n",
       "      <td>1</td>\n",
       "      <td>30</td>\n",
       "      <td>1</td>\n",
       "      <td>30</td>\n",
       "      <td>0</td>\n",
       "      <td>0</td>\n",
       "      <td>0.126</td>\n",
       "      <td>0.648</td>\n",
       "      <td>0.226</td>\n",
       "      <td>0.9827</td>\n",
       "    </tr>\n",
       "    <tr>\n",
       "      <th>1006</th>\n",
       "      <td>104.040001</td>\n",
       "      <td>105.389999</td>\n",
       "      <td>103.309998</td>\n",
       "      <td>45345500.0</td>\n",
       "      <td>2023</td>\n",
       "      <td>5</td>\n",
       "      <td>4</td>\n",
       "      <td>3</td>\n",
       "      <td>124</td>\n",
       "      <td>0</td>\n",
       "      <td>0</td>\n",
       "      <td>0.055</td>\n",
       "      <td>0.661</td>\n",
       "      <td>0.285</td>\n",
       "      <td>0.9910</td>\n",
       "    </tr>\n",
       "    <tr>\n",
       "      <th>506</th>\n",
       "      <td>129.500000</td>\n",
       "      <td>131.380005</td>\n",
       "      <td>126.389999</td>\n",
       "      <td>57429800.0</td>\n",
       "      <td>2022</td>\n",
       "      <td>9</td>\n",
       "      <td>2</td>\n",
       "      <td>4</td>\n",
       "      <td>245</td>\n",
       "      <td>0</td>\n",
       "      <td>0</td>\n",
       "      <td>0.097</td>\n",
       "      <td>0.694</td>\n",
       "      <td>0.209</td>\n",
       "      <td>0.8360</td>\n",
       "    </tr>\n",
       "    <tr>\n",
       "      <th>...</th>\n",
       "      <td>...</td>\n",
       "      <td>...</td>\n",
       "      <td>...</td>\n",
       "      <td>...</td>\n",
       "      <td>...</td>\n",
       "      <td>...</td>\n",
       "      <td>...</td>\n",
       "      <td>...</td>\n",
       "      <td>...</td>\n",
       "      <td>...</td>\n",
       "      <td>...</td>\n",
       "      <td>...</td>\n",
       "      <td>...</td>\n",
       "      <td>...</td>\n",
       "      <td>...</td>\n",
       "    </tr>\n",
       "    <tr>\n",
       "      <th>1130</th>\n",
       "      <td>130.240005</td>\n",
       "      <td>131.399994</td>\n",
       "      <td>129.639999</td>\n",
       "      <td>35895400.0</td>\n",
       "      <td>2023</td>\n",
       "      <td>7</td>\n",
       "      <td>5</td>\n",
       "      <td>2</td>\n",
       "      <td>186</td>\n",
       "      <td>0</td>\n",
       "      <td>0</td>\n",
       "      <td>0.073</td>\n",
       "      <td>0.729</td>\n",
       "      <td>0.198</td>\n",
       "      <td>0.9698</td>\n",
       "    </tr>\n",
       "    <tr>\n",
       "      <th>1294</th>\n",
       "      <td>174.550003</td>\n",
       "      <td>176.300003</td>\n",
       "      <td>173.860001</td>\n",
       "      <td>63047900.0</td>\n",
       "      <td>2023</td>\n",
       "      <td>9</td>\n",
       "      <td>21</td>\n",
       "      <td>3</td>\n",
       "      <td>264</td>\n",
       "      <td>0</td>\n",
       "      <td>0</td>\n",
       "      <td>0.032</td>\n",
       "      <td>0.941</td>\n",
       "      <td>0.027</td>\n",
       "      <td>-0.1280</td>\n",
       "    </tr>\n",
       "    <tr>\n",
       "      <th>860</th>\n",
       "      <td>150.089996</td>\n",
       "      <td>150.339996</td>\n",
       "      <td>147.240005</td>\n",
       "      <td>48394200.0</td>\n",
       "      <td>2023</td>\n",
       "      <td>2</td>\n",
       "      <td>23</td>\n",
       "      <td>3</td>\n",
       "      <td>54</td>\n",
       "      <td>0</td>\n",
       "      <td>0</td>\n",
       "      <td>0.071</td>\n",
       "      <td>0.744</td>\n",
       "      <td>0.185</td>\n",
       "      <td>0.9607</td>\n",
       "    </tr>\n",
       "    <tr>\n",
       "      <th>1459</th>\n",
       "      <td>194.199997</td>\n",
       "      <td>195.990005</td>\n",
       "      <td>193.669998</td>\n",
       "      <td>53377300.0</td>\n",
       "      <td>2023</td>\n",
       "      <td>12</td>\n",
       "      <td>8</td>\n",
       "      <td>4</td>\n",
       "      <td>342</td>\n",
       "      <td>0</td>\n",
       "      <td>0</td>\n",
       "      <td>0.110</td>\n",
       "      <td>0.741</td>\n",
       "      <td>0.149</td>\n",
       "      <td>0.8272</td>\n",
       "    </tr>\n",
       "    <tr>\n",
       "      <th>1126</th>\n",
       "      <td>130.820007</td>\n",
       "      <td>131.850006</td>\n",
       "      <td>130.070007</td>\n",
       "      <td>28264800.0</td>\n",
       "      <td>2023</td>\n",
       "      <td>7</td>\n",
       "      <td>3</td>\n",
       "      <td>0</td>\n",
       "      <td>184</td>\n",
       "      <td>0</td>\n",
       "      <td>0</td>\n",
       "      <td>0.000</td>\n",
       "      <td>0.737</td>\n",
       "      <td>0.263</td>\n",
       "      <td>0.9910</td>\n",
       "    </tr>\n",
       "  </tbody>\n",
       "</table>\n",
       "<p>1695 rows × 15 columns</p>\n",
       "</div>"
      ],
      "text/plain": [
       "            Open        High         Low       Volume  year  month  day  \\\n",
       "931   193.130005  195.289993  189.440002  123660000.0  2023      3   29   \n",
       "1398  142.020004  142.649994  139.839996   36235400.0  2023     11    9   \n",
       "1561  160.699997  161.729996  158.490005   45207400.0  2024      1   30   \n",
       "1006  104.040001  105.389999  103.309998   45345500.0  2023      5    4   \n",
       "506   129.500000  131.380005  126.389999   57429800.0  2022      9    2   \n",
       "...          ...         ...         ...          ...   ...    ...  ...   \n",
       "1130  130.240005  131.399994  129.639999   35895400.0  2023      7    5   \n",
       "1294  174.550003  176.300003  173.860001   63047900.0  2023      9   21   \n",
       "860   150.089996  150.339996  147.240005   48394200.0  2023      2   23   \n",
       "1459  194.199997  195.990005  193.669998   53377300.0  2023     12    8   \n",
       "1126  130.820007  131.850006  130.070007   28264800.0  2023      7    3   \n",
       "\n",
       "      dayofweek  dayofyear  is_month_start  is_month_end    neg    neu    pos  \\\n",
       "931           2         88               0             0  0.133  0.682  0.185   \n",
       "1398          3        313               0             0  0.075  0.680  0.244   \n",
       "1561          1         30               0             0  0.126  0.648  0.226   \n",
       "1006          3        124               0             0  0.055  0.661  0.285   \n",
       "506           4        245               0             0  0.097  0.694  0.209   \n",
       "...         ...        ...             ...           ...    ...    ...    ...   \n",
       "1130          2        186               0             0  0.073  0.729  0.198   \n",
       "1294          3        264               0             0  0.032  0.941  0.027   \n",
       "860           3         54               0             0  0.071  0.744  0.185   \n",
       "1459          4        342               0             0  0.110  0.741  0.149   \n",
       "1126          0        184               0             0  0.000  0.737  0.263   \n",
       "\n",
       "        comp  \n",
       "931   0.8020  \n",
       "1398  0.9488  \n",
       "1561  0.9827  \n",
       "1006  0.9910  \n",
       "506   0.8360  \n",
       "...      ...  \n",
       "1130  0.9698  \n",
       "1294 -0.1280  \n",
       "860   0.9607  \n",
       "1459  0.8272  \n",
       "1126  0.9910  \n",
       "\n",
       "[1695 rows x 15 columns]"
      ]
     },
     "execution_count": 154,
     "metadata": {},
     "output_type": "execute_result"
    }
   ],
   "source": [
    "X_train"
   ]
  },
  {
   "cell_type": "code",
   "execution_count": 155,
   "id": "d55e9512-6fed-49ab-917d-0c9998325eb1",
   "metadata": {},
   "outputs": [],
   "source": [
    "# SVM Linear"
   ]
  },
  {
   "cell_type": "code",
   "execution_count": 156,
   "id": "b1ccf4d4-dd19-4cd3-9e23-38cc99ead76d",
   "metadata": {},
   "outputs": [],
   "source": [
    "from sklearn.svm import SVR"
   ]
  },
  {
   "cell_type": "code",
   "execution_count": 157,
   "id": "99bc63e2-ff16-4b5c-9e84-48441d028616",
   "metadata": {},
   "outputs": [],
   "source": [
    "# 4:55 start"
   ]
  },
  {
   "cell_type": "code",
   "execution_count": 158,
   "id": "4edede7a-eb04-443f-8f89-88e2351fc1f9",
   "metadata": {},
   "outputs": [],
   "source": [
    "from sklearn.preprocessing import StandardScaler\n",
    "scaler = StandardScaler()"
   ]
  },
  {
   "cell_type": "code",
   "execution_count": 159,
   "id": "5ec4c3bd-a710-4390-bcec-8ba2842d54fa",
   "metadata": {},
   "outputs": [],
   "source": [
    "X_train=scaler.fit_transform(X_train)\n",
    "X_test=scaler.transform(X_test)"
   ]
  },
  {
   "cell_type": "code",
   "execution_count": 160,
   "id": "f83c7280-05cb-4ec8-93d8-a02227163227",
   "metadata": {},
   "outputs": [
    {
     "data": {
      "text/html": [
       "<style>#sk-container-id-10 {color: black;background-color: white;}#sk-container-id-10 pre{padding: 0;}#sk-container-id-10 div.sk-toggleable {background-color: white;}#sk-container-id-10 label.sk-toggleable__label {cursor: pointer;display: block;width: 100%;margin-bottom: 0;padding: 0.3em;box-sizing: border-box;text-align: center;}#sk-container-id-10 label.sk-toggleable__label-arrow:before {content: \"▸\";float: left;margin-right: 0.25em;color: #696969;}#sk-container-id-10 label.sk-toggleable__label-arrow:hover:before {color: black;}#sk-container-id-10 div.sk-estimator:hover label.sk-toggleable__label-arrow:before {color: black;}#sk-container-id-10 div.sk-toggleable__content {max-height: 0;max-width: 0;overflow: hidden;text-align: left;background-color: #f0f8ff;}#sk-container-id-10 div.sk-toggleable__content pre {margin: 0.2em;color: black;border-radius: 0.25em;background-color: #f0f8ff;}#sk-container-id-10 input.sk-toggleable__control:checked~div.sk-toggleable__content {max-height: 200px;max-width: 100%;overflow: auto;}#sk-container-id-10 input.sk-toggleable__control:checked~label.sk-toggleable__label-arrow:before {content: \"▾\";}#sk-container-id-10 div.sk-estimator input.sk-toggleable__control:checked~label.sk-toggleable__label {background-color: #d4ebff;}#sk-container-id-10 div.sk-label input.sk-toggleable__control:checked~label.sk-toggleable__label {background-color: #d4ebff;}#sk-container-id-10 input.sk-hidden--visually {border: 0;clip: rect(1px 1px 1px 1px);clip: rect(1px, 1px, 1px, 1px);height: 1px;margin: -1px;overflow: hidden;padding: 0;position: absolute;width: 1px;}#sk-container-id-10 div.sk-estimator {font-family: monospace;background-color: #f0f8ff;border: 1px dotted black;border-radius: 0.25em;box-sizing: border-box;margin-bottom: 0.5em;}#sk-container-id-10 div.sk-estimator:hover {background-color: #d4ebff;}#sk-container-id-10 div.sk-parallel-item::after {content: \"\";width: 100%;border-bottom: 1px solid gray;flex-grow: 1;}#sk-container-id-10 div.sk-label:hover label.sk-toggleable__label {background-color: #d4ebff;}#sk-container-id-10 div.sk-serial::before {content: \"\";position: absolute;border-left: 1px solid gray;box-sizing: border-box;top: 0;bottom: 0;left: 50%;z-index: 0;}#sk-container-id-10 div.sk-serial {display: flex;flex-direction: column;align-items: center;background-color: white;padding-right: 0.2em;padding-left: 0.2em;position: relative;}#sk-container-id-10 div.sk-item {position: relative;z-index: 1;}#sk-container-id-10 div.sk-parallel {display: flex;align-items: stretch;justify-content: center;background-color: white;position: relative;}#sk-container-id-10 div.sk-item::before, #sk-container-id-10 div.sk-parallel-item::before {content: \"\";position: absolute;border-left: 1px solid gray;box-sizing: border-box;top: 0;bottom: 0;left: 50%;z-index: -1;}#sk-container-id-10 div.sk-parallel-item {display: flex;flex-direction: column;z-index: 1;position: relative;background-color: white;}#sk-container-id-10 div.sk-parallel-item:first-child::after {align-self: flex-end;width: 50%;}#sk-container-id-10 div.sk-parallel-item:last-child::after {align-self: flex-start;width: 50%;}#sk-container-id-10 div.sk-parallel-item:only-child::after {width: 0;}#sk-container-id-10 div.sk-dashed-wrapped {border: 1px dashed gray;margin: 0 0.4em 0.5em 0.4em;box-sizing: border-box;padding-bottom: 0.4em;background-color: white;}#sk-container-id-10 div.sk-label label {font-family: monospace;font-weight: bold;display: inline-block;line-height: 1.2em;}#sk-container-id-10 div.sk-label-container {text-align: center;}#sk-container-id-10 div.sk-container {/* jupyter's `normalize.less` sets `[hidden] { display: none; }` but bootstrap.min.css set `[hidden] { display: none !important; }` so we also need the `!important` here to be able to override the default hidden behavior on the sphinx rendered scikit-learn.org. See: https://github.com/scikit-learn/scikit-learn/issues/21755 */display: inline-block !important;position: relative;}#sk-container-id-10 div.sk-text-repr-fallback {display: none;}</style><div id=\"sk-container-id-10\" class=\"sk-top-container\"><div class=\"sk-text-repr-fallback\"><pre>SVR(C=1, kernel=&#x27;linear&#x27;)</pre><b>In a Jupyter environment, please rerun this cell to show the HTML representation or trust the notebook. <br />On GitHub, the HTML representation is unable to render, please try loading this page with nbviewer.org.</b></div><div class=\"sk-container\" hidden><div class=\"sk-item\"><div class=\"sk-estimator sk-toggleable\"><input class=\"sk-toggleable__control sk-hidden--visually\" id=\"sk-estimator-id-10\" type=\"checkbox\" checked><label for=\"sk-estimator-id-10\" class=\"sk-toggleable__label sk-toggleable__label-arrow\">SVR</label><div class=\"sk-toggleable__content\"><pre>SVR(C=1, kernel=&#x27;linear&#x27;)</pre></div></div></div></div></div>"
      ],
      "text/plain": [
       "SVR(C=1, kernel='linear')"
      ]
     },
     "execution_count": 160,
     "metadata": {},
     "output_type": "execute_result"
    }
   ],
   "source": [
    "svm_reg = SVR(kernel='linear', C=1, gamma='scale')\n",
    "svm_reg.fit(X_train, y_train)"
   ]
  },
  {
   "cell_type": "code",
   "execution_count": 161,
   "id": "71c7e739-cff5-48ad-a411-94ad750eb753",
   "metadata": {},
   "outputs": [],
   "source": [
    "y_pred = svm_reg.predict(X_test)"
   ]
  },
  {
   "cell_type": "code",
   "execution_count": 162,
   "id": "e43677d8-24b3-48d2-8e95-9f0e1697d716",
   "metadata": {},
   "outputs": [],
   "source": [
    "from sklearn.metrics import mean_squared_error, r2_score"
   ]
  },
  {
   "cell_type": "code",
   "execution_count": 163,
   "id": "ca30d23b-b503-403f-8706-843c607e0c10",
   "metadata": {},
   "outputs": [
    {
     "data": {
      "text/plain": [
       "2.807917724528105"
      ]
     },
     "execution_count": 163,
     "metadata": {},
     "output_type": "execute_result"
    }
   ],
   "source": [
    "mean_squared_error(y_test, y_pred)"
   ]
  },
  {
   "cell_type": "code",
   "execution_count": 164,
   "id": "3704e614-69c8-4fc1-84d2-114ba84c25b1",
   "metadata": {},
   "outputs": [
    {
     "data": {
      "text/plain": [
       "0.9745865731101075"
      ]
     },
     "execution_count": 164,
     "metadata": {},
     "output_type": "execute_result"
    }
   ],
   "source": [
    "r2_score(y_test, y_pred)"
   ]
  },
  {
   "cell_type": "code",
   "execution_count": 165,
   "id": "fdb14ba7-84e8-4239-b00e-639177966a5c",
   "metadata": {},
   "outputs": [],
   "source": [
    "yyy=svm_reg.predict(X_train)"
   ]
  },
  {
   "cell_type": "code",
   "execution_count": 166,
   "id": "a3f88a23-d6ce-41ef-a66d-ad7f34e1c6fc",
   "metadata": {},
   "outputs": [
    {
     "data": {
      "text/plain": [
       "7.1044583410629425"
      ]
     },
     "execution_count": 166,
     "metadata": {},
     "output_type": "execute_result"
    }
   ],
   "source": [
    "mean_squared_error(y_train, yyy)"
   ]
  },
  {
   "cell_type": "code",
   "execution_count": 167,
   "id": "9424fa58-c66a-49df-8c70-08a03608e82f",
   "metadata": {},
   "outputs": [
    {
     "data": {
      "text/plain": [
       "0.9978144427945507"
      ]
     },
     "execution_count": 167,
     "metadata": {},
     "output_type": "execute_result"
    }
   ],
   "source": [
    "r2_score(y_train, yyy)"
   ]
  },
  {
   "cell_type": "code",
   "execution_count": 168,
   "id": "dbea3c80-57e0-4d9e-a539-1bc3e5d97765",
   "metadata": {},
   "outputs": [],
   "source": [
    "# SVM RBF"
   ]
  },
  {
   "cell_type": "code",
   "execution_count": 169,
   "id": "e1450ab4-7a3b-48f1-9e86-d27d05b4984c",
   "metadata": {},
   "outputs": [
    {
     "data": {
      "text/html": [
       "<style>#sk-container-id-11 {color: black;background-color: white;}#sk-container-id-11 pre{padding: 0;}#sk-container-id-11 div.sk-toggleable {background-color: white;}#sk-container-id-11 label.sk-toggleable__label {cursor: pointer;display: block;width: 100%;margin-bottom: 0;padding: 0.3em;box-sizing: border-box;text-align: center;}#sk-container-id-11 label.sk-toggleable__label-arrow:before {content: \"▸\";float: left;margin-right: 0.25em;color: #696969;}#sk-container-id-11 label.sk-toggleable__label-arrow:hover:before {color: black;}#sk-container-id-11 div.sk-estimator:hover label.sk-toggleable__label-arrow:before {color: black;}#sk-container-id-11 div.sk-toggleable__content {max-height: 0;max-width: 0;overflow: hidden;text-align: left;background-color: #f0f8ff;}#sk-container-id-11 div.sk-toggleable__content pre {margin: 0.2em;color: black;border-radius: 0.25em;background-color: #f0f8ff;}#sk-container-id-11 input.sk-toggleable__control:checked~div.sk-toggleable__content {max-height: 200px;max-width: 100%;overflow: auto;}#sk-container-id-11 input.sk-toggleable__control:checked~label.sk-toggleable__label-arrow:before {content: \"▾\";}#sk-container-id-11 div.sk-estimator input.sk-toggleable__control:checked~label.sk-toggleable__label {background-color: #d4ebff;}#sk-container-id-11 div.sk-label input.sk-toggleable__control:checked~label.sk-toggleable__label {background-color: #d4ebff;}#sk-container-id-11 input.sk-hidden--visually {border: 0;clip: rect(1px 1px 1px 1px);clip: rect(1px, 1px, 1px, 1px);height: 1px;margin: -1px;overflow: hidden;padding: 0;position: absolute;width: 1px;}#sk-container-id-11 div.sk-estimator {font-family: monospace;background-color: #f0f8ff;border: 1px dotted black;border-radius: 0.25em;box-sizing: border-box;margin-bottom: 0.5em;}#sk-container-id-11 div.sk-estimator:hover {background-color: #d4ebff;}#sk-container-id-11 div.sk-parallel-item::after {content: \"\";width: 100%;border-bottom: 1px solid gray;flex-grow: 1;}#sk-container-id-11 div.sk-label:hover label.sk-toggleable__label {background-color: #d4ebff;}#sk-container-id-11 div.sk-serial::before {content: \"\";position: absolute;border-left: 1px solid gray;box-sizing: border-box;top: 0;bottom: 0;left: 50%;z-index: 0;}#sk-container-id-11 div.sk-serial {display: flex;flex-direction: column;align-items: center;background-color: white;padding-right: 0.2em;padding-left: 0.2em;position: relative;}#sk-container-id-11 div.sk-item {position: relative;z-index: 1;}#sk-container-id-11 div.sk-parallel {display: flex;align-items: stretch;justify-content: center;background-color: white;position: relative;}#sk-container-id-11 div.sk-item::before, #sk-container-id-11 div.sk-parallel-item::before {content: \"\";position: absolute;border-left: 1px solid gray;box-sizing: border-box;top: 0;bottom: 0;left: 50%;z-index: -1;}#sk-container-id-11 div.sk-parallel-item {display: flex;flex-direction: column;z-index: 1;position: relative;background-color: white;}#sk-container-id-11 div.sk-parallel-item:first-child::after {align-self: flex-end;width: 50%;}#sk-container-id-11 div.sk-parallel-item:last-child::after {align-self: flex-start;width: 50%;}#sk-container-id-11 div.sk-parallel-item:only-child::after {width: 0;}#sk-container-id-11 div.sk-dashed-wrapped {border: 1px dashed gray;margin: 0 0.4em 0.5em 0.4em;box-sizing: border-box;padding-bottom: 0.4em;background-color: white;}#sk-container-id-11 div.sk-label label {font-family: monospace;font-weight: bold;display: inline-block;line-height: 1.2em;}#sk-container-id-11 div.sk-label-container {text-align: center;}#sk-container-id-11 div.sk-container {/* jupyter's `normalize.less` sets `[hidden] { display: none; }` but bootstrap.min.css set `[hidden] { display: none !important; }` so we also need the `!important` here to be able to override the default hidden behavior on the sphinx rendered scikit-learn.org. See: https://github.com/scikit-learn/scikit-learn/issues/21755 */display: inline-block !important;position: relative;}#sk-container-id-11 div.sk-text-repr-fallback {display: none;}</style><div id=\"sk-container-id-11\" class=\"sk-top-container\"><div class=\"sk-text-repr-fallback\"><pre>SVR(C=1)</pre><b>In a Jupyter environment, please rerun this cell to show the HTML representation or trust the notebook. <br />On GitHub, the HTML representation is unable to render, please try loading this page with nbviewer.org.</b></div><div class=\"sk-container\" hidden><div class=\"sk-item\"><div class=\"sk-estimator sk-toggleable\"><input class=\"sk-toggleable__control sk-hidden--visually\" id=\"sk-estimator-id-11\" type=\"checkbox\" checked><label for=\"sk-estimator-id-11\" class=\"sk-toggleable__label sk-toggleable__label-arrow\">SVR</label><div class=\"sk-toggleable__content\"><pre>SVR(C=1)</pre></div></div></div></div></div>"
      ],
      "text/plain": [
       "SVR(C=1)"
      ]
     },
     "execution_count": 169,
     "metadata": {},
     "output_type": "execute_result"
    }
   ],
   "source": [
    "svm_reg = SVR(kernel='rbf', C=1, gamma='scale')\n",
    "svm_reg.fit(X_train, y_train)"
   ]
  },
  {
   "cell_type": "code",
   "execution_count": 170,
   "id": "585ecfb3-cf2d-4962-87ca-81fd4f949881",
   "metadata": {},
   "outputs": [],
   "source": [
    "y_pred = svm_reg.predict(X_test)"
   ]
  },
  {
   "cell_type": "code",
   "execution_count": 171,
   "id": "ac4c843c-dc08-4774-b20a-0620da2b4dc6",
   "metadata": {},
   "outputs": [
    {
     "data": {
      "text/plain": [
       "16.430676290352007"
      ]
     },
     "execution_count": 171,
     "metadata": {},
     "output_type": "execute_result"
    }
   ],
   "source": [
    "mean_squared_error(y_test, y_pred)"
   ]
  },
  {
   "cell_type": "code",
   "execution_count": 172,
   "id": "9d475040-ab70-4f5a-baf8-ce502c7a261e",
   "metadata": {},
   "outputs": [
    {
     "data": {
      "text/plain": [
       "0.8512920136481122"
      ]
     },
     "execution_count": 172,
     "metadata": {},
     "output_type": "execute_result"
    }
   ],
   "source": [
    "r2_score(y_test, y_pred)"
   ]
  },
  {
   "cell_type": "code",
   "execution_count": 173,
   "id": "4a43e472-2f4e-482b-8f8f-40c802443589",
   "metadata": {},
   "outputs": [],
   "source": [
    "yyy=svm_reg.predict(X_train)"
   ]
  },
  {
   "cell_type": "code",
   "execution_count": 174,
   "id": "1d4f8aa3-1c7c-49bc-986e-0238685d348f",
   "metadata": {},
   "outputs": [
    {
     "data": {
      "text/plain": [
       "580.0204003339246"
      ]
     },
     "execution_count": 174,
     "metadata": {},
     "output_type": "execute_result"
    }
   ],
   "source": [
    "mean_squared_error(y_train, yyy)"
   ]
  },
  {
   "cell_type": "code",
   "execution_count": 175,
   "id": "36bb13e6-6f3a-45ac-80d5-fc65e9ae65df",
   "metadata": {},
   "outputs": [
    {
     "data": {
      "text/plain": [
       "0.8215672885390248"
      ]
     },
     "execution_count": 175,
     "metadata": {},
     "output_type": "execute_result"
    }
   ],
   "source": [
    "r2_score(y_train, yyy)"
   ]
  },
  {
   "cell_type": "code",
   "execution_count": 176,
   "id": "1e8e09eb-f88f-4207-a8b6-b0a1acd6d68b",
   "metadata": {},
   "outputs": [],
   "source": [
    "# LSTM"
   ]
  },
  {
   "cell_type": "code",
   "execution_count": 177,
   "id": "9c3da7cc-b55b-47b9-99f9-9d318b97aa47",
   "metadata": {},
   "outputs": [],
   "source": [
    "import tensorflow as tf\n",
    "from tensorflow.keras.models import Sequential\n",
    "from tensorflow.keras.layers import LSTM, Dense , Input,Reshape\n",
    "from tensorflow.keras.optimizers import Adam"
   ]
  },
  {
   "cell_type": "code",
   "execution_count": 113,
   "id": "4e338e87-fbb4-47b1-9812-d9ac496afb75",
   "metadata": {},
   "outputs": [],
   "source": [
    "model = Sequential()\n",
    "model.add(Input(shape=(15,)))  # Input shape: (15,)\n",
    "model.add(Reshape((1, 15)))  # Reshape to (batch_size, timesteps, input_dim)\n",
    "model.add(LSTM(100, return_sequences=True))\n",
    "model.add(LSTM(50))\n",
    "model.add(Dense(1, activation='sigmoid'))  # Assuming binary classification\n",
    "\n",
    "\n",
    "optimizer = Adam(learning_rate=0.001)\n",
    "model.compile(optimizer=optimizer, loss='binary_crossentropy', metrics=['accuracy'])\n"
   ]
  },
  {
   "cell_type": "code",
   "execution_count": 114,
   "id": "8434bf6d-98ff-488c-8b5b-1a4a23e2c9ae",
   "metadata": {},
   "outputs": [
    {
     "name": "stdout",
     "output_type": "stream",
     "text": [
      "Epoch 1/30\n",
      "\u001b[1m170/170\u001b[0m \u001b[32m━━━━━━━━━━━━━━━━━━━━\u001b[0m\u001b[37m\u001b[0m \u001b[1m12s\u001b[0m 10ms/step - accuracy: 0.0000e+00 - loss: -210.5653 - val_accuracy: 0.0000e+00 - val_loss: -2117.1130\n",
      "Epoch 2/30\n",
      "\u001b[1m170/170\u001b[0m \u001b[32m━━━━━━━━━━━━━━━━━━━━\u001b[0m\u001b[37m\u001b[0m \u001b[1m2s\u001b[0m 5ms/step - accuracy: 0.0000e+00 - loss: -2873.6479 - val_accuracy: 0.0000e+00 - val_loss: -4385.3740\n",
      "Epoch 3/30\n",
      "\u001b[1m170/170\u001b[0m \u001b[32m━━━━━━━━━━━━━━━━━━━━\u001b[0m\u001b[37m\u001b[0m \u001b[1m1s\u001b[0m 5ms/step - accuracy: 0.0000e+00 - loss: -4798.6978 - val_accuracy: 0.0000e+00 - val_loss: -5815.4434\n",
      "Epoch 4/30\n",
      "\u001b[1m170/170\u001b[0m \u001b[32m━━━━━━━━━━━━━━━━━━━━\u001b[0m\u001b[37m\u001b[0m \u001b[1m1s\u001b[0m 6ms/step - accuracy: 0.0000e+00 - loss: -6161.3936 - val_accuracy: 0.0000e+00 - val_loss: -7122.3223\n",
      "Epoch 5/30\n",
      "\u001b[1m170/170\u001b[0m \u001b[32m━━━━━━━━━━━━━━━━━━━━\u001b[0m\u001b[37m\u001b[0m \u001b[1m1s\u001b[0m 6ms/step - accuracy: 0.0000e+00 - loss: -7481.0820 - val_accuracy: 0.0000e+00 - val_loss: -8380.7637\n",
      "Epoch 6/30\n",
      "\u001b[1m170/170\u001b[0m \u001b[32m━━━━━━━━━━━━━━━━━━━━\u001b[0m\u001b[37m\u001b[0m \u001b[1m1s\u001b[0m 5ms/step - accuracy: 0.0000e+00 - loss: -8627.2832 - val_accuracy: 0.0000e+00 - val_loss: -9607.5166\n",
      "Epoch 7/30\n",
      "\u001b[1m170/170\u001b[0m \u001b[32m━━━━━━━━━━━━━━━━━━━━\u001b[0m\u001b[37m\u001b[0m \u001b[1m1s\u001b[0m 6ms/step - accuracy: 0.0000e+00 - loss: -9944.7266 - val_accuracy: 0.0000e+00 - val_loss: -10816.2031\n",
      "Epoch 8/30\n",
      "\u001b[1m170/170\u001b[0m \u001b[32m━━━━━━━━━━━━━━━━━━━━\u001b[0m\u001b[37m\u001b[0m \u001b[1m1s\u001b[0m 6ms/step - accuracy: 0.0000e+00 - loss: -11203.7803 - val_accuracy: 0.0000e+00 - val_loss: -12012.7842\n",
      "Epoch 9/30\n",
      "\u001b[1m170/170\u001b[0m \u001b[32m━━━━━━━━━━━━━━━━━━━━\u001b[0m\u001b[37m\u001b[0m \u001b[1m1s\u001b[0m 6ms/step - accuracy: 0.0000e+00 - loss: -12284.0596 - val_accuracy: 0.0000e+00 - val_loss: -13198.0498\n",
      "Epoch 10/30\n",
      "\u001b[1m170/170\u001b[0m \u001b[32m━━━━━━━━━━━━━━━━━━━━\u001b[0m\u001b[37m\u001b[0m \u001b[1m1s\u001b[0m 6ms/step - accuracy: 0.0000e+00 - loss: -13650.8975 - val_accuracy: 0.0000e+00 - val_loss: -14380.0928\n",
      "Epoch 11/30\n",
      "\u001b[1m170/170\u001b[0m \u001b[32m━━━━━━━━━━━━━━━━━━━━\u001b[0m\u001b[37m\u001b[0m \u001b[1m1s\u001b[0m 6ms/step - accuracy: 0.0000e+00 - loss: -14681.8799 - val_accuracy: 0.0000e+00 - val_loss: -15553.4922\n",
      "Epoch 12/30\n",
      "\u001b[1m170/170\u001b[0m \u001b[32m━━━━━━━━━━━━━━━━━━━━\u001b[0m\u001b[37m\u001b[0m \u001b[1m1s\u001b[0m 6ms/step - accuracy: 0.0000e+00 - loss: -15992.6396 - val_accuracy: 0.0000e+00 - val_loss: -16726.0215\n",
      "Epoch 13/30\n",
      "\u001b[1m170/170\u001b[0m \u001b[32m━━━━━━━━━━━━━━━━━━━━\u001b[0m\u001b[37m\u001b[0m \u001b[1m1s\u001b[0m 5ms/step - accuracy: 0.0000e+00 - loss: -17020.1074 - val_accuracy: 0.0000e+00 - val_loss: -17892.4375\n",
      "Epoch 14/30\n",
      "\u001b[1m170/170\u001b[0m \u001b[32m━━━━━━━━━━━━━━━━━━━━\u001b[0m\u001b[37m\u001b[0m \u001b[1m1s\u001b[0m 6ms/step - accuracy: 0.0000e+00 - loss: -18559.9082 - val_accuracy: 0.0000e+00 - val_loss: -19062.5938\n",
      "Epoch 15/30\n",
      "\u001b[1m170/170\u001b[0m \u001b[32m━━━━━━━━━━━━━━━━━━━━\u001b[0m\u001b[37m\u001b[0m \u001b[1m1s\u001b[0m 5ms/step - accuracy: 0.0000e+00 - loss: -19541.1914 - val_accuracy: 0.0000e+00 - val_loss: -20221.3164\n",
      "Epoch 16/30\n",
      "\u001b[1m170/170\u001b[0m \u001b[32m━━━━━━━━━━━━━━━━━━━━\u001b[0m\u001b[37m\u001b[0m \u001b[1m1s\u001b[0m 5ms/step - accuracy: 0.0000e+00 - loss: -20592.5762 - val_accuracy: 0.0000e+00 - val_loss: -21387.0098\n",
      "Epoch 17/30\n",
      "\u001b[1m170/170\u001b[0m \u001b[32m━━━━━━━━━━━━━━━━━━━━\u001b[0m\u001b[37m\u001b[0m \u001b[1m1s\u001b[0m 5ms/step - accuracy: 0.0000e+00 - loss: -21656.7812 - val_accuracy: 0.0000e+00 - val_loss: -22548.2422\n",
      "Epoch 18/30\n",
      "\u001b[1m170/170\u001b[0m \u001b[32m━━━━━━━━━━━━━━━━━━━━\u001b[0m\u001b[37m\u001b[0m \u001b[1m1s\u001b[0m 4ms/step - accuracy: 0.0000e+00 - loss: -22936.9941 - val_accuracy: 0.0000e+00 - val_loss: -23708.3770\n",
      "Epoch 19/30\n",
      "\u001b[1m170/170\u001b[0m \u001b[32m━━━━━━━━━━━━━━━━━━━━\u001b[0m\u001b[37m\u001b[0m \u001b[1m1s\u001b[0m 4ms/step - accuracy: 0.0000e+00 - loss: -24031.5781 - val_accuracy: 0.0000e+00 - val_loss: -24865.9727\n",
      "Epoch 20/30\n",
      "\u001b[1m170/170\u001b[0m \u001b[32m━━━━━━━━━━━━━━━━━━━━\u001b[0m\u001b[37m\u001b[0m \u001b[1m1s\u001b[0m 5ms/step - accuracy: 0.0000e+00 - loss: -25234.0801 - val_accuracy: 0.0000e+00 - val_loss: -26023.8340\n",
      "Epoch 21/30\n",
      "\u001b[1m170/170\u001b[0m \u001b[32m━━━━━━━━━━━━━━━━━━━━\u001b[0m\u001b[37m\u001b[0m \u001b[1m1s\u001b[0m 6ms/step - accuracy: 0.0000e+00 - loss: -26112.2305 - val_accuracy: 0.0000e+00 - val_loss: -27181.0059\n",
      "Epoch 22/30\n",
      "\u001b[1m170/170\u001b[0m \u001b[32m━━━━━━━━━━━━━━━━━━━━\u001b[0m\u001b[37m\u001b[0m \u001b[1m1s\u001b[0m 6ms/step - accuracy: 0.0000e+00 - loss: -27527.5371 - val_accuracy: 0.0000e+00 - val_loss: -28341.6895\n",
      "Epoch 23/30\n",
      "\u001b[1m170/170\u001b[0m \u001b[32m━━━━━━━━━━━━━━━━━━━━\u001b[0m\u001b[37m\u001b[0m \u001b[1m1s\u001b[0m 6ms/step - accuracy: 0.0000e+00 - loss: -28847.3691 - val_accuracy: 0.0000e+00 - val_loss: -29496.5547\n",
      "Epoch 24/30\n",
      "\u001b[1m170/170\u001b[0m \u001b[32m━━━━━━━━━━━━━━━━━━━━\u001b[0m\u001b[37m\u001b[0m \u001b[1m1s\u001b[0m 6ms/step - accuracy: 0.0000e+00 - loss: -30130.4238 - val_accuracy: 0.0000e+00 - val_loss: -30654.4980\n",
      "Epoch 25/30\n",
      "\u001b[1m170/170\u001b[0m \u001b[32m━━━━━━━━━━━━━━━━━━━━\u001b[0m\u001b[37m\u001b[0m \u001b[1m1s\u001b[0m 5ms/step - accuracy: 0.0000e+00 - loss: -31459.8828 - val_accuracy: 0.0000e+00 - val_loss: -31810.2422\n",
      "Epoch 26/30\n",
      "\u001b[1m170/170\u001b[0m \u001b[32m━━━━━━━━━━━━━━━━━━━━\u001b[0m\u001b[37m\u001b[0m \u001b[1m1s\u001b[0m 5ms/step - accuracy: 0.0000e+00 - loss: -31815.7285 - val_accuracy: 0.0000e+00 - val_loss: -32964.2461\n",
      "Epoch 27/30\n",
      "\u001b[1m170/170\u001b[0m \u001b[32m━━━━━━━━━━━━━━━━━━━━\u001b[0m\u001b[37m\u001b[0m \u001b[1m1s\u001b[0m 6ms/step - accuracy: 0.0000e+00 - loss: -33103.7500 - val_accuracy: 0.0000e+00 - val_loss: -34121.2734\n",
      "Epoch 28/30\n",
      "\u001b[1m170/170\u001b[0m \u001b[32m━━━━━━━━━━━━━━━━━━━━\u001b[0m\u001b[37m\u001b[0m \u001b[1m1s\u001b[0m 6ms/step - accuracy: 0.0000e+00 - loss: -34763.7891 - val_accuracy: 0.0000e+00 - val_loss: -35277.0195\n",
      "Epoch 29/30\n",
      "\u001b[1m170/170\u001b[0m \u001b[32m━━━━━━━━━━━━━━━━━━━━\u001b[0m\u001b[37m\u001b[0m \u001b[1m1s\u001b[0m 5ms/step - accuracy: 0.0000e+00 - loss: -35265.3047 - val_accuracy: 0.0000e+00 - val_loss: -36431.1016\n",
      "Epoch 30/30\n",
      "\u001b[1m170/170\u001b[0m \u001b[32m━━━━━━━━━━━━━━━━━━━━\u001b[0m\u001b[37m\u001b[0m \u001b[1m1s\u001b[0m 5ms/step - accuracy: 0.0000e+00 - loss: -37444.0391 - val_accuracy: 0.0000e+00 - val_loss: -37586.1172\n"
     ]
    },
    {
     "data": {
      "text/plain": [
       "<keras.src.callbacks.history.History at 0x13e1b3ffa50>"
      ]
     },
     "execution_count": 114,
     "metadata": {},
     "output_type": "execute_result"
    }
   ],
   "source": [
    "model.fit(X_train, y_train, epochs=30, batch_size=8, validation_split=0.2)"
   ]
  },
  {
   "cell_type": "code",
   "execution_count": 115,
   "id": "d0726e80-e4ea-4961-a93e-3903a89e1617",
   "metadata": {},
   "outputs": [
    {
     "name": "stdout",
     "output_type": "stream",
     "text": [
      "\u001b[1m2/2\u001b[0m \u001b[32m━━━━━━━━━━━━━━━━━━━━\u001b[0m\u001b[37m\u001b[0m \u001b[1m2s\u001b[0m 931ms/step\n"
     ]
    }
   ],
   "source": [
    "y_pred=model.predict(X_test)"
   ]
  },
  {
   "cell_type": "code",
   "execution_count": 116,
   "id": "89d97893-9222-4d65-a002-4445ff84d29a",
   "metadata": {},
   "outputs": [
    {
     "data": {
      "text/plain": [
       "29046.233707321975"
      ]
     },
     "execution_count": 116,
     "metadata": {},
     "output_type": "execute_result"
    }
   ],
   "source": [
    "mean_squared_error(y_test, y_pred)"
   ]
  },
  {
   "cell_type": "code",
   "execution_count": 117,
   "id": "e77c4d81-411a-4ffc-9ea1-10e4465f7fe4",
   "metadata": {},
   "outputs": [
    {
     "data": {
      "text/plain": [
       "-261.88673998516475"
      ]
     },
     "execution_count": 117,
     "metadata": {},
     "output_type": "execute_result"
    }
   ],
   "source": [
    "r2_score(y_test, y_pred)"
   ]
  },
  {
   "cell_type": "code",
   "execution_count": 118,
   "id": "024cc1fb-57fd-465d-8dd6-4cedbb729558",
   "metadata": {},
   "outputs": [],
   "source": [
    "# GRU"
   ]
  },
  {
   "cell_type": "code",
   "execution_count": 122,
   "id": "ad3d488a-3593-410a-a6c5-83c43b9dca70",
   "metadata": {},
   "outputs": [],
   "source": [
    "from tensorflow.keras.layers import GRU, Dense"
   ]
  },
  {
   "cell_type": "code",
   "execution_count": 123,
   "id": "94665711-8764-4ed2-be66-14ba041cf634",
   "metadata": {},
   "outputs": [],
   "source": [
    "optimizer = Adam(learning_rate=0.001)\n",
    "batch_size = 8\n",
    "epochs = 30"
   ]
  },
  {
   "cell_type": "code",
   "execution_count": 124,
   "id": "872cfa5f-a885-49cd-bbe6-678f88bff9b6",
   "metadata": {},
   "outputs": [],
   "source": [
    "X_train_reshaped = np.reshape(X_train, (X_train.shape[0], 1, X_train.shape[1]))\n",
    "\n",
    "# Reshape test set: (53, 622) -> (53, 1, 622)\n",
    "X_test_reshaped = np.reshape(X_test, (X_test.shape[0], 1, X_test.shape[1]))"
   ]
  },
  {
   "cell_type": "code",
   "execution_count": 125,
   "id": "e8a325e9-24d1-4353-b599-c8a793bd6205",
   "metadata": {},
   "outputs": [],
   "source": [
    "model_gru_2hidden = Sequential()\n",
    "model_gru_2hidden.add(Input(shape=(X_train_reshaped.shape[1], X_train_reshaped.shape[2])))\n",
    "model_gru_2hidden.add(GRU(units=100, return_sequences=True))\n",
    "model_gru_2hidden.add(GRU(units=50))\n",
    "model_gru_2hidden.add(Dense(units=1, activation='sigmoid'))  # Assuming binary classification\n",
    "\n",
    "# Compile the model\n",
    "optimizer = Adam(learning_rate=0.001)\n",
    "model_gru_2hidden.compile(optimizer=optimizer, loss='binary_crossentropy', metrics=['accuracy'])"
   ]
  },
  {
   "cell_type": "code",
   "execution_count": 126,
   "id": "184b9059-890d-4af6-80e6-fa8a6aa1c644",
   "metadata": {},
   "outputs": [
    {
     "name": "stdout",
     "output_type": "stream",
     "text": [
      "Epoch 1/30\n",
      "\u001b[1m170/170\u001b[0m \u001b[32m━━━━━━━━━━━━━━━━━━━━\u001b[0m\u001b[37m\u001b[0m \u001b[1m15s\u001b[0m 12ms/step - accuracy: 0.0000e+00 - loss: -450.0886 - val_accuracy: 0.0000e+00 - val_loss: -3202.1870\n",
      "Epoch 2/30\n",
      "\u001b[1m170/170\u001b[0m \u001b[32m━━━━━━━━━━━━━━━━━━━━\u001b[0m\u001b[37m\u001b[0m \u001b[1m1s\u001b[0m 5ms/step - accuracy: 0.0000e+00 - loss: -3789.7085 - val_accuracy: 0.0000e+00 - val_loss: -5321.0854\n",
      "Epoch 3/30\n",
      "\u001b[1m170/170\u001b[0m \u001b[32m━━━━━━━━━━━━━━━━━━━━\u001b[0m\u001b[37m\u001b[0m \u001b[1m1s\u001b[0m 4ms/step - accuracy: 0.0000e+00 - loss: -5762.0723 - val_accuracy: 0.0000e+00 - val_loss: -7056.9727\n",
      "Epoch 4/30\n",
      "\u001b[1m170/170\u001b[0m \u001b[32m━━━━━━━━━━━━━━━━━━━━\u001b[0m\u001b[37m\u001b[0m \u001b[1m1s\u001b[0m 5ms/step - accuracy: 0.0000e+00 - loss: -7485.2666 - val_accuracy: 0.0000e+00 - val_loss: -8694.0254\n",
      "Epoch 5/30\n",
      "\u001b[1m170/170\u001b[0m \u001b[32m━━━━━━━━━━━━━━━━━━━━\u001b[0m\u001b[37m\u001b[0m \u001b[1m1s\u001b[0m 7ms/step - accuracy: 0.0000e+00 - loss: -9146.4092 - val_accuracy: 0.0000e+00 - val_loss: -10292.2549\n",
      "Epoch 6/30\n",
      "\u001b[1m170/170\u001b[0m \u001b[32m━━━━━━━━━━━━━━━━━━━━\u001b[0m\u001b[37m\u001b[0m \u001b[1m1s\u001b[0m 5ms/step - accuracy: 0.0000e+00 - loss: -11007.2139 - val_accuracy: 0.0000e+00 - val_loss: -11863.1074\n",
      "Epoch 7/30\n",
      "\u001b[1m170/170\u001b[0m \u001b[32m━━━━━━━━━━━━━━━━━━━━\u001b[0m\u001b[37m\u001b[0m \u001b[1m1s\u001b[0m 6ms/step - accuracy: 0.0000e+00 - loss: -12215.2715 - val_accuracy: 0.0000e+00 - val_loss: -13413.0811\n",
      "Epoch 8/30\n",
      "\u001b[1m170/170\u001b[0m \u001b[32m━━━━━━━━━━━━━━━━━━━━\u001b[0m\u001b[37m\u001b[0m \u001b[1m1s\u001b[0m 6ms/step - accuracy: 0.0000e+00 - loss: -13974.6123 - val_accuracy: 0.0000e+00 - val_loss: -14962.0410\n",
      "Epoch 9/30\n",
      "\u001b[1m170/170\u001b[0m \u001b[32m━━━━━━━━━━━━━━━━━━━━\u001b[0m\u001b[37m\u001b[0m \u001b[1m1s\u001b[0m 6ms/step - accuracy: 0.0000e+00 - loss: -15284.0879 - val_accuracy: 0.0000e+00 - val_loss: -16495.0684\n",
      "Epoch 10/30\n",
      "\u001b[1m170/170\u001b[0m \u001b[32m━━━━━━━━━━━━━━━━━━━━\u001b[0m\u001b[37m\u001b[0m \u001b[1m1s\u001b[0m 6ms/step - accuracy: 0.0000e+00 - loss: -17109.0234 - val_accuracy: 0.0000e+00 - val_loss: -18028.2617\n",
      "Epoch 11/30\n",
      "\u001b[1m170/170\u001b[0m \u001b[32m━━━━━━━━━━━━━━━━━━━━\u001b[0m\u001b[37m\u001b[0m \u001b[1m1s\u001b[0m 6ms/step - accuracy: 0.0000e+00 - loss: -18572.0742 - val_accuracy: 0.0000e+00 - val_loss: -19553.3047\n",
      "Epoch 12/30\n",
      "\u001b[1m170/170\u001b[0m \u001b[32m━━━━━━━━━━━━━━━━━━━━\u001b[0m\u001b[37m\u001b[0m \u001b[1m1s\u001b[0m 6ms/step - accuracy: 0.0000e+00 - loss: -20314.2500 - val_accuracy: 0.0000e+00 - val_loss: -21072.5703\n",
      "Epoch 13/30\n",
      "\u001b[1m170/170\u001b[0m \u001b[32m━━━━━━━━━━━━━━━━━━━━\u001b[0m\u001b[37m\u001b[0m \u001b[1m1s\u001b[0m 6ms/step - accuracy: 0.0000e+00 - loss: -21133.5820 - val_accuracy: 0.0000e+00 - val_loss: -22597.1191\n",
      "Epoch 14/30\n",
      "\u001b[1m170/170\u001b[0m \u001b[32m━━━━━━━━━━━━━━━━━━━━\u001b[0m\u001b[37m\u001b[0m \u001b[1m1s\u001b[0m 5ms/step - accuracy: 0.0000e+00 - loss: -23147.7168 - val_accuracy: 0.0000e+00 - val_loss: -24114.8574\n",
      "Epoch 15/30\n",
      "\u001b[1m170/170\u001b[0m \u001b[32m━━━━━━━━━━━━━━━━━━━━\u001b[0m\u001b[37m\u001b[0m \u001b[1m1s\u001b[0m 5ms/step - accuracy: 0.0000e+00 - loss: -24164.1758 - val_accuracy: 0.0000e+00 - val_loss: -25626.9473\n",
      "Epoch 16/30\n",
      "\u001b[1m170/170\u001b[0m \u001b[32m━━━━━━━━━━━━━━━━━━━━\u001b[0m\u001b[37m\u001b[0m \u001b[1m1s\u001b[0m 5ms/step - accuracy: 0.0000e+00 - loss: -25708.0801 - val_accuracy: 0.0000e+00 - val_loss: -27144.5254\n",
      "Epoch 17/30\n",
      "\u001b[1m170/170\u001b[0m \u001b[32m━━━━━━━━━━━━━━━━━━━━\u001b[0m\u001b[37m\u001b[0m \u001b[1m1s\u001b[0m 5ms/step - accuracy: 0.0000e+00 - loss: -28010.6270 - val_accuracy: 0.0000e+00 - val_loss: -28656.7500\n",
      "Epoch 18/30\n",
      "\u001b[1m170/170\u001b[0m \u001b[32m━━━━━━━━━━━━━━━━━━━━\u001b[0m\u001b[37m\u001b[0m \u001b[1m1s\u001b[0m 5ms/step - accuracy: 0.0000e+00 - loss: -29166.5059 - val_accuracy: 0.0000e+00 - val_loss: -30168.7793\n",
      "Epoch 19/30\n",
      "\u001b[1m170/170\u001b[0m \u001b[32m━━━━━━━━━━━━━━━━━━━━\u001b[0m\u001b[37m\u001b[0m \u001b[1m1s\u001b[0m 5ms/step - accuracy: 0.0000e+00 - loss: -30865.1426 - val_accuracy: 0.0000e+00 - val_loss: -31679.1504\n",
      "Epoch 20/30\n",
      "\u001b[1m170/170\u001b[0m \u001b[32m━━━━━━━━━━━━━━━━━━━━\u001b[0m\u001b[37m\u001b[0m \u001b[1m1s\u001b[0m 6ms/step - accuracy: 0.0000e+00 - loss: -32378.9707 - val_accuracy: 0.0000e+00 - val_loss: -33188.5117\n",
      "Epoch 21/30\n",
      "\u001b[1m170/170\u001b[0m \u001b[32m━━━━━━━━━━━━━━━━━━━━\u001b[0m\u001b[37m\u001b[0m \u001b[1m1s\u001b[0m 5ms/step - accuracy: 0.0000e+00 - loss: -33406.2969 - val_accuracy: 0.0000e+00 - val_loss: -34693.4453\n",
      "Epoch 22/30\n",
      "\u001b[1m170/170\u001b[0m \u001b[32m━━━━━━━━━━━━━━━━━━━━\u001b[0m\u001b[37m\u001b[0m \u001b[1m1s\u001b[0m 5ms/step - accuracy: 0.0000e+00 - loss: -34981.1172 - val_accuracy: 0.0000e+00 - val_loss: -36204.4922\n",
      "Epoch 23/30\n",
      "\u001b[1m170/170\u001b[0m \u001b[32m━━━━━━━━━━━━━━━━━━━━\u001b[0m\u001b[37m\u001b[0m \u001b[1m1s\u001b[0m 5ms/step - accuracy: 0.0000e+00 - loss: -36571.7539 - val_accuracy: 0.0000e+00 - val_loss: -37713.5742\n",
      "Epoch 24/30\n",
      "\u001b[1m170/170\u001b[0m \u001b[32m━━━━━━━━━━━━━━━━━━━━\u001b[0m\u001b[37m\u001b[0m \u001b[1m1s\u001b[0m 5ms/step - accuracy: 0.0000e+00 - loss: -38223.6719 - val_accuracy: 0.0000e+00 - val_loss: -39223.6094\n",
      "Epoch 25/30\n",
      "\u001b[1m170/170\u001b[0m \u001b[32m━━━━━━━━━━━━━━━━━━━━\u001b[0m\u001b[37m\u001b[0m \u001b[1m1s\u001b[0m 6ms/step - accuracy: 0.0000e+00 - loss: -39678.6328 - val_accuracy: 0.0000e+00 - val_loss: -40732.8945\n",
      "Epoch 26/30\n",
      "\u001b[1m170/170\u001b[0m \u001b[32m━━━━━━━━━━━━━━━━━━━━\u001b[0m\u001b[37m\u001b[0m \u001b[1m1s\u001b[0m 5ms/step - accuracy: 0.0000e+00 - loss: -41473.4258 - val_accuracy: 0.0000e+00 - val_loss: -42237.5820\n",
      "Epoch 27/30\n",
      "\u001b[1m170/170\u001b[0m \u001b[32m━━━━━━━━━━━━━━━━━━━━\u001b[0m\u001b[37m\u001b[0m \u001b[1m1s\u001b[0m 6ms/step - accuracy: 0.0000e+00 - loss: -42073.7109 - val_accuracy: 0.0000e+00 - val_loss: -43743.4727\n",
      "Epoch 28/30\n",
      "\u001b[1m170/170\u001b[0m \u001b[32m━━━━━━━━━━━━━━━━━━━━\u001b[0m\u001b[37m\u001b[0m \u001b[1m1s\u001b[0m 5ms/step - accuracy: 0.0000e+00 - loss: -43854.0508 - val_accuracy: 0.0000e+00 - val_loss: -45251.6680\n",
      "Epoch 29/30\n",
      "\u001b[1m170/170\u001b[0m \u001b[32m━━━━━━━━━━━━━━━━━━━━\u001b[0m\u001b[37m\u001b[0m \u001b[1m1s\u001b[0m 5ms/step - accuracy: 0.0000e+00 - loss: -45615.2812 - val_accuracy: 0.0000e+00 - val_loss: -46761.9648\n",
      "Epoch 30/30\n",
      "\u001b[1m170/170\u001b[0m \u001b[32m━━━━━━━━━━━━━━━━━━━━\u001b[0m\u001b[37m\u001b[0m \u001b[1m1s\u001b[0m 6ms/step - accuracy: 0.0000e+00 - loss: -46857.5547 - val_accuracy: 0.0000e+00 - val_loss: -48264.4492\n"
     ]
    },
    {
     "data": {
      "text/plain": [
       "<keras.src.callbacks.history.History at 0x13e20403890>"
      ]
     },
     "execution_count": 126,
     "metadata": {},
     "output_type": "execute_result"
    }
   ],
   "source": [
    "model_gru_2hidden.fit(X_train_reshaped, y_train, batch_size=batch_size, epochs=epochs, validation_split=0.2)\n",
    "                      "
   ]
  },
  {
   "cell_type": "code",
   "execution_count": 127,
   "id": "b5f6c03c-ea8d-46ae-8762-a7c2ce0ea524",
   "metadata": {},
   "outputs": [
    {
     "name": "stdout",
     "output_type": "stream",
     "text": [
      "\u001b[1m2/2\u001b[0m \u001b[32m━━━━━━━━━━━━━━━━━━━━\u001b[0m\u001b[37m\u001b[0m \u001b[1m2s\u001b[0m 1s/step  \n"
     ]
    }
   ],
   "source": [
    "y_pred=model_gru_2hidden.predict(X_test_reshaped)"
   ]
  },
  {
   "cell_type": "code",
   "execution_count": 128,
   "id": "ee6f4c3b-0f2a-49e0-b59d-b36a144090a2",
   "metadata": {},
   "outputs": [
    {
     "data": {
      "text/plain": [
       "-261.88673998516475"
      ]
     },
     "execution_count": 128,
     "metadata": {},
     "output_type": "execute_result"
    }
   ],
   "source": [
    "r2_score(y_test, y_pred)"
   ]
  },
  {
   "cell_type": "code",
   "execution_count": 129,
   "id": "10972dae-aa66-4651-a875-a0cfbb519ae0",
   "metadata": {},
   "outputs": [
    {
     "data": {
      "text/plain": [
       "29046.233707321975"
      ]
     },
     "execution_count": 129,
     "metadata": {},
     "output_type": "execute_result"
    }
   ],
   "source": [
    "mean_squared_error(y_test, y_pred)"
   ]
  },
  {
   "cell_type": "code",
   "execution_count": 131,
   "id": "649b2fbd-30b4-4dbc-a1f5-7edf53240c4b",
   "metadata": {},
   "outputs": [
    {
     "name": "stdout",
     "output_type": "stream",
     "text": [
      "\u001b[1m53/53\u001b[0m \u001b[32m━━━━━━━━━━━━━━━━━━━━\u001b[0m\u001b[37m\u001b[0m \u001b[1m0s\u001b[0m 3ms/step\n"
     ]
    }
   ],
   "source": [
    "yyy=model_gru_2hidden.predict(X_train_reshaped)"
   ]
  },
  {
   "cell_type": "code",
   "execution_count": 132,
   "id": "ce8cecd8-31c1-47ea-b562-1baa6ca0fa91",
   "metadata": {},
   "outputs": [
    {
     "data": {
      "text/plain": [
       "34048.258881088026"
      ]
     },
     "execution_count": 132,
     "metadata": {},
     "output_type": "execute_result"
    }
   ],
   "source": [
    "mean_squared_error(y_train,yyy)"
   ]
  },
  {
   "cell_type": "code",
   "execution_count": null,
   "id": "3b553108-78c7-4884-be15-48bb6502afe9",
   "metadata": {},
   "outputs": [],
   "source": []
  },
  {
   "cell_type": "code",
   "execution_count": null,
   "id": "eddee905-70a5-4d8d-abec-c5bdab3c04d3",
   "metadata": {},
   "outputs": [],
   "source": []
  },
  {
   "cell_type": "code",
   "execution_count": null,
   "id": "e4e0f415-5ec8-4aec-a5a9-34baed50b951",
   "metadata": {},
   "outputs": [],
   "source": []
  },
  {
   "cell_type": "code",
   "execution_count": null,
   "id": "1331f819-882f-492e-8528-85ea47ce1089",
   "metadata": {},
   "outputs": [],
   "source": []
  },
  {
   "cell_type": "code",
   "execution_count": null,
   "id": "5101adaa-da5d-4978-ba4b-4372ebd846fd",
   "metadata": {},
   "outputs": [],
   "source": []
  },
  {
   "cell_type": "code",
   "execution_count": null,
   "id": "9ed85d97-39a9-487f-a2d0-911ff8e2fe45",
   "metadata": {},
   "outputs": [],
   "source": []
  },
  {
   "cell_type": "code",
   "execution_count": null,
   "id": "25703255-6183-458c-8b50-edae040da879",
   "metadata": {},
   "outputs": [],
   "source": []
  },
  {
   "cell_type": "code",
   "execution_count": null,
   "id": "f8d7ddfe-2605-4636-8b11-9eb40fcd5bc8",
   "metadata": {},
   "outputs": [],
   "source": []
  },
  {
   "cell_type": "code",
   "execution_count": null,
   "id": "6ee3da15-7845-480e-9300-f6ce93f0d961",
   "metadata": {},
   "outputs": [],
   "source": []
  },
  {
   "cell_type": "code",
   "execution_count": null,
   "id": "d40a23c0-85e5-41f5-9693-3ec9046a2281",
   "metadata": {},
   "outputs": [],
   "source": []
  },
  {
   "cell_type": "code",
   "execution_count": null,
   "id": "1307a13e-fe8a-4d0c-9408-a4cea154c318",
   "metadata": {},
   "outputs": [],
   "source": []
  },
  {
   "cell_type": "code",
   "execution_count": null,
   "id": "8098a37c-34c0-43d1-9c1a-b81b0902f847",
   "metadata": {},
   "outputs": [],
   "source": []
  },
  {
   "cell_type": "code",
   "execution_count": null,
   "id": "8cdac76e-6389-4e48-a26f-69967f2609cd",
   "metadata": {},
   "outputs": [],
   "source": []
  },
  {
   "cell_type": "code",
   "execution_count": null,
   "id": "85da270c-0c31-428b-8298-9dbf4fd38d07",
   "metadata": {},
   "outputs": [],
   "source": []
  },
  {
   "cell_type": "code",
   "execution_count": null,
   "id": "13c13602-5cfb-4126-8f7c-0a8b24c53a04",
   "metadata": {},
   "outputs": [],
   "source": []
  },
  {
   "cell_type": "code",
   "execution_count": null,
   "id": "bd517191-e8a0-42f1-bd72-f48c60c51728",
   "metadata": {},
   "outputs": [],
   "source": []
  }
 ],
 "metadata": {
  "kernelspec": {
   "display_name": "Python 3 (ipykernel)",
   "language": "python",
   "name": "python3"
  },
  "language_info": {
   "codemirror_mode": {
    "name": "ipython",
    "version": 3
   },
   "file_extension": ".py",
   "mimetype": "text/x-python",
   "name": "python",
   "nbconvert_exporter": "python",
   "pygments_lexer": "ipython3",
   "version": "3.11.7"
  }
 },
 "nbformat": 4,
 "nbformat_minor": 5
}
