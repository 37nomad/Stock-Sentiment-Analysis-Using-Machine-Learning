{
 "cells": [
  {
   "cell_type": "code",
   "execution_count": 88,
   "id": "12b6130b-b385-43a8-af76-9d3185aba5d3",
   "metadata": {},
   "outputs": [],
   "source": [
    "import pandas as pd "
   ]
  },
  {
   "cell_type": "code",
   "execution_count": 89,
   "id": "bf3ed456-8507-443e-b5af-fb08222b0d6c",
   "metadata": {},
   "outputs": [
    {
     "data": {
      "text/plain": [
       "'C:\\\\Users\\\\Jaya Teja\\\\News Data'"
      ]
     },
     "execution_count": 89,
     "metadata": {},
     "output_type": "execute_result"
    }
   ],
   "source": [
    "pwd"
   ]
  },
  {
   "cell_type": "code",
   "execution_count": 90,
   "id": "c8d1faa1-e7a3-47a1-9392-87cfe446316f",
   "metadata": {},
   "outputs": [],
   "source": [
    "# doing for amazon stocks"
   ]
  },
  {
   "cell_type": "code",
   "execution_count": 91,
   "id": "3db8537f-781d-42d0-9d81-61ca323ee4b0",
   "metadata": {},
   "outputs": [],
   "source": [
    "df1=pd.read_csv(r\"C:\\Users\\Jaya Teja\\News Data\\Amazon 1st jan 2022 News Data\\2022_02_24_till_1.csv\")\n",
    "df2=pd.read_csv(r\"C:\\Users\\Jaya Teja\\News Data\\Amazon 1st jan 2022 News Data\\2022_04_26_till_2.csv\")\n",
    "df3=pd.read_csv(r\"C:\\Users\\Jaya Teja\\News Data\\Amazon 1st jan 2022 News Data\\2022_06_21_till_3.csv\")\n",
    "df4=pd.read_csv(r\"C:\\Users\\Jaya Teja\\News Data\\Amazon 1st jan 2022 News Data\\2022_08_19_till_4.csv\")\n",
    "df5=pd.read_csv(r\"C:\\Users\\Jaya Teja\\News Data\\Amazon 1st jan 2022 News Data\\2022_10_21_till_5.csv\")\n",
    "df6=pd.read_csv(r\"C:\\Users\\Jaya Teja\\News Data\\Amazon 1st jan 2022 News Data\\2022_12_17_till_6.csv\")\n",
    "df7=pd.read_csv(r\"C:\\Users\\Jaya Teja\\News Data\\Amazon 1st jan 2022 News Data\\2023_02_08_till_7.csv\")\n",
    "df8=pd.read_csv(r\"C:\\Users\\Jaya Teja\\News Data\\Amazon 1st jan 2022 News Data\\2023_04_25_till_8.csv\")\n",
    "df9=pd.read_csv(r\"C:\\Users\\Jaya Teja\\News Data\\Amazon 1st jan 2022 News Data\\2023_06_30_till_9.csv\")\n",
    "df10=pd.read_csv(r\"C:\\Users\\Jaya Teja\\News Data\\Amazon 1st jan 2022 News Data\\2023_09_07_till_10.csv\")\n",
    "df11=pd.read_csv(r\"C:\\Users\\Jaya Teja\\News Data\\Amazon 1st jan 2022 News Data\\2023_11_03_till_11.csv\")\n",
    "df12=pd.read_csv(r\"C:\\Users\\Jaya Teja\\News Data\\Amazon 1st jan 2022 News Data\\2024_01_06_till_12.csv\")\n",
    "df13=pd.read_csv(r\"C:\\Users\\Jaya Teja\\News Data\\Amazon 1st jan 2022 News Data\\2024_03_03_till_13.csv\")\n",
    "df14=pd.read_csv(r\"C:\\Users\\Jaya Teja\\News Data\\Amazon 1st jan 2022 News Data\\2024_04_29_till_14.csv\")\n",
    "\n"
   ]
  },
  {
   "cell_type": "code",
   "execution_count": 98,
   "id": "3ee3783d-c46e-44ba-93f8-5eae565783e4",
   "metadata": {},
   "outputs": [
    {
     "data": {
      "text/html": [
       "<div>\n",
       "<style scoped>\n",
       "    .dataframe tbody tr th:only-of-type {\n",
       "        vertical-align: middle;\n",
       "    }\n",
       "\n",
       "    .dataframe tbody tr th {\n",
       "        vertical-align: top;\n",
       "    }\n",
       "\n",
       "    .dataframe thead th {\n",
       "        text-align: right;\n",
       "    }\n",
       "</style>\n",
       "<table border=\"1\" class=\"dataframe\">\n",
       "  <thead>\n",
       "    <tr style=\"text-align: right;\">\n",
       "      <th></th>\n",
       "      <th>title</th>\n",
       "      <th>published_utc</th>\n",
       "    </tr>\n",
       "  </thead>\n",
       "  <tbody>\n",
       "    <tr>\n",
       "      <th>0</th>\n",
       "      <td>Nvidia, Meta, Microsoft And Amazon Among Dan N...</td>\n",
       "      <td>2024-03-04T07:05:54Z</td>\n",
       "    </tr>\n",
       "    <tr>\n",
       "      <th>1</th>\n",
       "      <td>The Nasdaq Ends February at a Record High. Cou...</td>\n",
       "      <td>2024-03-04T10:01:00Z</td>\n",
       "    </tr>\n",
       "    <tr>\n",
       "      <th>2</th>\n",
       "      <td>5 Stock(s) That Artificial Intelligence (AI) C...</td>\n",
       "      <td>2024-03-04T10:10:00Z</td>\n",
       "    </tr>\n",
       "    <tr>\n",
       "      <th>3</th>\n",
       "      <td>The Zacks Analyst Blog Highlights Amazon.com, ...</td>\n",
       "      <td>2024-03-04T10:33:00Z</td>\n",
       "    </tr>\n",
       "    <tr>\n",
       "      <th>4</th>\n",
       "      <td>Is It Too Late to Buy Snowflake Stock?</td>\n",
       "      <td>2024-03-04T11:05:00Z</td>\n",
       "    </tr>\n",
       "    <tr>\n",
       "      <th>...</th>\n",
       "      <td>...</td>\n",
       "      <td>...</td>\n",
       "    </tr>\n",
       "    <tr>\n",
       "      <th>804</th>\n",
       "      <td>Wall Street to Start a Very Crucial Week</td>\n",
       "      <td>2024-04-29T14:57:00Z</td>\n",
       "    </tr>\n",
       "    <tr>\n",
       "      <th>805</th>\n",
       "      <td>Top Stock Reports for NVIDIA, Alphabet &amp; Amazo...</td>\n",
       "      <td>2024-04-29T17:31:00Z</td>\n",
       "    </tr>\n",
       "    <tr>\n",
       "      <th>806</th>\n",
       "      <td>US Stocks Kick Off The Week In The Green, Tesl...</td>\n",
       "      <td>2024-04-29T18:14:53Z</td>\n",
       "    </tr>\n",
       "    <tr>\n",
       "      <th>807</th>\n",
       "      <td>Markets Up on Tesla, Q1 Earnings; Q1 Beats Aft...</td>\n",
       "      <td>2024-04-29T22:10:00Z</td>\n",
       "    </tr>\n",
       "    <tr>\n",
       "      <th>808</th>\n",
       "      <td>Time to Buy Amazon's Stock as Q1 Earnings Appr...</td>\n",
       "      <td>2024-04-29T23:46:00Z</td>\n",
       "    </tr>\n",
       "  </tbody>\n",
       "</table>\n",
       "<p>809 rows × 2 columns</p>\n",
       "</div>"
      ],
      "text/plain": [
       "                                                 title         published_utc\n",
       "0    Nvidia, Meta, Microsoft And Amazon Among Dan N...  2024-03-04T07:05:54Z\n",
       "1    The Nasdaq Ends February at a Record High. Cou...  2024-03-04T10:01:00Z\n",
       "2    5 Stock(s) That Artificial Intelligence (AI) C...  2024-03-04T10:10:00Z\n",
       "3    The Zacks Analyst Blog Highlights Amazon.com, ...  2024-03-04T10:33:00Z\n",
       "4               Is It Too Late to Buy Snowflake Stock?  2024-03-04T11:05:00Z\n",
       "..                                                 ...                   ...\n",
       "804           Wall Street to Start a Very Crucial Week  2024-04-29T14:57:00Z\n",
       "805  Top Stock Reports for NVIDIA, Alphabet & Amazo...  2024-04-29T17:31:00Z\n",
       "806  US Stocks Kick Off The Week In The Green, Tesl...  2024-04-29T18:14:53Z\n",
       "807  Markets Up on Tesla, Q1 Earnings; Q1 Beats Aft...  2024-04-29T22:10:00Z\n",
       "808  Time to Buy Amazon's Stock as Q1 Earnings Appr...  2024-04-29T23:46:00Z\n",
       "\n",
       "[809 rows x 2 columns]"
      ]
     },
     "execution_count": 98,
     "metadata": {},
     "output_type": "execute_result"
    }
   ],
   "source": [
    "df14"
   ]
  },
  {
   "cell_type": "code",
   "execution_count": 99,
   "id": "b4eb7825-fc64-436d-9c00-cf2cf6ea3f17",
   "metadata": {},
   "outputs": [],
   "source": [
    "dataframes=[df1,df2,df3,df4,df5,df6,df7,df8,df9,df10,df11,df12,df13,df14]\n",
    "merged_df=pd.concat(dataframes,ignore_index=True)"
   ]
  },
  {
   "cell_type": "code",
   "execution_count": 100,
   "id": "6b2079f5-eeec-44e3-ba84-df0c50942c57",
   "metadata": {},
   "outputs": [
    {
     "name": "stdout",
     "output_type": "stream",
     "text": [
      "<class 'pandas.core.frame.DataFrame'>\n",
      "RangeIndex: 13799 entries, 0 to 13798\n",
      "Data columns (total 2 columns):\n",
      " #   Column         Non-Null Count  Dtype \n",
      "---  ------         --------------  ----- \n",
      " 0   title          13799 non-null  object\n",
      " 1   published_utc  13799 non-null  object\n",
      "dtypes: object(2)\n",
      "memory usage: 215.7+ KB\n"
     ]
    }
   ],
   "source": [
    "merged_df.info()"
   ]
  },
  {
   "cell_type": "code",
   "execution_count": 101,
   "id": "0f905d56-e6a4-4c0d-9ed3-4b1840cddda6",
   "metadata": {},
   "outputs": [
    {
     "data": {
      "text/plain": [
       "0        2022-01-01T11:06:00Z\n",
       "1        2022-01-01T11:10:00Z\n",
       "2        2022-01-01T11:25:00Z\n",
       "3        2022-01-01T13:15:00Z\n",
       "4        2022-01-01T15:40:00Z\n",
       "                 ...         \n",
       "13794    2024-04-29T14:57:00Z\n",
       "13795    2024-04-29T17:31:00Z\n",
       "13796    2024-04-29T18:14:53Z\n",
       "13797    2024-04-29T22:10:00Z\n",
       "13798    2024-04-29T23:46:00Z\n",
       "Name: published_utc, Length: 13799, dtype: object"
      ]
     },
     "execution_count": 101,
     "metadata": {},
     "output_type": "execute_result"
    }
   ],
   "source": [
    "merged_df['published_utc']"
   ]
  },
  {
   "cell_type": "code",
   "execution_count": 102,
   "id": "7f1e2891-88da-4431-b4f8-30af09e0eb03",
   "metadata": {},
   "outputs": [],
   "source": [
    "merged_df.to_csv(\"merged_dataframes.csv\",index=False)"
   ]
  },
  {
   "cell_type": "code",
   "execution_count": 103,
   "id": "504dc600-d179-4cc3-9eaf-9d9d6251a373",
   "metadata": {},
   "outputs": [],
   "source": [
    "merged_df['published_utc']=merged_df['published_utc'].str.split('T').str[0]"
   ]
  },
  {
   "cell_type": "code",
   "execution_count": 104,
   "id": "0703d572-3ee1-4785-9b32-54acad31b084",
   "metadata": {},
   "outputs": [
    {
     "data": {
      "text/html": [
       "<div>\n",
       "<style scoped>\n",
       "    .dataframe tbody tr th:only-of-type {\n",
       "        vertical-align: middle;\n",
       "    }\n",
       "\n",
       "    .dataframe tbody tr th {\n",
       "        vertical-align: top;\n",
       "    }\n",
       "\n",
       "    .dataframe thead th {\n",
       "        text-align: right;\n",
       "    }\n",
       "</style>\n",
       "<table border=\"1\" class=\"dataframe\">\n",
       "  <thead>\n",
       "    <tr style=\"text-align: right;\">\n",
       "      <th></th>\n",
       "      <th>title</th>\n",
       "      <th>published_utc</th>\n",
       "    </tr>\n",
       "  </thead>\n",
       "  <tbody>\n",
       "    <tr>\n",
       "      <th>0</th>\n",
       "      <td>Investing in This ETF Right Now Could Make You...</td>\n",
       "      <td>2022-01-01</td>\n",
       "    </tr>\n",
       "    <tr>\n",
       "      <th>1</th>\n",
       "      <td>Sea Limited Is Down 40% From Its High. Is It a...</td>\n",
       "      <td>2022-01-01</td>\n",
       "    </tr>\n",
       "    <tr>\n",
       "      <th>2</th>\n",
       "      <td>Will JD.com Be Worth More Than Tesla by 2032?</td>\n",
       "      <td>2022-01-01</td>\n",
       "    </tr>\n",
       "    <tr>\n",
       "      <th>3</th>\n",
       "      <td>Is It Too Late to Buy Shopify Stock?</td>\n",
       "      <td>2022-01-01</td>\n",
       "    </tr>\n",
       "    <tr>\n",
       "      <th>4</th>\n",
       "      <td>Amazon has mostly avoided antitrust scrutiny, ...</td>\n",
       "      <td>2022-01-01</td>\n",
       "    </tr>\n",
       "    <tr>\n",
       "      <th>...</th>\n",
       "      <td>...</td>\n",
       "      <td>...</td>\n",
       "    </tr>\n",
       "    <tr>\n",
       "      <th>13794</th>\n",
       "      <td>Wall Street to Start a Very Crucial Week</td>\n",
       "      <td>2024-04-29</td>\n",
       "    </tr>\n",
       "    <tr>\n",
       "      <th>13795</th>\n",
       "      <td>Top Stock Reports for NVIDIA, Alphabet &amp; Amazo...</td>\n",
       "      <td>2024-04-29</td>\n",
       "    </tr>\n",
       "    <tr>\n",
       "      <th>13796</th>\n",
       "      <td>US Stocks Kick Off The Week In The Green, Tesl...</td>\n",
       "      <td>2024-04-29</td>\n",
       "    </tr>\n",
       "    <tr>\n",
       "      <th>13797</th>\n",
       "      <td>Markets Up on Tesla, Q1 Earnings; Q1 Beats Aft...</td>\n",
       "      <td>2024-04-29</td>\n",
       "    </tr>\n",
       "    <tr>\n",
       "      <th>13798</th>\n",
       "      <td>Time to Buy Amazon's Stock as Q1 Earnings Appr...</td>\n",
       "      <td>2024-04-29</td>\n",
       "    </tr>\n",
       "  </tbody>\n",
       "</table>\n",
       "<p>13799 rows × 2 columns</p>\n",
       "</div>"
      ],
      "text/plain": [
       "                                                   title published_utc\n",
       "0      Investing in This ETF Right Now Could Make You...    2022-01-01\n",
       "1      Sea Limited Is Down 40% From Its High. Is It a...    2022-01-01\n",
       "2          Will JD.com Be Worth More Than Tesla by 2032?    2022-01-01\n",
       "3                   Is It Too Late to Buy Shopify Stock?    2022-01-01\n",
       "4      Amazon has mostly avoided antitrust scrutiny, ...    2022-01-01\n",
       "...                                                  ...           ...\n",
       "13794           Wall Street to Start a Very Crucial Week    2024-04-29\n",
       "13795  Top Stock Reports for NVIDIA, Alphabet & Amazo...    2024-04-29\n",
       "13796  US Stocks Kick Off The Week In The Green, Tesl...    2024-04-29\n",
       "13797  Markets Up on Tesla, Q1 Earnings; Q1 Beats Aft...    2024-04-29\n",
       "13798  Time to Buy Amazon's Stock as Q1 Earnings Appr...    2024-04-29\n",
       "\n",
       "[13799 rows x 2 columns]"
      ]
     },
     "execution_count": 104,
     "metadata": {},
     "output_type": "execute_result"
    }
   ],
   "source": [
    "merged_df"
   ]
  },
  {
   "cell_type": "code",
   "execution_count": 105,
   "id": "b4315ec6-e600-4367-a9c0-1cf6b687b924",
   "metadata": {},
   "outputs": [],
   "source": [
    "date_wise_merged_df=merged_df.groupby('published_utc')['title'].agg(lambda x: ' '.join(x)).reset_index()"
   ]
  },
  {
   "cell_type": "code",
   "execution_count": 106,
   "id": "8189da52-b106-4eb2-88ab-3eaee63bdb06",
   "metadata": {},
   "outputs": [],
   "source": [
    "date_wise_merged_df.to_csv(\"date_wise_merged_df.csv\",index=False)"
   ]
  },
  {
   "cell_type": "code",
   "execution_count": 107,
   "id": "ce279658-3153-4346-adab-733e8a870031",
   "metadata": {},
   "outputs": [
    {
     "data": {
      "text/html": [
       "<div>\n",
       "<style scoped>\n",
       "    .dataframe tbody tr th:only-of-type {\n",
       "        vertical-align: middle;\n",
       "    }\n",
       "\n",
       "    .dataframe tbody tr th {\n",
       "        vertical-align: top;\n",
       "    }\n",
       "\n",
       "    .dataframe thead th {\n",
       "        text-align: right;\n",
       "    }\n",
       "</style>\n",
       "<table border=\"1\" class=\"dataframe\">\n",
       "  <thead>\n",
       "    <tr style=\"text-align: right;\">\n",
       "      <th></th>\n",
       "      <th>published_utc</th>\n",
       "      <th>title</th>\n",
       "    </tr>\n",
       "  </thead>\n",
       "  <tbody>\n",
       "    <tr>\n",
       "      <th>0</th>\n",
       "      <td>2022-01-01</td>\n",
       "      <td>Investing in This ETF Right Now Could Make You...</td>\n",
       "    </tr>\n",
       "    <tr>\n",
       "      <th>1</th>\n",
       "      <td>2022-01-02</td>\n",
       "      <td>3 Best Warren Buffett Stocks to Buy for 2022 H...</td>\n",
       "    </tr>\n",
       "    <tr>\n",
       "      <th>2</th>\n",
       "      <td>2022-01-03</td>\n",
       "      <td>Updating 2021 Calls While Suggesting Strategic...</td>\n",
       "    </tr>\n",
       "    <tr>\n",
       "      <th>3</th>\n",
       "      <td>2022-01-04</td>\n",
       "      <td>The Best Stocks to Invest $1,000 in Right Now ...</td>\n",
       "    </tr>\n",
       "    <tr>\n",
       "      <th>4</th>\n",
       "      <td>2022-01-05</td>\n",
       "      <td>The Zacks Analyst Blog Highlights: Apple, Alph...</td>\n",
       "    </tr>\n",
       "    <tr>\n",
       "      <th>...</th>\n",
       "      <td>...</td>\n",
       "      <td>...</td>\n",
       "    </tr>\n",
       "    <tr>\n",
       "      <th>845</th>\n",
       "      <td>2024-04-25</td>\n",
       "      <td>If You Invested $10,000 in Amazon 10 Years Ago...</td>\n",
       "    </tr>\n",
       "    <tr>\n",
       "      <th>846</th>\n",
       "      <td>2024-04-26</td>\n",
       "      <td>1 Unstoppable Stock That Could Join Microsoft,...</td>\n",
       "    </tr>\n",
       "    <tr>\n",
       "      <th>847</th>\n",
       "      <td>2024-04-27</td>\n",
       "      <td>2 Stocks Down 21% and 34% to Buy Right Now Whe...</td>\n",
       "    </tr>\n",
       "    <tr>\n",
       "      <th>848</th>\n",
       "      <td>2024-04-28</td>\n",
       "      <td>3 Growth Stocks to Buy and Hold Forever Forget...</td>\n",
       "    </tr>\n",
       "    <tr>\n",
       "      <th>849</th>\n",
       "      <td>2024-04-29</td>\n",
       "      <td>Buy The Sell-Off Into The FOMC Meeting, Stay W...</td>\n",
       "    </tr>\n",
       "  </tbody>\n",
       "</table>\n",
       "<p>850 rows × 2 columns</p>\n",
       "</div>"
      ],
      "text/plain": [
       "    published_utc                                              title\n",
       "0      2022-01-01  Investing in This ETF Right Now Could Make You...\n",
       "1      2022-01-02  3 Best Warren Buffett Stocks to Buy for 2022 H...\n",
       "2      2022-01-03  Updating 2021 Calls While Suggesting Strategic...\n",
       "3      2022-01-04  The Best Stocks to Invest $1,000 in Right Now ...\n",
       "4      2022-01-05  The Zacks Analyst Blog Highlights: Apple, Alph...\n",
       "..            ...                                                ...\n",
       "845    2024-04-25  If You Invested $10,000 in Amazon 10 Years Ago...\n",
       "846    2024-04-26  1 Unstoppable Stock That Could Join Microsoft,...\n",
       "847    2024-04-27  2 Stocks Down 21% and 34% to Buy Right Now Whe...\n",
       "848    2024-04-28  3 Growth Stocks to Buy and Hold Forever Forget...\n",
       "849    2024-04-29  Buy The Sell-Off Into The FOMC Meeting, Stay W...\n",
       "\n",
       "[850 rows x 2 columns]"
      ]
     },
     "execution_count": 107,
     "metadata": {},
     "output_type": "execute_result"
    }
   ],
   "source": [
    "date_wise_merged_df"
   ]
  },
  {
   "cell_type": "code",
   "execution_count": 108,
   "id": "3501d2c6-5b6b-46ca-ae8d-749848de1d7e",
   "metadata": {},
   "outputs": [],
   "source": [
    "date_wise_merged_df.to_csv(\"amazon_final.csv\",index=False)"
   ]
  },
  {
   "cell_type": "code",
   "execution_count": null,
   "id": "15063a0d-7172-4d80-9c06-4a4db601e758",
   "metadata": {},
   "outputs": [],
   "source": [
    "# in date_wise_merged_df we dont have 2023-12-31,2024-01-28 news"
   ]
  },
  {
   "cell_type": "code",
   "execution_count": 109,
   "id": "0d9a5086-d1cb-47b6-ac23-5df007617ff7",
   "metadata": {},
   "outputs": [
    {
     "data": {
      "text/plain": [
       "'C:\\\\Users\\\\Jaya Teja\\\\News Data'"
      ]
     },
     "execution_count": 109,
     "metadata": {},
     "output_type": "execute_result"
    }
   ],
   "source": [
    "pwd"
   ]
  },
  {
   "cell_type": "code",
   "execution_count": null,
   "id": "e6ed385d-d7f9-41d9-a891-ce5527fcdd80",
   "metadata": {},
   "outputs": [],
   "source": []
  }
 ],
 "metadata": {
  "kernelspec": {
   "display_name": "Python 3 (ipykernel)",
   "language": "python",
   "name": "python3"
  },
  "language_info": {
   "codemirror_mode": {
    "name": "ipython",
    "version": 3
   },
   "file_extension": ".py",
   "mimetype": "text/x-python",
   "name": "python",
   "nbconvert_exporter": "python",
   "pygments_lexer": "ipython3",
   "version": "3.11.7"
  }
 },
 "nbformat": 4,
 "nbformat_minor": 5
}
